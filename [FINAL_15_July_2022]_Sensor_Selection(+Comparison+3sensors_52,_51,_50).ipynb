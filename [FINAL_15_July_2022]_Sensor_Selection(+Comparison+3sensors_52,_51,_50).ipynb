{
  "cells": [
    {
      "cell_type": "code",
      "execution_count": null,
      "metadata": {
        "colab": {
          "base_uri": "https://localhost:8080/"
        },
        "id": "X158P_68amyf",
        "outputId": "d066a8f1-6a3d-4e97-be41-6132ac388523"
      },
      "outputs": [
        {
          "name": "stdout",
          "output_type": "stream",
          "text": [
            "Mounted at /gdrive\n",
            "/gdrive\n"
          ]
        }
      ],
      "source": [
        "from google.colab import drive\n",
        "drive.mount(\"/gdrive\")\n",
        "%cd /gdrive"
      ]
    },
    {
      "cell_type": "markdown",
      "metadata": {
        "id": "-lQtt87X0xLw"
      },
      "source": [
        "# Work through the notebook"
      ]
    },
    {
      "cell_type": "code",
      "execution_count": null,
      "metadata": {
        "id": "D4qs-FrZa277"
      },
      "outputs": [],
      "source": [
        "# Python Imports\n",
        "import math\n",
        "import time\n",
        "import scipy\n",
        "import datetime\n",
        "import psutil\n",
        "import random\n",
        "\n",
        "# Data Manipulation\n",
        "import pandas as pd\n",
        "import numpy as np\n",
        "\n",
        "# Visualisation\n",
        "import matplotlib.pyplot as plt\n",
        "import seaborn as sns\n",
        "\n",
        "# Machine Learning\n",
        "from sklearn.model_selection import train_test_split\n",
        "from sklearn.tree import DecisionTreeClassifier\n",
        "from sklearn.neighbors import KNeighborsClassifier\n",
        "from sklearn.linear_model import LogisticRegression\n",
        "from sklearn.naive_bayes import GaussianNB\n",
        "from sklearn.ensemble import GradientBoostingClassifier, RandomForestClassifier\n",
        "from sklearn.svm import SVC\n",
        "from xgboost import XGBClassifier\n",
        "from sklearn.metrics import classification_report\n",
        "from sklearn.metrics import accuracy_score\n",
        "from sklearn.metrics.pairwise import euclidean_distances\n",
        "\n",
        "from statistics import mean"
      ]
    },
    {
      "cell_type": "code",
      "execution_count": null,
      "metadata": {
        "id": "WuQfOvnXONMk"
      },
      "outputs": [],
      "source": [
        "sns.set_style(\"whitegrid\")"
      ]
    },
    {
      "cell_type": "markdown",
      "metadata": {
        "id": "B3nCZrFs042E"
      },
      "source": [
        "Loading the data"
      ]
    },
    {
      "cell_type": "code",
      "execution_count": null,
      "metadata": {
        "colab": {
          "base_uri": "https://localhost:8080/",
          "height": 609
        },
        "id": "h10NHqOTeEtP",
        "outputId": "45967250-f3dd-47d6-ba93-542d2a1be750"
      },
      "outputs": [
        {
          "output_type": "execute_result",
          "data": {
            "text/plain": [
              "          Time    52_temp  52_humidity  52_M2  52_M1  51_temp  51_humidity  \\\n",
              "0     18:01:32  26.700001    62.200001      1    0.0     27.9    68.199997   \n",
              "1     18:01:33  26.700001    62.200001      1    0.0     27.9    68.199997   \n",
              "2     18:01:34  26.700001    62.200001      1    0.0     27.9    68.199997   \n",
              "3     18:01:35  26.700001    62.200001      1    0.0     27.9    67.900002   \n",
              "4     18:01:36  26.700001    62.200001      0    1.0     27.9    67.900002   \n",
              "...        ...        ...          ...    ...    ...      ...          ...   \n",
              "4634  19:18:51  25.400000    50.200001      0    0.0     26.5    50.900002   \n",
              "4635  19:18:52  25.400000    50.299999      1    1.0     26.5    50.900002   \n",
              "4636  19:18:53  25.400000    50.299999      1    1.0     26.5    50.900002   \n",
              "4637  19:18:54  25.400000    50.299999      1    1.0     26.6    50.900002   \n",
              "4638  19:18:55  25.400000    50.200001      1    1.0     26.6    50.900002   \n",
              "\n",
              "      51_M2  51_M1  50_temp  50_humidity  50_M2 50_M1 number of person  \\\n",
              "0       1.0    0.0     24.9    68.500000      1     0                3   \n",
              "1       1.0    0.0     24.9    68.500000      1     0                3   \n",
              "2       1.0    0.0     24.9    68.500000      1     0                3   \n",
              "3       1.0    0.0     24.9    68.199997      1     0                3   \n",
              "4       1.0    0.0     24.9    68.199997      1     0                3   \n",
              "...     ...    ...      ...          ...    ...   ...              ...   \n",
              "4634    1.0    0.0     24.4    54.900002      1     0                0   \n",
              "4635    1.0    0.0     24.4    54.900002      1     0                0   \n",
              "4636    1.0    0.0     24.4    54.900002      1     0                0   \n",
              "4637    1.0    0.0     24.4    54.900002      1     0                0   \n",
              "4638    1.0    0.0     24.4    54.900002      1     0                0   \n",
              "\n",
              "     Type of crowd  weather  Schedule Day_timea Unnamed: 18  \n",
              "0           static   cloudy   holiday   evening              \n",
              "1           static   cloudy   holiday   evening              \n",
              "2           static   cloudy   holiday   evening              \n",
              "3           static   cloudy   holiday   evening              \n",
              "4           static   cloudy   holiday   evening              \n",
              "...            ...      ...       ...       ...         ...  \n",
              "4634      no crowd   cloudy   holiday   evening              \n",
              "4635      no crowd   cloudy   holiday   evening              \n",
              "4636      no crowd   cloudy   holiday   evening              \n",
              "4637      no crowd   cloudy   holiday   evening              \n",
              "4638      no crowd   cloudy   holiday   evening              \n",
              "\n",
              "[4639 rows x 19 columns]"
            ],
            "text/html": [
              "\n",
              "  <div id=\"df-81db971e-f8ea-42fb-ae8c-b1441dd8a7c5\">\n",
              "    <div class=\"colab-df-container\">\n",
              "      <div>\n",
              "<style scoped>\n",
              "    .dataframe tbody tr th:only-of-type {\n",
              "        vertical-align: middle;\n",
              "    }\n",
              "\n",
              "    .dataframe tbody tr th {\n",
              "        vertical-align: top;\n",
              "    }\n",
              "\n",
              "    .dataframe thead th {\n",
              "        text-align: right;\n",
              "    }\n",
              "</style>\n",
              "<table border=\"1\" class=\"dataframe\">\n",
              "  <thead>\n",
              "    <tr style=\"text-align: right;\">\n",
              "      <th></th>\n",
              "      <th>Time</th>\n",
              "      <th>52_temp</th>\n",
              "      <th>52_humidity</th>\n",
              "      <th>52_M2</th>\n",
              "      <th>52_M1</th>\n",
              "      <th>51_temp</th>\n",
              "      <th>51_humidity</th>\n",
              "      <th>51_M2</th>\n",
              "      <th>51_M1</th>\n",
              "      <th>50_temp</th>\n",
              "      <th>50_humidity</th>\n",
              "      <th>50_M2</th>\n",
              "      <th>50_M1</th>\n",
              "      <th>number of person</th>\n",
              "      <th>Type of crowd</th>\n",
              "      <th>weather</th>\n",
              "      <th>Schedule</th>\n",
              "      <th>Day_timea</th>\n",
              "      <th>Unnamed: 18</th>\n",
              "    </tr>\n",
              "  </thead>\n",
              "  <tbody>\n",
              "    <tr>\n",
              "      <th>0</th>\n",
              "      <td>18:01:32</td>\n",
              "      <td>26.700001</td>\n",
              "      <td>62.200001</td>\n",
              "      <td>1</td>\n",
              "      <td>0.0</td>\n",
              "      <td>27.9</td>\n",
              "      <td>68.199997</td>\n",
              "      <td>1.0</td>\n",
              "      <td>0.0</td>\n",
              "      <td>24.9</td>\n",
              "      <td>68.500000</td>\n",
              "      <td>1</td>\n",
              "      <td>0</td>\n",
              "      <td>3</td>\n",
              "      <td>static</td>\n",
              "      <td>cloudy</td>\n",
              "      <td>holiday</td>\n",
              "      <td>evening</td>\n",
              "      <td></td>\n",
              "    </tr>\n",
              "    <tr>\n",
              "      <th>1</th>\n",
              "      <td>18:01:33</td>\n",
              "      <td>26.700001</td>\n",
              "      <td>62.200001</td>\n",
              "      <td>1</td>\n",
              "      <td>0.0</td>\n",
              "      <td>27.9</td>\n",
              "      <td>68.199997</td>\n",
              "      <td>1.0</td>\n",
              "      <td>0.0</td>\n",
              "      <td>24.9</td>\n",
              "      <td>68.500000</td>\n",
              "      <td>1</td>\n",
              "      <td>0</td>\n",
              "      <td>3</td>\n",
              "      <td>static</td>\n",
              "      <td>cloudy</td>\n",
              "      <td>holiday</td>\n",
              "      <td>evening</td>\n",
              "      <td></td>\n",
              "    </tr>\n",
              "    <tr>\n",
              "      <th>2</th>\n",
              "      <td>18:01:34</td>\n",
              "      <td>26.700001</td>\n",
              "      <td>62.200001</td>\n",
              "      <td>1</td>\n",
              "      <td>0.0</td>\n",
              "      <td>27.9</td>\n",
              "      <td>68.199997</td>\n",
              "      <td>1.0</td>\n",
              "      <td>0.0</td>\n",
              "      <td>24.9</td>\n",
              "      <td>68.500000</td>\n",
              "      <td>1</td>\n",
              "      <td>0</td>\n",
              "      <td>3</td>\n",
              "      <td>static</td>\n",
              "      <td>cloudy</td>\n",
              "      <td>holiday</td>\n",
              "      <td>evening</td>\n",
              "      <td></td>\n",
              "    </tr>\n",
              "    <tr>\n",
              "      <th>3</th>\n",
              "      <td>18:01:35</td>\n",
              "      <td>26.700001</td>\n",
              "      <td>62.200001</td>\n",
              "      <td>1</td>\n",
              "      <td>0.0</td>\n",
              "      <td>27.9</td>\n",
              "      <td>67.900002</td>\n",
              "      <td>1.0</td>\n",
              "      <td>0.0</td>\n",
              "      <td>24.9</td>\n",
              "      <td>68.199997</td>\n",
              "      <td>1</td>\n",
              "      <td>0</td>\n",
              "      <td>3</td>\n",
              "      <td>static</td>\n",
              "      <td>cloudy</td>\n",
              "      <td>holiday</td>\n",
              "      <td>evening</td>\n",
              "      <td></td>\n",
              "    </tr>\n",
              "    <tr>\n",
              "      <th>4</th>\n",
              "      <td>18:01:36</td>\n",
              "      <td>26.700001</td>\n",
              "      <td>62.200001</td>\n",
              "      <td>0</td>\n",
              "      <td>1.0</td>\n",
              "      <td>27.9</td>\n",
              "      <td>67.900002</td>\n",
              "      <td>1.0</td>\n",
              "      <td>0.0</td>\n",
              "      <td>24.9</td>\n",
              "      <td>68.199997</td>\n",
              "      <td>1</td>\n",
              "      <td>0</td>\n",
              "      <td>3</td>\n",
              "      <td>static</td>\n",
              "      <td>cloudy</td>\n",
              "      <td>holiday</td>\n",
              "      <td>evening</td>\n",
              "      <td></td>\n",
              "    </tr>\n",
              "    <tr>\n",
              "      <th>...</th>\n",
              "      <td>...</td>\n",
              "      <td>...</td>\n",
              "      <td>...</td>\n",
              "      <td>...</td>\n",
              "      <td>...</td>\n",
              "      <td>...</td>\n",
              "      <td>...</td>\n",
              "      <td>...</td>\n",
              "      <td>...</td>\n",
              "      <td>...</td>\n",
              "      <td>...</td>\n",
              "      <td>...</td>\n",
              "      <td>...</td>\n",
              "      <td>...</td>\n",
              "      <td>...</td>\n",
              "      <td>...</td>\n",
              "      <td>...</td>\n",
              "      <td>...</td>\n",
              "      <td>...</td>\n",
              "    </tr>\n",
              "    <tr>\n",
              "      <th>4634</th>\n",
              "      <td>19:18:51</td>\n",
              "      <td>25.400000</td>\n",
              "      <td>50.200001</td>\n",
              "      <td>0</td>\n",
              "      <td>0.0</td>\n",
              "      <td>26.5</td>\n",
              "      <td>50.900002</td>\n",
              "      <td>1.0</td>\n",
              "      <td>0.0</td>\n",
              "      <td>24.4</td>\n",
              "      <td>54.900002</td>\n",
              "      <td>1</td>\n",
              "      <td>0</td>\n",
              "      <td>0</td>\n",
              "      <td>no crowd</td>\n",
              "      <td>cloudy</td>\n",
              "      <td>holiday</td>\n",
              "      <td>evening</td>\n",
              "      <td></td>\n",
              "    </tr>\n",
              "    <tr>\n",
              "      <th>4635</th>\n",
              "      <td>19:18:52</td>\n",
              "      <td>25.400000</td>\n",
              "      <td>50.299999</td>\n",
              "      <td>1</td>\n",
              "      <td>1.0</td>\n",
              "      <td>26.5</td>\n",
              "      <td>50.900002</td>\n",
              "      <td>1.0</td>\n",
              "      <td>0.0</td>\n",
              "      <td>24.4</td>\n",
              "      <td>54.900002</td>\n",
              "      <td>1</td>\n",
              "      <td>0</td>\n",
              "      <td>0</td>\n",
              "      <td>no crowd</td>\n",
              "      <td>cloudy</td>\n",
              "      <td>holiday</td>\n",
              "      <td>evening</td>\n",
              "      <td></td>\n",
              "    </tr>\n",
              "    <tr>\n",
              "      <th>4636</th>\n",
              "      <td>19:18:53</td>\n",
              "      <td>25.400000</td>\n",
              "      <td>50.299999</td>\n",
              "      <td>1</td>\n",
              "      <td>1.0</td>\n",
              "      <td>26.5</td>\n",
              "      <td>50.900002</td>\n",
              "      <td>1.0</td>\n",
              "      <td>0.0</td>\n",
              "      <td>24.4</td>\n",
              "      <td>54.900002</td>\n",
              "      <td>1</td>\n",
              "      <td>0</td>\n",
              "      <td>0</td>\n",
              "      <td>no crowd</td>\n",
              "      <td>cloudy</td>\n",
              "      <td>holiday</td>\n",
              "      <td>evening</td>\n",
              "      <td></td>\n",
              "    </tr>\n",
              "    <tr>\n",
              "      <th>4637</th>\n",
              "      <td>19:18:54</td>\n",
              "      <td>25.400000</td>\n",
              "      <td>50.299999</td>\n",
              "      <td>1</td>\n",
              "      <td>1.0</td>\n",
              "      <td>26.6</td>\n",
              "      <td>50.900002</td>\n",
              "      <td>1.0</td>\n",
              "      <td>0.0</td>\n",
              "      <td>24.4</td>\n",
              "      <td>54.900002</td>\n",
              "      <td>1</td>\n",
              "      <td>0</td>\n",
              "      <td>0</td>\n",
              "      <td>no crowd</td>\n",
              "      <td>cloudy</td>\n",
              "      <td>holiday</td>\n",
              "      <td>evening</td>\n",
              "      <td></td>\n",
              "    </tr>\n",
              "    <tr>\n",
              "      <th>4638</th>\n",
              "      <td>19:18:55</td>\n",
              "      <td>25.400000</td>\n",
              "      <td>50.200001</td>\n",
              "      <td>1</td>\n",
              "      <td>1.0</td>\n",
              "      <td>26.6</td>\n",
              "      <td>50.900002</td>\n",
              "      <td>1.0</td>\n",
              "      <td>0.0</td>\n",
              "      <td>24.4</td>\n",
              "      <td>54.900002</td>\n",
              "      <td>1</td>\n",
              "      <td>0</td>\n",
              "      <td>0</td>\n",
              "      <td>no crowd</td>\n",
              "      <td>cloudy</td>\n",
              "      <td>holiday</td>\n",
              "      <td>evening</td>\n",
              "      <td></td>\n",
              "    </tr>\n",
              "  </tbody>\n",
              "</table>\n",
              "<p>4639 rows × 19 columns</p>\n",
              "</div>\n",
              "      <button class=\"colab-df-convert\" onclick=\"convertToInteractive('df-81db971e-f8ea-42fb-ae8c-b1441dd8a7c5')\"\n",
              "              title=\"Convert this dataframe to an interactive table.\"\n",
              "              style=\"display:none;\">\n",
              "        \n",
              "  <svg xmlns=\"http://www.w3.org/2000/svg\" height=\"24px\"viewBox=\"0 0 24 24\"\n",
              "       width=\"24px\">\n",
              "    <path d=\"M0 0h24v24H0V0z\" fill=\"none\"/>\n",
              "    <path d=\"M18.56 5.44l.94 2.06.94-2.06 2.06-.94-2.06-.94-.94-2.06-.94 2.06-2.06.94zm-11 1L8.5 8.5l.94-2.06 2.06-.94-2.06-.94L8.5 2.5l-.94 2.06-2.06.94zm10 10l.94 2.06.94-2.06 2.06-.94-2.06-.94-.94-2.06-.94 2.06-2.06.94z\"/><path d=\"M17.41 7.96l-1.37-1.37c-.4-.4-.92-.59-1.43-.59-.52 0-1.04.2-1.43.59L10.3 9.45l-7.72 7.72c-.78.78-.78 2.05 0 2.83L4 21.41c.39.39.9.59 1.41.59.51 0 1.02-.2 1.41-.59l7.78-7.78 2.81-2.81c.8-.78.8-2.07 0-2.86zM5.41 20L4 18.59l7.72-7.72 1.47 1.35L5.41 20z\"/>\n",
              "  </svg>\n",
              "      </button>\n",
              "      \n",
              "  <style>\n",
              "    .colab-df-container {\n",
              "      display:flex;\n",
              "      flex-wrap:wrap;\n",
              "      gap: 12px;\n",
              "    }\n",
              "\n",
              "    .colab-df-convert {\n",
              "      background-color: #E8F0FE;\n",
              "      border: none;\n",
              "      border-radius: 50%;\n",
              "      cursor: pointer;\n",
              "      display: none;\n",
              "      fill: #1967D2;\n",
              "      height: 32px;\n",
              "      padding: 0 0 0 0;\n",
              "      width: 32px;\n",
              "    }\n",
              "\n",
              "    .colab-df-convert:hover {\n",
              "      background-color: #E2EBFA;\n",
              "      box-shadow: 0px 1px 2px rgba(60, 64, 67, 0.3), 0px 1px 3px 1px rgba(60, 64, 67, 0.15);\n",
              "      fill: #174EA6;\n",
              "    }\n",
              "\n",
              "    [theme=dark] .colab-df-convert {\n",
              "      background-color: #3B4455;\n",
              "      fill: #D2E3FC;\n",
              "    }\n",
              "\n",
              "    [theme=dark] .colab-df-convert:hover {\n",
              "      background-color: #434B5C;\n",
              "      box-shadow: 0px 1px 3px 1px rgba(0, 0, 0, 0.15);\n",
              "      filter: drop-shadow(0px 1px 2px rgba(0, 0, 0, 0.3));\n",
              "      fill: #FFFFFF;\n",
              "    }\n",
              "  </style>\n",
              "\n",
              "      <script>\n",
              "        const buttonEl =\n",
              "          document.querySelector('#df-81db971e-f8ea-42fb-ae8c-b1441dd8a7c5 button.colab-df-convert');\n",
              "        buttonEl.style.display =\n",
              "          google.colab.kernel.accessAllowed ? 'block' : 'none';\n",
              "\n",
              "        async function convertToInteractive(key) {\n",
              "          const element = document.querySelector('#df-81db971e-f8ea-42fb-ae8c-b1441dd8a7c5');\n",
              "          const dataTable =\n",
              "            await google.colab.kernel.invokeFunction('convertToInteractive',\n",
              "                                                     [key], {});\n",
              "          if (!dataTable) return;\n",
              "\n",
              "          const docLinkHtml = 'Like what you see? Visit the ' +\n",
              "            '<a target=\"_blank\" href=https://colab.research.google.com/notebooks/data_table.ipynb>data table notebook</a>'\n",
              "            + ' to learn more about interactive tables.';\n",
              "          element.innerHTML = '';\n",
              "          dataTable['output_type'] = 'display_data';\n",
              "          await google.colab.output.renderOutput(dataTable, element);\n",
              "          const docLink = document.createElement('div');\n",
              "          docLink.innerHTML = docLinkHtml;\n",
              "          element.appendChild(docLink);\n",
              "        }\n",
              "      </script>\n",
              "    </div>\n",
              "  </div>\n",
              "  "
            ]
          },
          "metadata": {},
          "execution_count": 280
        }
      ],
      "source": [
        "#import df\n",
        "df = pd.read_csv(\"/gdrive/My Drive/sensor_data/01-06/C2/c2_combine.csv\")\n",
        "df"
      ]
    },
    {
      "cell_type": "code",
      "execution_count": null,
      "metadata": {
        "colab": {
          "base_uri": "https://localhost:8080/"
        },
        "id": "r5LMIIyDicd3",
        "outputId": "e6e6ba9f-c543-46fa-918b-16246c95f651"
      },
      "outputs": [
        {
          "output_type": "execute_result",
          "data": {
            "text/plain": [
              "array(['3', ' cloudy', '2', ' static', '4', ' random', '1', '6', '7', '0'],\n",
              "      dtype=object)"
            ]
          },
          "metadata": {},
          "execution_count": 281
        }
      ],
      "source": [
        "df[\"number of person\"].unique()"
      ]
    },
    {
      "cell_type": "code",
      "execution_count": null,
      "metadata": {
        "colab": {
          "base_uri": "https://localhost:8080/"
        },
        "id": "y0fGrnwuiw9r",
        "outputId": "92dfdf7f-d2f6-495c-cf14-6465ef84ac03"
      },
      "outputs": [
        {
          "output_type": "stream",
          "name": "stdout",
          "text": [
            "Time                6\n",
            "52_temp             6\n",
            "52_humidity         6\n",
            "52_M2               6\n",
            "52_M1               6\n",
            "51_temp             6\n",
            "51_humidity         6\n",
            "51_M2               6\n",
            "51_M1               6\n",
            "50_temp             6\n",
            "50_humidity         6\n",
            "50_M2               6\n",
            "50_M1               6\n",
            "number of person    6\n",
            "Type of crowd       6\n",
            "weather             6\n",
            "Schedule            6\n",
            "Day_timea           0\n",
            "Unnamed: 18         0\n",
            "dtype: int64\n",
            "Time                12\n",
            "52_temp             12\n",
            "52_humidity         12\n",
            "52_M2               12\n",
            "52_M1               12\n",
            "51_temp             12\n",
            "51_humidity         12\n",
            "51_M2               12\n",
            "51_M1               12\n",
            "50_temp             12\n",
            "50_humidity         12\n",
            "50_M2               12\n",
            "50_M1               12\n",
            "number of person    12\n",
            "Type of crowd       12\n",
            "weather             12\n",
            "Schedule            12\n",
            "Day_timea           12\n",
            "Unnamed: 18          0\n",
            "dtype: int64\n",
            "Time                3\n",
            "52_temp             3\n",
            "52_humidity         3\n",
            "52_M2               3\n",
            "52_M1               3\n",
            "51_temp             3\n",
            "51_humidity         3\n",
            "51_M2               3\n",
            "51_M1               3\n",
            "50_temp             3\n",
            "50_humidity         3\n",
            "50_M2               3\n",
            "50_M1               3\n",
            "number of person    3\n",
            "Type of crowd       3\n",
            "weather             3\n",
            "Schedule            3\n",
            "Day_timea           3\n",
            "Unnamed: 18         0\n",
            "dtype: int64\n"
          ]
        }
      ],
      "source": [
        "print(df[df[\"number of person\"] == \" cloudy\"].count())\n",
        "print(df[df[\"number of person\"] == \" static\"].count())\n",
        "print(df[df[\"number of person\"] == \" random\"].count())"
      ]
    },
    {
      "cell_type": "code",
      "execution_count": null,
      "metadata": {
        "colab": {
          "base_uri": "https://localhost:8080/"
        },
        "id": "wuq6wS2IlrV3",
        "outputId": "026f60b6-ea57-4770-8f85-1b2a7275db25"
      },
      "outputs": [
        {
          "output_type": "execute_result",
          "data": {
            "text/plain": [
              "0.4526837680534598"
            ]
          },
          "metadata": {},
          "execution_count": 283
        }
      ],
      "source": [
        "21/df.shape[0]*100"
      ]
    },
    {
      "cell_type": "code",
      "execution_count": null,
      "metadata": {
        "id": "VUWGvr7lmPKp"
      },
      "outputs": [],
      "source": [
        "#drop \n",
        "df.drop(df.loc[df[\"number of person\"]==\" cloudy\"].index, inplace=True)\n",
        "df.drop(df.loc[df[\"number of person\"]==\" static\"].index, inplace=True)\n",
        "df.drop(df.loc[df[\"number of person\"]==\" random\"].index, inplace=True)"
      ]
    },
    {
      "cell_type": "code",
      "execution_count": null,
      "metadata": {
        "colab": {
          "base_uri": "https://localhost:8080/"
        },
        "id": "Klqh3R3Tmruf",
        "outputId": "9bbe6c3a-18a7-4df0-de2e-ed459e2da00c"
      },
      "outputs": [
        {
          "output_type": "execute_result",
          "data": {
            "text/plain": [
              "array(['3', '2', '4', '1', '6', '7', '0'], dtype=object)"
            ]
          },
          "metadata": {},
          "execution_count": 285
        }
      ],
      "source": [
        "#check\n",
        "df[\"number of person\"].unique()"
      ]
    },
    {
      "cell_type": "code",
      "execution_count": null,
      "metadata": {
        "colab": {
          "base_uri": "https://localhost:8080/"
        },
        "id": "GgYHIYNniP7I",
        "outputId": "6535d9c1-fe23-4629-c87d-929e79b0b1b0"
      },
      "outputs": [
        {
          "output_type": "stream",
          "name": "stdout",
          "text": [
            "Percentage of false values 300\n",
            "Pecentage of true values 4318\n"
          ]
        }
      ],
      "source": [
        "print(\"Percentage of false values\", len(df[df[\"number of person\"] == \"0\"]))\n",
        "print(\"Pecentage of true values\", len(df[df[\"number of person\"] != \"0\"]))"
      ]
    },
    {
      "cell_type": "code",
      "execution_count": null,
      "metadata": {
        "id": "BKWh26EYoe_6"
      },
      "outputs": [],
      "source": [
        "np.random.seed(10)\n",
        "\n",
        "remove_n = 3583\n",
        "df_ = df.loc[df[\"number of person\"] !=\"0\"]\n",
        "drop_indices = np.random.choice(df_.index, remove_n, replace=False)\n",
        "df = df.drop(drop_indices)"
      ]
    },
    {
      "cell_type": "code",
      "execution_count": null,
      "metadata": {
        "colab": {
          "base_uri": "https://localhost:8080/"
        },
        "id": "kcIfm2HbpCev",
        "outputId": "daf50f93-8872-489b-a5e0-c81860687d0d"
      },
      "outputs": [
        {
          "output_type": "stream",
          "name": "stdout",
          "text": [
            "Percentage of false values 0.2898550724637681\n",
            "Pecentage of true values 0.7101449275362319\n"
          ]
        }
      ],
      "source": [
        "print(\"Percentage of false values\", len(df[df[\"number of person\"] == \"0\"])/df.shape[0])\n",
        "print(\"Pecentage of true values\", len(df[df[\"number of person\"] != \"0\"])/df.shape[0])"
      ]
    },
    {
      "cell_type": "code",
      "execution_count": null,
      "metadata": {
        "id": "yENMmTlZpQVf"
      },
      "outputs": [],
      "source": [
        "df[\"number of person\"].replace(\"0\", 0, inplace=True)\n",
        "df[\"number of person\"].replace(\"1\", 1, inplace=True)\n",
        "df[\"number of person\"].replace(\"2\", 1, inplace=True)\n",
        "df[\"number of person\"].replace(\"3\", 1, inplace=True)\n",
        "df[\"number of person\"].replace(\"4\", 1, inplace=True)\n",
        "df[\"number of person\"].replace(\"6\", 1, inplace=True)\n",
        "df[\"number of person\"].replace(\"7\", 1, inplace=True)"
      ]
    },
    {
      "cell_type": "code",
      "execution_count": null,
      "metadata": {
        "colab": {
          "base_uri": "https://localhost:8080/"
        },
        "id": "EnK9MUoap5hO",
        "outputId": "238e6a7d-5ebb-49f4-fb7b-9491b8961f37"
      },
      "outputs": [
        {
          "output_type": "stream",
          "name": "stdout",
          "text": [
            "Percentage of false values 0.2898550724637681\n",
            "Pecentage of true values 0.7101449275362319\n"
          ]
        }
      ],
      "source": [
        "print(\"Percentage of false values\", len(df[df[\"number of person\"] == 0])/df.shape[0])\n",
        "print(\"Pecentage of true values\", len(df[df[\"number of person\"] != 0])/df.shape[0])"
      ]
    },
    {
      "cell_type": "code",
      "execution_count": null,
      "metadata": {
        "colab": {
          "base_uri": "https://localhost:8080/"
        },
        "id": "aG8mdkCAvAOU",
        "outputId": "f46563a6-6727-409f-d89a-586e471b9eab"
      },
      "outputs": [
        {
          "output_type": "execute_result",
          "data": {
            "text/plain": [
              "array([1, 0])"
            ]
          },
          "metadata": {},
          "execution_count": 291
        }
      ],
      "source": [
        "df[\"number of person\"].unique()"
      ]
    },
    {
      "cell_type": "code",
      "execution_count": null,
      "metadata": {
        "colab": {
          "base_uri": "https://localhost:8080/"
        },
        "id": "dcB9M_wigu4n",
        "outputId": "de765b48-e8e6-4c30-d1c3-5b2928ec4a94"
      },
      "outputs": [
        {
          "output_type": "execute_result",
          "data": {
            "text/plain": [
              "Time                0\n",
              "52_temp             0\n",
              "52_humidity         0\n",
              "52_M2               0\n",
              "52_M1               0\n",
              "51_temp             0\n",
              "51_humidity         0\n",
              "51_M2               0\n",
              "51_M1               0\n",
              "50_temp             0\n",
              "50_humidity         0\n",
              "50_M2               0\n",
              "50_M1               0\n",
              "number of person    0\n",
              "Type of crowd       0\n",
              "weather             0\n",
              "Schedule            0\n",
              "Day_timea           0\n",
              "Unnamed: 18         0\n",
              "dtype: int64"
            ]
          },
          "metadata": {},
          "execution_count": 292
        }
      ],
      "source": [
        "#check for any discrepancies in the dataset\n",
        "df.isna().sum()"
      ]
    },
    {
      "cell_type": "code",
      "execution_count": null,
      "metadata": {
        "colab": {
          "base_uri": "https://localhost:8080/"
        },
        "id": "pGDfqF4VhHSZ",
        "outputId": "efb36675-8d3e-44fe-cc6b-ba9eadd835c5"
      },
      "outputs": [
        {
          "output_type": "stream",
          "name": "stdout",
          "text": [
            "Index(['Time', '52_temp', '52_humidity', '52_M2', '52_M1', '51_temp',\n",
            "       '51_humidity', '51_M2', '51_M1', '50_temp', '50_humidity', '50_M2',\n",
            "       '50_M1', 'number of person', 'Type of crowd', 'weather', 'Schedule',\n",
            "       'Day_timea', 'Unnamed: 18'],\n",
            "      dtype='object')\n"
          ]
        }
      ],
      "source": [
        "#check for column names\n",
        "print(df.columns)"
      ]
    },
    {
      "cell_type": "code",
      "execution_count": null,
      "metadata": {
        "colab": {
          "base_uri": "https://localhost:8080/"
        },
        "id": "M1K-RCMvqXPb",
        "outputId": "736f7534-f2b6-4aac-eff4-8bc6c88daf33"
      },
      "outputs": [
        {
          "output_type": "stream",
          "name": "stdout",
          "text": [
            "Index(['Time', '52_temp', '52_humidity', '52_M2', '52_M1', '51_temp',\n",
            "       '51_humidity', '51_M2', '51_M1', '50_temp', '50_humidity', '50_M2',\n",
            "       '50_M1', 'number of person'],\n",
            "      dtype='object')\n"
          ]
        }
      ],
      "source": [
        "df.drop(columns = [\"Type of crowd\", \"weather\", \"Schedule\", \"Day_timea\", \"Unnamed: 18\"], inplace = True)\n",
        "print(df.columns)"
      ]
    },
    {
      "cell_type": "code",
      "execution_count": null,
      "metadata": {
        "id": "oVYW5yAartGQ"
      },
      "outputs": [],
      "source": [
        "df[\"Time\"] = pd.to_timedelta(df[\"Time\"])"
      ]
    },
    {
      "cell_type": "code",
      "execution_count": null,
      "metadata": {
        "colab": {
          "base_uri": "https://localhost:8080/",
          "height": 424
        },
        "id": "liX6AbSdZ1Sr",
        "outputId": "7d1a5213-a2a4-4f29-e232-e2666c10077c"
      },
      "outputs": [
        {
          "output_type": "execute_result",
          "data": {
            "text/plain": [
              "                Time    52_temp  52_humidity  52_M2  52_M1    51_temp  \\\n",
              "0    0 days 18:01:32  26.700001    62.200001      1    0.0  27.900000   \n",
              "14   0 days 18:01:46  26.700001    62.400002      0    1.0  27.900000   \n",
              "15   0 days 18:01:47  26.700001    62.400002      0    1.0  27.900000   \n",
              "26   0 days 18:01:58  26.600000    62.500000      1    0.0  27.799999   \n",
              "44   0 days 18:02:16  26.600000    62.799999      0    1.0  27.799999   \n",
              "...              ...        ...          ...    ...    ...        ...   \n",
              "4634 0 days 19:18:51  25.400000    50.200001      0    0.0  26.500000   \n",
              "4635 0 days 19:18:52  25.400000    50.299999      1    1.0  26.500000   \n",
              "4636 0 days 19:18:53  25.400000    50.299999      1    1.0  26.500000   \n",
              "4637 0 days 19:18:54  25.400000    50.299999      1    1.0  26.600000   \n",
              "4638 0 days 19:18:55  25.400000    50.200001      1    1.0  26.600000   \n",
              "\n",
              "      51_humidity  51_M2  51_M1    50_temp  50_humidity  50_M2 50_M1  \\\n",
              "0       68.199997    1.0    0.0  24.900000    68.500000      1     0   \n",
              "14      67.900002    1.0    0.0  24.799999    67.800003      1     1   \n",
              "15      67.900002    1.0    1.0  24.799999    67.800003      1     1   \n",
              "26      66.800003    1.0    0.0  24.799999    67.900002      1     1   \n",
              "44      65.500000    1.0    0.0  24.700001    67.599998      1     0   \n",
              "...           ...    ...    ...        ...          ...    ...   ...   \n",
              "4634    50.900002    1.0    0.0  24.400000    54.900002      1     0   \n",
              "4635    50.900002    1.0    0.0  24.400000    54.900002      1     0   \n",
              "4636    50.900002    1.0    0.0  24.400000    54.900002      1     0   \n",
              "4637    50.900002    1.0    0.0  24.400000    54.900002      1     0   \n",
              "4638    50.900002    1.0    0.0  24.400000    54.900002      1     0   \n",
              "\n",
              "      number of person  \n",
              "0                    1  \n",
              "14                   1  \n",
              "15                   1  \n",
              "26                   1  \n",
              "44                   1  \n",
              "...                ...  \n",
              "4634                 0  \n",
              "4635                 0  \n",
              "4636                 0  \n",
              "4637                 0  \n",
              "4638                 0  \n",
              "\n",
              "[1035 rows x 14 columns]"
            ],
            "text/html": [
              "\n",
              "  <div id=\"df-3464d34e-9fa4-4b63-882f-e6f7a340a422\">\n",
              "    <div class=\"colab-df-container\">\n",
              "      <div>\n",
              "<style scoped>\n",
              "    .dataframe tbody tr th:only-of-type {\n",
              "        vertical-align: middle;\n",
              "    }\n",
              "\n",
              "    .dataframe tbody tr th {\n",
              "        vertical-align: top;\n",
              "    }\n",
              "\n",
              "    .dataframe thead th {\n",
              "        text-align: right;\n",
              "    }\n",
              "</style>\n",
              "<table border=\"1\" class=\"dataframe\">\n",
              "  <thead>\n",
              "    <tr style=\"text-align: right;\">\n",
              "      <th></th>\n",
              "      <th>Time</th>\n",
              "      <th>52_temp</th>\n",
              "      <th>52_humidity</th>\n",
              "      <th>52_M2</th>\n",
              "      <th>52_M1</th>\n",
              "      <th>51_temp</th>\n",
              "      <th>51_humidity</th>\n",
              "      <th>51_M2</th>\n",
              "      <th>51_M1</th>\n",
              "      <th>50_temp</th>\n",
              "      <th>50_humidity</th>\n",
              "      <th>50_M2</th>\n",
              "      <th>50_M1</th>\n",
              "      <th>number of person</th>\n",
              "    </tr>\n",
              "  </thead>\n",
              "  <tbody>\n",
              "    <tr>\n",
              "      <th>0</th>\n",
              "      <td>0 days 18:01:32</td>\n",
              "      <td>26.700001</td>\n",
              "      <td>62.200001</td>\n",
              "      <td>1</td>\n",
              "      <td>0.0</td>\n",
              "      <td>27.900000</td>\n",
              "      <td>68.199997</td>\n",
              "      <td>1.0</td>\n",
              "      <td>0.0</td>\n",
              "      <td>24.900000</td>\n",
              "      <td>68.500000</td>\n",
              "      <td>1</td>\n",
              "      <td>0</td>\n",
              "      <td>1</td>\n",
              "    </tr>\n",
              "    <tr>\n",
              "      <th>14</th>\n",
              "      <td>0 days 18:01:46</td>\n",
              "      <td>26.700001</td>\n",
              "      <td>62.400002</td>\n",
              "      <td>0</td>\n",
              "      <td>1.0</td>\n",
              "      <td>27.900000</td>\n",
              "      <td>67.900002</td>\n",
              "      <td>1.0</td>\n",
              "      <td>0.0</td>\n",
              "      <td>24.799999</td>\n",
              "      <td>67.800003</td>\n",
              "      <td>1</td>\n",
              "      <td>1</td>\n",
              "      <td>1</td>\n",
              "    </tr>\n",
              "    <tr>\n",
              "      <th>15</th>\n",
              "      <td>0 days 18:01:47</td>\n",
              "      <td>26.700001</td>\n",
              "      <td>62.400002</td>\n",
              "      <td>0</td>\n",
              "      <td>1.0</td>\n",
              "      <td>27.900000</td>\n",
              "      <td>67.900002</td>\n",
              "      <td>1.0</td>\n",
              "      <td>1.0</td>\n",
              "      <td>24.799999</td>\n",
              "      <td>67.800003</td>\n",
              "      <td>1</td>\n",
              "      <td>1</td>\n",
              "      <td>1</td>\n",
              "    </tr>\n",
              "    <tr>\n",
              "      <th>26</th>\n",
              "      <td>0 days 18:01:58</td>\n",
              "      <td>26.600000</td>\n",
              "      <td>62.500000</td>\n",
              "      <td>1</td>\n",
              "      <td>0.0</td>\n",
              "      <td>27.799999</td>\n",
              "      <td>66.800003</td>\n",
              "      <td>1.0</td>\n",
              "      <td>0.0</td>\n",
              "      <td>24.799999</td>\n",
              "      <td>67.900002</td>\n",
              "      <td>1</td>\n",
              "      <td>1</td>\n",
              "      <td>1</td>\n",
              "    </tr>\n",
              "    <tr>\n",
              "      <th>44</th>\n",
              "      <td>0 days 18:02:16</td>\n",
              "      <td>26.600000</td>\n",
              "      <td>62.799999</td>\n",
              "      <td>0</td>\n",
              "      <td>1.0</td>\n",
              "      <td>27.799999</td>\n",
              "      <td>65.500000</td>\n",
              "      <td>1.0</td>\n",
              "      <td>0.0</td>\n",
              "      <td>24.700001</td>\n",
              "      <td>67.599998</td>\n",
              "      <td>1</td>\n",
              "      <td>0</td>\n",
              "      <td>1</td>\n",
              "    </tr>\n",
              "    <tr>\n",
              "      <th>...</th>\n",
              "      <td>...</td>\n",
              "      <td>...</td>\n",
              "      <td>...</td>\n",
              "      <td>...</td>\n",
              "      <td>...</td>\n",
              "      <td>...</td>\n",
              "      <td>...</td>\n",
              "      <td>...</td>\n",
              "      <td>...</td>\n",
              "      <td>...</td>\n",
              "      <td>...</td>\n",
              "      <td>...</td>\n",
              "      <td>...</td>\n",
              "      <td>...</td>\n",
              "    </tr>\n",
              "    <tr>\n",
              "      <th>4634</th>\n",
              "      <td>0 days 19:18:51</td>\n",
              "      <td>25.400000</td>\n",
              "      <td>50.200001</td>\n",
              "      <td>0</td>\n",
              "      <td>0.0</td>\n",
              "      <td>26.500000</td>\n",
              "      <td>50.900002</td>\n",
              "      <td>1.0</td>\n",
              "      <td>0.0</td>\n",
              "      <td>24.400000</td>\n",
              "      <td>54.900002</td>\n",
              "      <td>1</td>\n",
              "      <td>0</td>\n",
              "      <td>0</td>\n",
              "    </tr>\n",
              "    <tr>\n",
              "      <th>4635</th>\n",
              "      <td>0 days 19:18:52</td>\n",
              "      <td>25.400000</td>\n",
              "      <td>50.299999</td>\n",
              "      <td>1</td>\n",
              "      <td>1.0</td>\n",
              "      <td>26.500000</td>\n",
              "      <td>50.900002</td>\n",
              "      <td>1.0</td>\n",
              "      <td>0.0</td>\n",
              "      <td>24.400000</td>\n",
              "      <td>54.900002</td>\n",
              "      <td>1</td>\n",
              "      <td>0</td>\n",
              "      <td>0</td>\n",
              "    </tr>\n",
              "    <tr>\n",
              "      <th>4636</th>\n",
              "      <td>0 days 19:18:53</td>\n",
              "      <td>25.400000</td>\n",
              "      <td>50.299999</td>\n",
              "      <td>1</td>\n",
              "      <td>1.0</td>\n",
              "      <td>26.500000</td>\n",
              "      <td>50.900002</td>\n",
              "      <td>1.0</td>\n",
              "      <td>0.0</td>\n",
              "      <td>24.400000</td>\n",
              "      <td>54.900002</td>\n",
              "      <td>1</td>\n",
              "      <td>0</td>\n",
              "      <td>0</td>\n",
              "    </tr>\n",
              "    <tr>\n",
              "      <th>4637</th>\n",
              "      <td>0 days 19:18:54</td>\n",
              "      <td>25.400000</td>\n",
              "      <td>50.299999</td>\n",
              "      <td>1</td>\n",
              "      <td>1.0</td>\n",
              "      <td>26.600000</td>\n",
              "      <td>50.900002</td>\n",
              "      <td>1.0</td>\n",
              "      <td>0.0</td>\n",
              "      <td>24.400000</td>\n",
              "      <td>54.900002</td>\n",
              "      <td>1</td>\n",
              "      <td>0</td>\n",
              "      <td>0</td>\n",
              "    </tr>\n",
              "    <tr>\n",
              "      <th>4638</th>\n",
              "      <td>0 days 19:18:55</td>\n",
              "      <td>25.400000</td>\n",
              "      <td>50.200001</td>\n",
              "      <td>1</td>\n",
              "      <td>1.0</td>\n",
              "      <td>26.600000</td>\n",
              "      <td>50.900002</td>\n",
              "      <td>1.0</td>\n",
              "      <td>0.0</td>\n",
              "      <td>24.400000</td>\n",
              "      <td>54.900002</td>\n",
              "      <td>1</td>\n",
              "      <td>0</td>\n",
              "      <td>0</td>\n",
              "    </tr>\n",
              "  </tbody>\n",
              "</table>\n",
              "<p>1035 rows × 14 columns</p>\n",
              "</div>\n",
              "      <button class=\"colab-df-convert\" onclick=\"convertToInteractive('df-3464d34e-9fa4-4b63-882f-e6f7a340a422')\"\n",
              "              title=\"Convert this dataframe to an interactive table.\"\n",
              "              style=\"display:none;\">\n",
              "        \n",
              "  <svg xmlns=\"http://www.w3.org/2000/svg\" height=\"24px\"viewBox=\"0 0 24 24\"\n",
              "       width=\"24px\">\n",
              "    <path d=\"M0 0h24v24H0V0z\" fill=\"none\"/>\n",
              "    <path d=\"M18.56 5.44l.94 2.06.94-2.06 2.06-.94-2.06-.94-.94-2.06-.94 2.06-2.06.94zm-11 1L8.5 8.5l.94-2.06 2.06-.94-2.06-.94L8.5 2.5l-.94 2.06-2.06.94zm10 10l.94 2.06.94-2.06 2.06-.94-2.06-.94-.94-2.06-.94 2.06-2.06.94z\"/><path d=\"M17.41 7.96l-1.37-1.37c-.4-.4-.92-.59-1.43-.59-.52 0-1.04.2-1.43.59L10.3 9.45l-7.72 7.72c-.78.78-.78 2.05 0 2.83L4 21.41c.39.39.9.59 1.41.59.51 0 1.02-.2 1.41-.59l7.78-7.78 2.81-2.81c.8-.78.8-2.07 0-2.86zM5.41 20L4 18.59l7.72-7.72 1.47 1.35L5.41 20z\"/>\n",
              "  </svg>\n",
              "      </button>\n",
              "      \n",
              "  <style>\n",
              "    .colab-df-container {\n",
              "      display:flex;\n",
              "      flex-wrap:wrap;\n",
              "      gap: 12px;\n",
              "    }\n",
              "\n",
              "    .colab-df-convert {\n",
              "      background-color: #E8F0FE;\n",
              "      border: none;\n",
              "      border-radius: 50%;\n",
              "      cursor: pointer;\n",
              "      display: none;\n",
              "      fill: #1967D2;\n",
              "      height: 32px;\n",
              "      padding: 0 0 0 0;\n",
              "      width: 32px;\n",
              "    }\n",
              "\n",
              "    .colab-df-convert:hover {\n",
              "      background-color: #E2EBFA;\n",
              "      box-shadow: 0px 1px 2px rgba(60, 64, 67, 0.3), 0px 1px 3px 1px rgba(60, 64, 67, 0.15);\n",
              "      fill: #174EA6;\n",
              "    }\n",
              "\n",
              "    [theme=dark] .colab-df-convert {\n",
              "      background-color: #3B4455;\n",
              "      fill: #D2E3FC;\n",
              "    }\n",
              "\n",
              "    [theme=dark] .colab-df-convert:hover {\n",
              "      background-color: #434B5C;\n",
              "      box-shadow: 0px 1px 3px 1px rgba(0, 0, 0, 0.15);\n",
              "      filter: drop-shadow(0px 1px 2px rgba(0, 0, 0, 0.3));\n",
              "      fill: #FFFFFF;\n",
              "    }\n",
              "  </style>\n",
              "\n",
              "      <script>\n",
              "        const buttonEl =\n",
              "          document.querySelector('#df-3464d34e-9fa4-4b63-882f-e6f7a340a422 button.colab-df-convert');\n",
              "        buttonEl.style.display =\n",
              "          google.colab.kernel.accessAllowed ? 'block' : 'none';\n",
              "\n",
              "        async function convertToInteractive(key) {\n",
              "          const element = document.querySelector('#df-3464d34e-9fa4-4b63-882f-e6f7a340a422');\n",
              "          const dataTable =\n",
              "            await google.colab.kernel.invokeFunction('convertToInteractive',\n",
              "                                                     [key], {});\n",
              "          if (!dataTable) return;\n",
              "\n",
              "          const docLinkHtml = 'Like what you see? Visit the ' +\n",
              "            '<a target=\"_blank\" href=https://colab.research.google.com/notebooks/data_table.ipynb>data table notebook</a>'\n",
              "            + ' to learn more about interactive tables.';\n",
              "          element.innerHTML = '';\n",
              "          dataTable['output_type'] = 'display_data';\n",
              "          await google.colab.output.renderOutput(dataTable, element);\n",
              "          const docLink = document.createElement('div');\n",
              "          docLink.innerHTML = docLinkHtml;\n",
              "          element.appendChild(docLink);\n",
              "        }\n",
              "      </script>\n",
              "    </div>\n",
              "  </div>\n",
              "  "
            ]
          },
          "metadata": {},
          "execution_count": 296
        }
      ],
      "source": [
        "df"
      ]
    },
    {
      "cell_type": "code",
      "execution_count": null,
      "metadata": {
        "colab": {
          "base_uri": "https://localhost:8080/"
        },
        "id": "JziN-ggpqygf",
        "outputId": "2acf9251-7d8a-430c-8591-cb6998a96fdd"
      },
      "outputs": [
        {
          "output_type": "stream",
          "name": "stdout",
          "text": [
            "0      0 days 18:01:32\n",
            "14     0 days 18:01:46\n",
            "15     0 days 18:01:47\n",
            "26     0 days 18:01:58\n",
            "44     0 days 18:02:16\n",
            "             ...      \n",
            "4634   0 days 19:18:51\n",
            "4635   0 days 19:18:52\n",
            "4636   0 days 19:18:53\n",
            "4637   0 days 19:18:54\n",
            "4638   0 days 19:18:55\n",
            "Name: Time, Length: 1035, dtype: timedelta64[ns]\n"
          ]
        }
      ],
      "source": [
        "print(df[\"Time\"].sort_values())"
      ]
    },
    {
      "cell_type": "markdown",
      "metadata": {
        "id": "4ta-wjeW5Q0b"
      },
      "source": [
        "DataFrame is Ready!"
      ]
    },
    {
      "cell_type": "markdown",
      "metadata": {
        "id": "aeUX5bqZ5Tpo"
      },
      "source": [
        "# Sensor Selection"
      ]
    },
    {
      "cell_type": "markdown",
      "metadata": {
        "id": "pJkTM3SGQqvC"
      },
      "source": [
        "Initialising Constants"
      ]
    },
    {
      "cell_type": "code",
      "execution_count": null,
      "metadata": {
        "id": "LMOnc7qXQpAH"
      },
      "outputs": [],
      "source": [
        "# metrics\n",
        "alpha = 0\n",
        "beta = 1\n",
        "gamma = 2\n",
        "delta = 3\n",
        "eta = 4\n",
        "\n",
        "# for reliability (beta)\n",
        "start_time = datetime.timedelta(hours = 18, minutes = 1, seconds = 32)\n",
        "end_time = datetime.timedelta(hours = 19, minutes = 18, seconds = 55)\n",
        "t = datetime.timedelta(hours = 0, minutes = 5, seconds = 0)\n",
        "interval = 5\n",
        "\n",
        "# number of sensors\n",
        "number_sensors = 3\n",
        "sensors_temp = 3\n",
        "sensors_humidity = 3\n",
        "sensors_m_1 = 3\n",
        "sensors_m_2 = 3"
      ]
    },
    {
      "cell_type": "markdown",
      "metadata": {
        "id": "u1sPESQCPuYe"
      },
      "source": [
        "Accuracy Calculation (Alpha)"
      ]
    },
    {
      "cell_type": "code",
      "execution_count": null,
      "metadata": {
        "id": "EPtNRbjD3xeE"
      },
      "outputs": [],
      "source": [
        "def kalman_filter(array, initial_est, initial_est_error, initial_mst_error):\n",
        "  \"\"\"\n",
        "  The function takes as input a numpy array of measurements and after performing iterations involving kalman filter based calculations, returns the true\n",
        "  value.\n",
        "\n",
        "  Args: \n",
        "    array             : 1D numpy array containing measurements\n",
        "    initial_est       : The initial estimate \n",
        "    initial_est_error : The initial estimate error\n",
        "    initial_mst_error : The initial measurement error\n",
        "\n",
        "  Returns:\n",
        "    True value\n",
        "  \"\"\"\n",
        "\n",
        "  # iterative process to converge on the true value\n",
        "  for initial_mst in array:\n",
        "    KG = (initial_est_error)/(initial_est_error + initial_mst_error)  #Kalman Gain\n",
        "    initial_est = initial_est + KG*(initial_mst - initial_est)        \n",
        "    initial_est_error = (1 - KG)*(initial_est_error)\n",
        "\n",
        "  return initial_est"
      ]
    },
    {
      "cell_type": "code",
      "execution_count": null,
      "metadata": {
        "id": "ffEM_SgCWWEp"
      },
      "outputs": [],
      "source": [
        "def sensor_selection_alpha(df, p, c, k, initial_est, initial_est_error, initial_mst_error, start_time, end_time, t):\n",
        "  \"\"\"\n",
        "  The functions takes as input a pandas dataframe. The columns represent the different homogenous sensors and the rows represents the respective \n",
        "  data-points. It returns the accuracy metric for each sensor, calculated based on the algorithm discussed in the paper and on periodic intervals of t.\n",
        "\n",
        "  Args:\n",
        "    df (DataFrame)    : The DataFrame which contains sensors as it's columns\n",
        "    p                 : Constant for scaling\n",
        "    c                 : Constant for scaling\n",
        "    k                 : Number of optimal sensors to be returned\n",
        "    initial_est       : The initial estimate (for KF)\n",
        "    initial_est_error : The inital estimate error (for KF)\n",
        "    initial_mst_error : The initial measurement error (for KF)\n",
        "    start_time        : Time when measurment started (for time-interval)\n",
        "    end_time          : Time when measurement ended (for time-interval)\n",
        "    t                 : Time interval\n",
        "\n",
        "  Returns:\n",
        "    Accuracy for each sensor calculated on 't' intervals\n",
        "  \"\"\"\n",
        "\n",
        "  # initialise time \n",
        "  start = start_time\n",
        "  end = start + t\n",
        "\n",
        "  # counter for cycle of time 't'\n",
        "  cycle = -1\n",
        "\n",
        "  # list of sensor names\n",
        "  sensors = np.array(df.columns[1::])\n",
        "\n",
        "  # accuracy matrix \n",
        "  accuracy = np.zeros((df.shape[0], df.shape[1] - 1))\n",
        "\n",
        "  # loop to iterate periodically \n",
        "  while end <= end_time:\n",
        "\n",
        "    # filtering df based on 't' interval\n",
        "    df_temporary = df.loc[(df[\"Time\"] >= start) & (df[\"Time\"] < end)]\n",
        "    df_temporary = df_temporary.drop(columns=[\"Time\"])\n",
        "\n",
        "    # rows and columns in df\n",
        "    rows = df_temporary.shape[0]\n",
        "    columns = df_temporary.shape[1]\n",
        "\n",
        "    # convert df to numpy array\n",
        "    numpy_array = df_temporary.to_numpy()\n",
        "\n",
        "    # store accuracy for each data-point\n",
        "    accuracy_sensor = np.zeros((rows, columns))\n",
        "\n",
        "    # iteration for each row\n",
        "    for row in range(rows):\n",
        "      array = numpy_array[row]\n",
        "\n",
        "      # find mean\n",
        "      mean = np.mean(array)\n",
        "\n",
        "      # find standard deviation\n",
        "      std = np.std(array)\n",
        "\n",
        "      # standardise values\n",
        "      array = (array - mean)/std\n",
        "\n",
        "      # membership fn assuming p and c as constants\n",
        "      matrix = np.zeros((columns, columns))\n",
        "      for i in range(columns):\n",
        "        x1 = array[i]\n",
        "        for j in range(columns):\n",
        "          x2 = array[j]\n",
        "          matrix[i][j] = math.e**(-((x1 - x2)**p)/c)\n",
        "        \n",
        "      # handle nan's\n",
        "      matrix = np.nan_to_num(matrix, nan=1.0)\n",
        "        \n",
        "      # calculate Cxi\n",
        "      value_Cxi = np.zeros((columns, 2))\n",
        "      for i in range(columns):\n",
        "        value_Cxi[i][0] = i\n",
        "        for j in range(columns):\n",
        "          value_Cxi[i][1] = value_Cxi[i][1] + matrix[i][j] \n",
        "      \n",
        "      # sort Cxi's in descending order\n",
        "      value_Cxi = value_Cxi[value_Cxi[:, 1].argsort()]\n",
        "      value_Cxi = value_Cxi[: : -1]\n",
        "\n",
        "      # calculate p\n",
        "      p_accuracy = kalman_filter(value_Cxi[:, 1], initial_est, initial_est_error, initial_mst_error)\n",
        "\n",
        "      # calculate accurracy for each data-point\n",
        "      for column in range(columns):\n",
        "        accuracy_sensor[row][column] = math.e**(-(abs(value_Cxi[column][1] - p_accuracy)))\n",
        "      \n",
        "    # increment cycle\n",
        "    cycle += 1\n",
        "\n",
        "    # accuracy over interval = mean of accuracy for each data-point in that interval\n",
        "    for column in range(columns):\n",
        "      accuracy[cycle][column] = np.mean(accuracy_sensor[:, column])\n",
        "    \n",
        "    # increment time\n",
        "    start = start + t\n",
        "    end = end + t\n",
        "  \n",
        "  return accuracy"
      ]
    },
    {
      "cell_type": "markdown",
      "metadata": {
        "id": "7WBE-SHqQGBc"
      },
      "source": [
        "Reliability Calculation (Beta)"
      ]
    },
    {
      "cell_type": "code",
      "execution_count": null,
      "metadata": {
        "id": "uV6DPaTePahj"
      },
      "outputs": [],
      "source": [
        "def number_non_faulty(df, p, c, k, sensor):\n",
        "  \"\"\"\n",
        "  The functions takes as input a pandas dataframe, confined on a particular time interval. The columns represent the different homogenous sensors\n",
        "  and the rows represents the respective data-points. It returns the number of non-faulty values for a particular sensor.\n",
        "  \n",
        "  Args:\n",
        "    df (DataFrame): The DataFrame which contains sensors as it's columns\n",
        "    p             : Constant for scaling\n",
        "    c             : Constant for scaling\n",
        "    k             : Number of optimal sensors to be returned\n",
        "    sensor        : Index of sensor for which the number of non-faulty values need to be returned\n",
        "\n",
        "  Returns:\n",
        "    Number of non-faulty values\n",
        "  \"\"\"\n",
        "\n",
        "  # rows and columns in df\n",
        "  rows = df.shape[0]\n",
        "  columns = df.shape[1]\n",
        "  \n",
        "  # list of sensor names\n",
        "  sensors = np.array(df.columns)\n",
        "\n",
        "  # # of non-faulty sensors for particular input\n",
        "  number_non_faulty_sensors = 0\n",
        " \n",
        "  # convert df to numpy array\n",
        "  numpy_array = df.to_numpy()\n",
        "  \n",
        "  # iteration for each row\n",
        "  for row in range(rows):\n",
        "    array = numpy_array[row]\n",
        "\n",
        "    # find mean\n",
        "    mean = np.mean(array)\n",
        "\n",
        "    # find standard deviation\n",
        "    std = np.std(array)\n",
        "\n",
        "    # standardise values\n",
        "    if std != 0:\n",
        "      array = (array - mean)/std\n",
        "    else:\n",
        "      array = (array - mean)\n",
        "\n",
        "    # membership fn assuming p and c as constants\n",
        "    matrix = np.zeros((columns, columns))\n",
        "    for i in range(columns):\n",
        "      x1 = array[i]\n",
        "      for j in range(columns):\n",
        "        x2 = array[j]\n",
        "        matrix[i][j] += round(math.e**(-((x1 - x2)**p)/c), 5)\n",
        "      \n",
        "    # calculate Cxi\n",
        "    value_Cxi = np.zeros((columns, 2))\n",
        "    for i in range(columns):\n",
        "      value_Cxi[i][0] = i\n",
        "      for j in range(columns):\n",
        "        value_Cxi[i][1] = value_Cxi[i][1] + matrix[i][j] \n",
        "    \n",
        "    # sort Cxi's in descending order\n",
        "    value_Cxi = value_Cxi[value_Cxi[:, 1].argsort()]\n",
        "    value_Cxi = value_Cxi[: : -1]\n",
        "\n",
        "    # optimal sensors for each cycle\n",
        "    optimal_sensors = []\n",
        "\n",
        "    for i in range(k//2):\n",
        "      optimal_sensors.append(sensors[int(value_Cxi[i][0])])\n",
        "  \n",
        "    # if the given sensor is an optimal sensor -> to determine faulty or non-faulty\n",
        "    if sensors[sensor] in optimal_sensors:\n",
        "      number_non_faulty_sensors += 1\n",
        "  \n",
        "  return number_non_faulty_sensors\n"
      ]
    },
    {
      "cell_type": "code",
      "execution_count": null,
      "metadata": {
        "id": "ZlFcXC1MdIa4"
      },
      "outputs": [],
      "source": [
        "def sensor_selection_beta(df, start_time, end_time, t, p, c, k):\n",
        "  \"\"\"The functions takes as input a pandas dataframe. The columns represent the different homogenous sensors and the rows represents the \n",
        "  respective data-points. It returns the value of beta of each sensor, calculated as per the algorithm discussed and on periodic time intervals of 't'\n",
        "\n",
        "  Args:\n",
        "  df (DataFrame): The DataFrame which contains sensors as it's columns\n",
        "  start_time    : The time-stamp when the readings starts\n",
        "  end_time      : The time-stamp when the readings end\n",
        "  p             : Constant for scaling\n",
        "  c             : Constant for scaling\n",
        "  k             : Number of optimal sensors to be returned\n",
        "\n",
        "  Returns:\n",
        "  Beta value for each sensor on periodic time intervals of 't'.\n",
        "  \"\"\"\n",
        "  \n",
        "  # intialising start & end\n",
        "  start = start_time\n",
        "  end = start + t\n",
        "\n",
        "  # list of sensors\n",
        "  sensors = df.shape[1] - 1\n",
        "\n",
        "  # store beta value\n",
        "  beta_sensor = np.zeros((df.shape[0], df.shape[1] - 1))\n",
        "\n",
        "  # initiate cycle\n",
        "  cycle = -1\n",
        "\n",
        "  # iteration for each homogenous sensor\n",
        "  for sensor in range(sensors):\n",
        "\n",
        "    # iterating over sensor data\n",
        "    while end < end_time:\n",
        "\n",
        "      # filtering df based on 't' interval\n",
        "      df_temporary = df.loc[(df[\"Time\"] >= start) & (df[\"Time\"] < end)]\n",
        "      df_temporary = df_temporary.drop(columns=[\"Time\"])\n",
        "\n",
        "      # n\n",
        "      n = df_temporary.shape[0]\n",
        "      \n",
        "      #[EDIT: 15TH JULY 2022]\n",
        "      if n > 170:\n",
        "        np.random.seed(10)\n",
        "        remove_n = n - 170\n",
        "        drop_indices = np.random.choice(df_temporary.index, remove_n, replace=False)\n",
        "        df_temporary = df_temporary.drop(drop_indices)\n",
        "        n = df_temporary.shape[0]\n",
        "\n",
        "      # p_non_faulty\n",
        "      p_non_faulty = number_non_faulty(df_temporary, p, c, k, sensor)\n",
        "      # lambda\n",
        "      if p_non_faulty <= n:\n",
        "        lambda_t = p_non_faulty/n\n",
        "      else:\n",
        "        lambda_t = 1\n",
        "      \n",
        "      # calculating beta\n",
        "      beta = (((lambda_t)**n) * (math.e**(-(lambda_t))))/math.factorial(n)\n",
        "\n",
        "      # increment cycle\n",
        "      cycle += 1\n",
        "      beta_sensor[cycle][sensor] = beta\n",
        "            \n",
        "      # increment time\n",
        "      start = start + t\n",
        "      end = end + t\n",
        "\n",
        "    # reset time for next sensor\n",
        "    start = start_time\n",
        "    end = start + t\n",
        "    cycle = -1\n",
        "\n",
        "  return beta_sensor"
      ]
    },
    {
      "cell_type": "markdown",
      "metadata": {
        "id": "YDGgcRY3QgAu"
      },
      "source": [
        "Cosine Distance"
      ]
    },
    {
      "cell_type": "code",
      "execution_count": null,
      "metadata": {
        "id": "_girUEcyDZtj"
      },
      "outputs": [],
      "source": [
        "def cosine_distance(metrics_array, index, metrics_optimal = np.array([1, 1, 1, 1, 1])):\n",
        "  \"\"\"\n",
        "  The function takes as input a numpy matrix of metrics. The rows contains metrics for different time intervals and the column contains the different \n",
        "  evaluation metric. It returns cosine similarity calculated for each time interval.\n",
        "\n",
        "  Args: \n",
        "    metrics_array     : Numpy matrix containing metrics on different time intervals\n",
        "    index             : Number of rows\n",
        "    metrics_optimal   : Optimal metrics score\n",
        "\n",
        "  Returns:\n",
        "    Cosine similarity calculated on each time interval.\n",
        "  \"\"\"\n",
        "  \n",
        "  # array to store cosine similarity values for each time interval (or row)\n",
        "  cosine_similarity_array = np.zeros((index, 1))\n",
        "\n",
        "  # calculation\n",
        "  for i in range(index):\n",
        "    cosine_similarity = 1 - scipy.spatial.distance.euclidean(metrics_array[i][:], metrics_optimal)\n",
        "    cosine_similarity_array[i] = cosine_similarity \n",
        "\n",
        "  return cosine_similarity_array"
      ]
    },
    {
      "cell_type": "markdown",
      "metadata": {
        "id": "6nqy7ARRTjqi"
      },
      "source": [
        "# Applying sensor selection"
      ]
    },
    {
      "cell_type": "markdown",
      "metadata": {
        "id": "Y80V_ZdpSFxA"
      },
      "source": [
        "Considering we have two sensors for each four (Temperature, Humidity, M2, M1) types of sensors, we will first chose the most optimal one for each type of sensor by performing sensor selection and then form a new df based on the readings of those selected sensors.\n",
        "\n",
        "\n",
        "\n",
        "\n",
        "\n",
        "\n",
        "\n",
        "\n"
      ]
    },
    {
      "cell_type": "markdown",
      "metadata": {
        "id": "j853VQZkTyDp"
      },
      "source": [
        "Initialising the new df"
      ]
    },
    {
      "cell_type": "code",
      "execution_count": null,
      "metadata": {
        "colab": {
          "base_uri": "https://localhost:8080/"
        },
        "id": "PhJ5UpnDXZ9f",
        "outputId": "647ae3f8-aaa3-42ce-ab03-938e816fa22f"
      },
      "outputs": [
        {
          "output_type": "stream",
          "name": "stdout",
          "text": [
            "Index(['Time', '52_temp', '52_humidity', '52_M2', '52_M1', '51_temp',\n",
            "       '51_humidity', '51_M2', '51_M1', '50_temp', '50_humidity', '50_M2',\n",
            "       '50_M1', 'number of person'],\n",
            "      dtype='object')\n"
          ]
        }
      ],
      "source": [
        "print(df.columns)"
      ]
    },
    {
      "cell_type": "markdown",
      "metadata": {
        "id": "7bpQznDFS85z"
      },
      "source": [
        "**Temperature**"
      ]
    },
    {
      "cell_type": "code",
      "execution_count": null,
      "metadata": {
        "colab": {
          "base_uri": "https://localhost:8080/"
        },
        "id": "wHwSyjXkUXTZ",
        "outputId": "a817c34f-3b72-4a70-bb50-5d99d82eb61f"
      },
      "outputs": [
        {
          "output_type": "stream",
          "name": "stdout",
          "text": [
            "              Time    52_temp    51_temp    50_temp\n",
            "0  0 days 18:01:32  26.700001  27.900000  24.900000\n",
            "14 0 days 18:01:46  26.700001  27.900000  24.799999\n",
            "15 0 days 18:01:47  26.700001  27.900000  24.799999\n",
            "26 0 days 18:01:58  26.600000  27.799999  24.799999\n",
            "44 0 days 18:02:16  26.600000  27.799999  24.700001\n"
          ]
        }
      ],
      "source": [
        "# df containing temperature sensors\n",
        "df_temperature = pd.DataFrame()\n",
        "df_temperature[\"Time\"] = df[\"Time\"]\n",
        "df_temperature[\"52_temp\"] = df[\"52_temp\"]\n",
        "df_temperature[\"51_temp\"] = df[\"51_temp\"]\n",
        "df_temperature[\"50_temp\"] = df[\"50_temp\"]\n",
        "\n",
        "# print df\n",
        "print(df_temperature.head())"
      ]
    },
    {
      "cell_type": "markdown",
      "metadata": {
        "id": "U4zfeKElUa2c"
      },
      "source": [
        "Accuracy (alpha) <br>\n",
        "Considering accuracy is a dynamic metric, we will be calculating it on periodic intervals of 't', where 't' is initialised earlier in the notebook."
      ]
    },
    {
      "cell_type": "code",
      "execution_count": null,
      "metadata": {
        "id": "V-oZHtZYR_8o"
      },
      "outputs": [],
      "source": [
        "# calculating accuracy (alpha)\n",
        "accuracy_temp = sensor_selection_alpha(df_temperature, p = 2, c = 2, k = 1, initial_est = 1, initial_est_error = 1, initial_mst_error = 1, start_time = start_time, end_time = end_time, t = t)"
      ]
    },
    {
      "cell_type": "code",
      "execution_count": null,
      "metadata": {
        "colab": {
          "base_uri": "https://localhost:8080/"
        },
        "id": "_GKvZ9gwaZF6",
        "outputId": "364d220c-0fef-4ea8-bfd1-a5525e914f9c"
      },
      "outputs": [
        {
          "output_type": "stream",
          "name": "stdout",
          "text": [
            "[[0.63059548 0.82996399 0.87472398]\n",
            " [0.6320811  0.84270393 0.88769715]\n",
            " [0.63442732 0.86612182 0.91166299]\n",
            " [0.63691367 0.90010743 0.94670278]\n",
            " [0.63650916 0.89228947 0.93859711]\n",
            " [0.63724219 0.90546525 0.95224406]\n",
            " [0.63815664 0.92831055 0.9720595 ]\n",
            " [0.63420176 0.86555166 0.91112805]\n",
            " [0.63376847 0.86031045 0.90573774]\n",
            " [0.63557197 0.88160693 0.92762486]\n",
            " [0.63687842 0.9006081  0.94723837]\n",
            " [0.63813487 0.9262412  0.96645781]\n",
            " [0.63910852 0.96769294 0.97687112]\n",
            " [0.63892296 0.95882386 0.97798356]\n",
            " [0.6380814  0.93000466 0.96333875]]\n",
            "(15, 3)\n"
          ]
        }
      ],
      "source": [
        "# dropping unnecessary rows\n",
        "accuracy_temp = accuracy_temp[~np.all(accuracy_temp == 0, axis=1)]\n",
        "\n",
        "# print accuracy metric\n",
        "print(accuracy_temp)\n",
        "\n",
        "# print shape of metric\n",
        "print(np.shape(accuracy_temp))"
      ]
    },
    {
      "cell_type": "markdown",
      "metadata": {
        "id": "GYY3iKzJWwkt"
      },
      "source": [
        "Reliability (Beta) <br>\n",
        "Considering reliability is a dynamic metric, we will be calculating it on periodic intervals of 't', where 't' is initialised earlier in the notebook."
      ]
    },
    {
      "cell_type": "code",
      "execution_count": null,
      "metadata": {
        "id": "RnSW6pinGqbv"
      },
      "outputs": [],
      "source": [
        "beta_temp = sensor_selection_beta(df_temperature, start_time, end_time, t, 2, 2, 2)"
      ]
    },
    {
      "cell_type": "code",
      "execution_count": null,
      "metadata": {
        "colab": {
          "base_uri": "https://localhost:8080/"
        },
        "id": "f993vpvrgm7L",
        "outputId": "4e488c42-cfbd-4098-e11a-2e223b7f8057"
      },
      "outputs": [
        {
          "output_type": "stream",
          "name": "stdout",
          "text": [
            "[[1.42245314e-060 0.00000000e+000 0.00000000e+000]\n",
            " [9.07740943e-078 0.00000000e+000 0.00000000e+000]\n",
            " [1.09970600e-050 0.00000000e+000 0.00000000e+000]\n",
            " [2.37170391e-067 0.00000000e+000 0.00000000e+000]\n",
            " [2.65266202e-081 0.00000000e+000 0.00000000e+000]\n",
            " [2.89750909e-074 0.00000000e+000 0.00000000e+000]\n",
            " [5.17412337e-076 0.00000000e+000 0.00000000e+000]\n",
            " [1.59363000e-072 0.00000000e+000 0.00000000e+000]\n",
            " [1.42245314e-060 0.00000000e+000 0.00000000e+000]\n",
            " [8.60560199e-071 0.00000000e+000 0.00000000e+000]\n",
            " [1.09970600e-050 0.00000000e+000 0.00000000e+000]\n",
            " [1.59363000e-072 0.00000000e+000 0.00000000e+000]\n",
            " [1.42245314e-060 0.00000000e+000 0.00000000e+000]\n",
            " [1.20956899e-065 0.00000000e+000 0.00000000e+000]\n",
            " [5.06901438e-308 0.00000000e+000 0.00000000e+000]]\n",
            "(15, 3)\n"
          ]
        }
      ],
      "source": [
        "# dropping unnecessary rows\n",
        "beta_temp = beta_temp[~np.all(beta_temp == 0, axis=1)]\n",
        "\n",
        "# print beta metric\n",
        "print(beta_temp)\n",
        "\n",
        "# print shape of the metric\n",
        "print(np.shape(beta_temp))"
      ]
    },
    {
      "cell_type": "code",
      "execution_count": null,
      "metadata": {
        "colab": {
          "base_uri": "https://localhost:8080/"
        },
        "id": "35wCcv5JahuS",
        "outputId": "f70e57c9-102c-45fa-ea40-2f7e13410750"
      },
      "outputs": [
        {
          "output_type": "stream",
          "name": "stdout",
          "text": [
            "15\n"
          ]
        }
      ],
      "source": [
        "# number of observations obtained based on 't' time interval\n",
        "index = accuracy_temp.shape[0]\n",
        "\n",
        "print(index)"
      ]
    },
    {
      "cell_type": "markdown",
      "metadata": {
        "id": "4KXApCwaYSmr"
      },
      "source": [
        "Metric Vector <br>\n",
        "Based on accuracy and reliability as the dynamic metrics, and resolution, response time and range of measurements as static metrics, we will define a metric vector. <br>\n",
        "There will be five columns, based on number of evaluation metrics, and 37 rows based on data-points obtained above on periodic time intervals."
      ]
    },
    {
      "cell_type": "code",
      "execution_count": null,
      "metadata": {
        "id": "1PCzmwhRIXgW"
      },
      "outputs": [],
      "source": [
        "# define rows and columns\n",
        "data_points = 15  # rows\n",
        "number_of_metrics = 5 # columns\n",
        "\n",
        "# define matrix\n",
        "metrics_temp = np.zeros((data_points, number_of_metrics))"
      ]
    },
    {
      "cell_type": "markdown",
      "metadata": {
        "id": "TnJdph2VZN0M"
      },
      "source": [
        "For sensor '32_temp'"
      ]
    },
    {
      "cell_type": "code",
      "execution_count": null,
      "metadata": {
        "id": "v2Ds_10gZV94"
      },
      "outputs": [],
      "source": [
        "# to access data-points of sensor '32_temp' from accuracy and reliability arrays\n",
        "sensor_0 = 0"
      ]
    },
    {
      "cell_type": "code",
      "execution_count": null,
      "metadata": {
        "id": "oMXdykAbIrTt"
      },
      "outputs": [],
      "source": [
        "# accuracy (alpha)\n",
        "for data_point in range(data_points):\n",
        "  metrics_temp[data_point][alpha] = accuracy_temp[data_point][sensor_0]"
      ]
    },
    {
      "cell_type": "code",
      "execution_count": null,
      "metadata": {
        "id": "y6ZORYLHJqrJ"
      },
      "outputs": [],
      "source": [
        "# reliability (beta)\n",
        "for data_point in range(data_points):\n",
        "  metrics_temp[data_point][beta] = beta_temp[data_point][sensor_0]"
      ]
    },
    {
      "cell_type": "code",
      "execution_count": null,
      "metadata": {
        "id": "psYXo2LEKKKO"
      },
      "outputs": [],
      "source": [
        "# resolution (gamma)\n",
        "\n",
        "# assuming static gamma value = 1\n",
        "gamma_value = 1\n",
        "\n",
        "for data_point in range(data_points):\n",
        "  metrics_temp[data_point][gamma] = gamma_value"
      ]
    },
    {
      "cell_type": "code",
      "execution_count": null,
      "metadata": {
        "id": "N1YWNERAKKju"
      },
      "outputs": [],
      "source": [
        "# response time (delta)\n",
        "\n",
        "# assuming static gamma value = 1\n",
        "delta_value = 1\n",
        "\n",
        "for data_point in range(data_points):\n",
        "  metrics_temp[data_point][delta] = delta_value"
      ]
    },
    {
      "cell_type": "code",
      "execution_count": null,
      "metadata": {
        "id": "McO5CXhDKK6l"
      },
      "outputs": [],
      "source": [
        "# range of measurements (eta)\n",
        "\n",
        "# assuming static eta value = 1\n",
        "eta_value = 1\n",
        "\n",
        "for data_point in range(data_points):\n",
        "  metrics_temp[data_point][eta] = eta_value"
      ]
    },
    {
      "cell_type": "code",
      "execution_count": null,
      "metadata": {
        "colab": {
          "base_uri": "https://localhost:8080/"
        },
        "id": "ruRJs0VCKb0j",
        "outputId": "476d42ee-39cf-411d-bf7b-a62873d53a32"
      },
      "outputs": [
        {
          "output_type": "stream",
          "name": "stdout",
          "text": [
            "[[6.30595485e-001 1.42245314e-060 1.00000000e+000 1.00000000e+000\n",
            "  1.00000000e+000]\n",
            " [6.32081099e-001 9.07740943e-078 1.00000000e+000 1.00000000e+000\n",
            "  1.00000000e+000]\n",
            " [6.34427324e-001 1.09970600e-050 1.00000000e+000 1.00000000e+000\n",
            "  1.00000000e+000]\n",
            " [6.36913666e-001 2.37170391e-067 1.00000000e+000 1.00000000e+000\n",
            "  1.00000000e+000]\n",
            " [6.36509160e-001 2.65266202e-081 1.00000000e+000 1.00000000e+000\n",
            "  1.00000000e+000]\n",
            " [6.37242187e-001 2.89750909e-074 1.00000000e+000 1.00000000e+000\n",
            "  1.00000000e+000]\n",
            " [6.38156635e-001 5.17412337e-076 1.00000000e+000 1.00000000e+000\n",
            "  1.00000000e+000]\n",
            " [6.34201760e-001 1.59363000e-072 1.00000000e+000 1.00000000e+000\n",
            "  1.00000000e+000]\n",
            " [6.33768474e-001 1.42245314e-060 1.00000000e+000 1.00000000e+000\n",
            "  1.00000000e+000]\n",
            " [6.35571968e-001 8.60560199e-071 1.00000000e+000 1.00000000e+000\n",
            "  1.00000000e+000]\n",
            " [6.36878420e-001 1.09970600e-050 1.00000000e+000 1.00000000e+000\n",
            "  1.00000000e+000]\n",
            " [6.38134874e-001 1.59363000e-072 1.00000000e+000 1.00000000e+000\n",
            "  1.00000000e+000]\n",
            " [6.39108516e-001 1.42245314e-060 1.00000000e+000 1.00000000e+000\n",
            "  1.00000000e+000]\n",
            " [6.38922962e-001 1.20956899e-065 1.00000000e+000 1.00000000e+000\n",
            "  1.00000000e+000]\n",
            " [6.38081398e-001 5.06901438e-308 1.00000000e+000 1.00000000e+000\n",
            "  1.00000000e+000]]\n"
          ]
        }
      ],
      "source": [
        "# print metrics\n",
        "print(metrics_temp)"
      ]
    },
    {
      "cell_type": "markdown",
      "metadata": {
        "id": "TiYDhUH2aUq-"
      },
      "source": [
        "Calculating cosine similarity"
      ]
    },
    {
      "cell_type": "code",
      "execution_count": null,
      "metadata": {
        "colab": {
          "base_uri": "https://localhost:8080/"
        },
        "id": "AXLDIo3tKjeY",
        "outputId": "f0df3222-5d78-400d-d41f-e5469703b90a"
      },
      "outputs": [
        {
          "output_type": "stream",
          "name": "stdout",
          "text": [
            "[[-0.06604864]\n",
            " [-0.06553476]\n",
            " [-0.0647269 ]\n",
            " [-0.06387579]\n",
            " [-0.06401391]\n",
            " [-0.06376371]\n",
            " [-0.06345222]\n",
            " [-0.06480437]\n",
            " [-0.0649533 ]\n",
            " [-0.06433444]\n",
            " [-0.06388781]\n",
            " [-0.06345962]\n",
            " [-0.06312871]\n",
            " [-0.06319172]\n",
            " [-0.06347782]]\n"
          ]
        }
      ],
      "source": [
        "cosine_distance_32_temp = cosine_distance(metrics_temp, index)\n",
        "print(cosine_distance_32_temp)"
      ]
    },
    {
      "cell_type": "markdown",
      "metadata": {
        "id": "Jn82MRnDazde"
      },
      "source": [
        "It can be observed that we have calculated the cosine similarity for sensor '32_temp' on each time intervals of 't' above."
      ]
    },
    {
      "cell_type": "markdown",
      "metadata": {
        "id": "lrcAPgIIbJv9"
      },
      "source": [
        "For sensor '31_temp'"
      ]
    },
    {
      "cell_type": "code",
      "execution_count": null,
      "metadata": {
        "id": "jnWlLZjVbqMm"
      },
      "outputs": [],
      "source": [
        "# define matrix\n",
        "metrics_temp_31_temp = np.zeros((data_points, number_of_metrics))"
      ]
    },
    {
      "cell_type": "code",
      "execution_count": null,
      "metadata": {
        "id": "2-fTI_5WbNOA"
      },
      "outputs": [],
      "source": [
        "# to access data-points of sensor '31_temp' from accuracy and reliability arrays\n",
        "sensor_0 = 1"
      ]
    },
    {
      "cell_type": "code",
      "execution_count": null,
      "metadata": {
        "id": "oBhbMJ-rbNgN"
      },
      "outputs": [],
      "source": [
        "# accuracy (alpha)\n",
        "for data_point in range(data_points):\n",
        "  metrics_temp_31_temp[data_point][alpha] = accuracy_temp[data_point][sensor_0]\n"
      ]
    },
    {
      "cell_type": "code",
      "execution_count": null,
      "metadata": {
        "id": "9iRQxMzkbNwC"
      },
      "outputs": [],
      "source": [
        "# reliability (beta)\n",
        "for data_point in range(data_points):\n",
        "  metrics_temp_31_temp[data_point][beta] = beta_temp[data_point][sensor_0]"
      ]
    },
    {
      "cell_type": "code",
      "execution_count": null,
      "metadata": {
        "id": "65B7wV9wbOHQ"
      },
      "outputs": [],
      "source": [
        "# resolution (gamma)\n",
        "\n",
        "# assuming static gamma value = 1\n",
        "gamma_value = 1\n",
        "\n",
        "for data_point in range(data_points):\n",
        "  metrics_temp_31_temp[data_point][gamma] = gamma_value"
      ]
    },
    {
      "cell_type": "code",
      "execution_count": null,
      "metadata": {
        "id": "cmANiZWtbOZI"
      },
      "outputs": [],
      "source": [
        "# response time (delta)\n",
        "\n",
        "# assuming static gamma value = 1\n",
        "delta_value = 1\n",
        "\n",
        "for data_point in range(data_points):\n",
        "  metrics_temp_31_temp[data_point][delta] = delta_value"
      ]
    },
    {
      "cell_type": "code",
      "execution_count": null,
      "metadata": {
        "id": "UjXjCOembOpe"
      },
      "outputs": [],
      "source": [
        "# range of measurements (eta)\n",
        "\n",
        "# assuming static eta value = 1\n",
        "eta_value = 1\n",
        "\n",
        "for data_point in range(data_points):\n",
        "  metrics_temp_31_temp[data_point][eta] = eta_value"
      ]
    },
    {
      "cell_type": "code",
      "execution_count": null,
      "metadata": {
        "colab": {
          "base_uri": "https://localhost:8080/"
        },
        "id": "nyegC14VcKwP",
        "outputId": "a5d8038b-67df-408b-97ca-01c4114b558b"
      },
      "outputs": [
        {
          "output_type": "stream",
          "name": "stdout",
          "text": [
            "[[0.82996399 0.         1.         1.         1.        ]\n",
            " [0.84270393 0.         1.         1.         1.        ]\n",
            " [0.86612182 0.         1.         1.         1.        ]\n",
            " [0.90010743 0.         1.         1.         1.        ]\n",
            " [0.89228947 0.         1.         1.         1.        ]\n",
            " [0.90546525 0.         1.         1.         1.        ]\n",
            " [0.92831055 0.         1.         1.         1.        ]\n",
            " [0.86555166 0.         1.         1.         1.        ]\n",
            " [0.86031045 0.         1.         1.         1.        ]\n",
            " [0.88160693 0.         1.         1.         1.        ]\n",
            " [0.9006081  0.         1.         1.         1.        ]\n",
            " [0.9262412  0.         1.         1.         1.        ]\n",
            " [0.96769294 0.         1.         1.         1.        ]\n",
            " [0.95882386 0.         1.         1.         1.        ]\n",
            " [0.93000466 0.         1.         1.         1.        ]]\n"
          ]
        }
      ],
      "source": [
        "# print metrics\n",
        "print(metrics_temp_31_temp)"
      ]
    },
    {
      "cell_type": "markdown",
      "metadata": {
        "id": "1-KktiBicPqu"
      },
      "source": [
        "Calculating cosine similarity"
      ]
    },
    {
      "cell_type": "code",
      "execution_count": null,
      "metadata": {
        "colab": {
          "base_uri": "https://localhost:8080/"
        },
        "id": "2Ngv5_ZncLBj",
        "outputId": "53455848-cf7d-438f-8662-11a738859d04"
      },
      "outputs": [
        {
          "output_type": "stream",
          "name": "stdout",
          "text": [
            "[[-0.01435312]\n",
            " [-0.01229544]\n",
            " [-0.00892188]\n",
            " [-0.00497688]\n",
            " [-0.00578405]\n",
            " [-0.00445847]\n",
            " [-0.0025664 ]\n",
            " [-0.0089977 ]\n",
            " [-0.00970945]\n",
            " [-0.00698407]\n",
            " [-0.00492724]\n",
            " [-0.00271649]\n",
            " [-0.00052174]\n",
            " [-0.00084738]\n",
            " [-0.00244668]]\n"
          ]
        }
      ],
      "source": [
        "cosine_distance_31_temp = cosine_distance(metrics_temp_31_temp, index)\n",
        "print(cosine_distance_31_temp)"
      ]
    },
    {
      "cell_type": "markdown",
      "metadata": {
        "id": "KfyYswa5cYSe"
      },
      "source": [
        "It can be observed that we have calculated the cosine similarity for sensor '31_temp' on each time intervals of 't' above."
      ]
    },
    {
      "cell_type": "markdown",
      "metadata": {
        "id": "Ry--bXPRwmXR"
      },
      "source": [
        "20"
      ]
    },
    {
      "cell_type": "code",
      "execution_count": null,
      "metadata": {
        "id": "-vcxywVMwnqx"
      },
      "outputs": [],
      "source": [
        "# define matrix\n",
        "metrics_temp_20_temp = np.zeros((data_points, number_of_metrics))"
      ]
    },
    {
      "cell_type": "code",
      "execution_count": null,
      "metadata": {
        "id": "47O82tr6wnoR"
      },
      "outputs": [],
      "source": [
        "# to access data-points of sensor '31_temp' from accuracy and reliability arrays\n",
        "sensor_0 = 2"
      ]
    },
    {
      "cell_type": "code",
      "execution_count": null,
      "metadata": {
        "id": "Qq85PlCswnl5"
      },
      "outputs": [],
      "source": [
        "# accuracy (alpha)\n",
        "for data_point in range(data_points):\n",
        "  metrics_temp_20_temp[data_point][alpha] = accuracy_temp[data_point][sensor_0]"
      ]
    },
    {
      "cell_type": "code",
      "execution_count": null,
      "metadata": {
        "id": "mSbiyo_Nwnjd"
      },
      "outputs": [],
      "source": [
        "# reliability (beta)\n",
        "for data_point in range(data_points):\n",
        "  metrics_temp_20_temp[data_point][beta] = beta_temp[data_point][sensor_0]"
      ]
    },
    {
      "cell_type": "code",
      "execution_count": null,
      "metadata": {
        "id": "jvKW8UXewnhV"
      },
      "outputs": [],
      "source": [
        "# resolution (gamma)\n",
        "\n",
        "# assuming static gamma value = 1\n",
        "gamma_value = 1\n",
        "\n",
        "for data_point in range(data_points):\n",
        "  metrics_temp_20_temp[data_point][gamma] = gamma_value"
      ]
    },
    {
      "cell_type": "code",
      "execution_count": null,
      "metadata": {
        "id": "XUJfT2j-wnfA"
      },
      "outputs": [],
      "source": [
        "# response time (delta)\n",
        "\n",
        "# assuming static gamma value = 1\n",
        "delta_value = 1\n",
        "\n",
        "for data_point in range(data_points):\n",
        "  metrics_temp_20_temp[data_point][delta] = delta_value"
      ]
    },
    {
      "cell_type": "code",
      "execution_count": null,
      "metadata": {
        "colab": {
          "base_uri": "https://localhost:8080/"
        },
        "id": "0iYn1KerwncC",
        "outputId": "f84f2761-b067-469a-d466-eb7ef74da58b"
      },
      "outputs": [
        {
          "output_type": "stream",
          "name": "stdout",
          "text": [
            "[[0.87472398 0.         1.         1.         0.        ]\n",
            " [0.88769715 0.         1.         1.         0.        ]\n",
            " [0.91166299 0.         1.         1.         0.        ]\n",
            " [0.94670278 0.         1.         1.         0.        ]\n",
            " [0.93859711 0.         1.         1.         0.        ]\n",
            " [0.95224406 0.         1.         1.         0.        ]\n",
            " [0.9720595  0.         1.         1.         0.        ]\n",
            " [0.91112805 0.         1.         1.         0.        ]\n",
            " [0.90573774 0.         1.         1.         0.        ]\n",
            " [0.92762486 0.         1.         1.         0.        ]\n",
            " [0.94723837 0.         1.         1.         0.        ]\n",
            " [0.96645781 0.         1.         1.         0.        ]\n",
            " [0.97687112 0.         1.         1.         0.        ]\n",
            " [0.97798356 0.         1.         1.         0.        ]\n",
            " [0.96333875 0.         1.         1.         0.        ]]\n"
          ]
        }
      ],
      "source": [
        "# print metrics\n",
        "print(metrics_temp_20_temp)"
      ]
    },
    {
      "cell_type": "code",
      "execution_count": null,
      "metadata": {
        "colab": {
          "base_uri": "https://localhost:8080/"
        },
        "id": "l138PHuFwnZL",
        "outputId": "543a2ed4-8d07-400c-90a4-ed0ec628d8de"
      },
      "outputs": [
        {
          "output_type": "stream",
          "name": "stdout",
          "text": [
            "[[-0.41975142]\n",
            " [-0.41866555]\n",
            " [-0.4169698 ]\n",
            " [-0.41521751]\n",
            " [-0.41554594]\n",
            " [-0.41501966]\n",
            " [-0.41448954]\n",
            " [-0.41700325]\n",
            " [-0.41735153]\n",
            " [-0.41606432]\n",
            " [-0.41519744]\n",
            " [-0.41461128]\n",
            " [-0.41440268]\n",
            " [-0.41438493]\n",
            " [-0.41468868]]\n"
          ]
        }
      ],
      "source": [
        "cosine_distance_20_temp = cosine_distance(metrics_temp_20_temp, index)\n",
        "print(cosine_distance_20_temp)"
      ]
    },
    {
      "cell_type": "markdown",
      "metadata": {
        "id": "gm2bS-88VE9Q"
      },
      "source": [
        "**Humidity**"
      ]
    },
    {
      "cell_type": "code",
      "execution_count": null,
      "metadata": {
        "colab": {
          "base_uri": "https://localhost:8080/"
        },
        "id": "-n_rfN6vVDpH",
        "outputId": "9f85d330-3c9f-46e6-8bef-88536ce5a669"
      },
      "outputs": [
        {
          "output_type": "stream",
          "name": "stdout",
          "text": [
            "              Time  52_humidity  51_humidity  50_humidity\n",
            "0  0 days 18:01:32    62.200001    68.199997    68.500000\n",
            "14 0 days 18:01:46    62.400002    67.900002    67.800003\n",
            "15 0 days 18:01:47    62.400002    67.900002    67.800003\n",
            "26 0 days 18:01:58    62.500000    66.800003    67.900002\n",
            "44 0 days 18:02:16    62.799999    65.500000    67.599998\n"
          ]
        }
      ],
      "source": [
        "# df containing humidity sensors\n",
        "df_humidity = pd.DataFrame()\n",
        "df_humidity[\"Time\"] = df[\"Time\"]\n",
        "df_humidity[\"52_humidity\"] = df[\"52_humidity\"]\n",
        "df_humidity[\"51_humidity\"] = df[\"51_humidity\"]\n",
        "df_humidity[\"50_humidity\"] = df[\"50_humidity\"]\n",
        "\n",
        "# print df\n",
        "print(df_humidity.head())"
      ]
    },
    {
      "cell_type": "markdown",
      "metadata": {
        "id": "mbR9HjMPuDXo"
      },
      "source": [
        "Accuracy (alpha)\n",
        "Considering accuracy is a dynamic metric, we will be calculating it on periodic intervals of 't', where 't' is initialised earlier in the notebook."
      ]
    },
    {
      "cell_type": "code",
      "execution_count": null,
      "metadata": {
        "id": "mbXCqqPnSAQZ"
      },
      "outputs": [],
      "source": [
        "# calling fn for temperature sensors\n",
        "accuracy_humidity = sensor_selection_alpha(df_humidity, p = 2, c = 2, k = 1, initial_est = 1, initial_est_error = 1, initial_mst_error = 1, start_time = start_time, end_time = end_time, t = t)"
      ]
    },
    {
      "cell_type": "code",
      "execution_count": null,
      "metadata": {
        "colab": {
          "base_uri": "https://localhost:8080/"
        },
        "id": "4leDdU40u21O",
        "outputId": "12a7d573-74e1-45ab-e79f-5cdec5754c05"
      },
      "outputs": [
        {
          "output_type": "stream",
          "name": "stdout",
          "text": [
            "[[0.61622818 0.74990175 0.79783457]\n",
            " [0.59997263 0.62569993 0.68320976]\n",
            " [0.60075764 0.62137785 0.68059847]\n",
            " [0.60047016 0.64433822 0.6974924 ]\n",
            " [0.59981724 0.64440842 0.69699167]\n",
            " [0.6018407  0.66099153 0.71111033]\n",
            " [0.60109785 0.62149057 0.68094845]\n",
            " [0.60100976 0.61973476 0.6795754 ]\n",
            " [0.60186212 0.61697858 0.67817784]\n",
            " [0.59954496 0.63179015 0.68738041]\n",
            " [0.60042199 0.61986441 0.67923111]\n",
            " [0.59971183 0.62601487 0.68323265]\n",
            " [0.59954728 0.63338696 0.68857964]\n",
            " [0.60055029 0.62128935 0.68037426]\n",
            " [0.60223008 0.6144185  0.67656746]]\n",
            "(15, 3)\n"
          ]
        }
      ],
      "source": [
        "# dropping unnecessary rows\n",
        "accuracy_humidity = accuracy_humidity[~np.all(accuracy_humidity == 0, axis=1)]\n",
        "\n",
        "# print accuracy metric\n",
        "print(accuracy_humidity)\n",
        "\n",
        "# print shape of metric\n",
        "print(np.shape(accuracy_humidity))"
      ]
    },
    {
      "cell_type": "markdown",
      "metadata": {
        "id": "KjhvMaeZvDJ5"
      },
      "source": [
        "It can be observed that by using 't' time as intervals, we obtain 37 observations of accuracy for each of the two temperature sensors provided in the dataset."
      ]
    },
    {
      "cell_type": "markdown",
      "metadata": {
        "id": "DId9DkNBvEni"
      },
      "source": [
        "Reliability (Beta)\n",
        "Considering reliability is a dynamic metric, we will be calculating it on periodic intervals of 't', where 't' is initialised earlier in the notebook."
      ]
    },
    {
      "cell_type": "code",
      "execution_count": null,
      "metadata": {
        "id": "cKybB8cTvJOy"
      },
      "outputs": [],
      "source": [
        "beta_humidity = sensor_selection_beta(df_humidity, start_time, end_time, t, 2, 2, 2)"
      ]
    },
    {
      "cell_type": "code",
      "execution_count": null,
      "metadata": {
        "colab": {
          "base_uri": "https://localhost:8080/"
        },
        "id": "1aXhSIdJvUYx",
        "outputId": "bc9c9229-614b-4d72-f38d-83389899e90a"
      },
      "outputs": [
        {
          "output_type": "stream",
          "name": "stdout",
          "text": [
            "[[0.00000000e+000 1.92268177e-061 1.34481426e-124]\n",
            " [4.08555027e-091 6.25993143e-099 0.00000000e+000]\n",
            " [6.00487181e-053 9.04149790e-088 0.00000000e+000]\n",
            " [3.20636328e-068 1.14491855e-138 0.00000000e+000]\n",
            " [2.65266202e-081 0.00000000e+000 0.00000000e+000]\n",
            " [2.89750909e-074 0.00000000e+000 0.00000000e+000]\n",
            " [8.95728380e-101 1.32847224e-086 0.00000000e+000]\n",
            " [0.00000000e+000 1.59363000e-072 0.00000000e+000]\n",
            " [1.81380872e-110 2.36819407e-062 0.00000000e+000]\n",
            " [0.00000000e+000 8.60560199e-071 0.00000000e+000]\n",
            " [0.00000000e+000 1.09970600e-050 0.00000000e+000]\n",
            " [0.00000000e+000 1.59363000e-072 0.00000000e+000]\n",
            " [0.00000000e+000 1.42245314e-060 0.00000000e+000]\n",
            " [0.00000000e+000 1.20956899e-065 0.00000000e+000]\n",
            " [0.00000000e+000 0.00000000e+000 0.00000000e+000]]\n",
            "(15, 3)\n"
          ]
        }
      ],
      "source": [
        "# dropping unnecessary rows\n",
        "#beta_humidity = beta_humidity[~np.all(beta_humidity == 0, axis=1)]\n",
        "beta_humidity = beta_humidity[:15]\n",
        "\n",
        "# print beta metric\n",
        "print(beta_humidity)\n",
        "\n",
        "# print shape of the metric\n",
        "print(np.shape(beta_humidity))"
      ]
    },
    {
      "cell_type": "markdown",
      "metadata": {
        "id": "DT0E7Yr8vhYC"
      },
      "source": [
        "It can be observed that by using 't' time as intervals, we obtain 37 observations of reliability for each of the two temperature sensors provided in the dataset. <br>\n",
        "This is in accordance with the accuracy metric where we obtained 37 observations as well using the same time interval 't'."
      ]
    },
    {
      "cell_type": "code",
      "execution_count": null,
      "metadata": {
        "colab": {
          "base_uri": "https://localhost:8080/"
        },
        "id": "XAJ-8uxbvpjf",
        "outputId": "5109d05f-96ae-4069-e2f5-bb35a90e336d"
      },
      "outputs": [
        {
          "output_type": "stream",
          "name": "stdout",
          "text": [
            "15\n"
          ]
        }
      ],
      "source": [
        "# number of observations obtained based on 't' time interval\n",
        "index = beta_humidity.shape[0]\n",
        "\n",
        "print(index)"
      ]
    },
    {
      "cell_type": "markdown",
      "metadata": {
        "id": "SyKcVfwYv4j3"
      },
      "source": [
        "Metric Vector\n",
        "Based on accuracy and reliability as the dynamic metrics, and resolution, response time and range of measurements as static metrics, we will define a metric vector.\n",
        "There will be five columns, based on number of evaluation metrics, and 37 rows based on data-points obtained above on periodic time intervals."
      ]
    },
    {
      "cell_type": "code",
      "execution_count": null,
      "metadata": {
        "id": "jf9bFDFdv7xa"
      },
      "outputs": [],
      "source": [
        "# define rows and columns\n",
        "data_points = 15  # rows\n",
        "number_of_metrics = 5 # columns\n",
        "\n",
        "# define matrix\n",
        "metrics_humidity = np.zeros((data_points, number_of_metrics))"
      ]
    },
    {
      "cell_type": "markdown",
      "metadata": {
        "id": "Ev8Ig07sVkvC"
      },
      "source": [
        "For sensor '32_humidity'"
      ]
    },
    {
      "cell_type": "code",
      "execution_count": null,
      "metadata": {
        "id": "dzPNCS_LwJaA"
      },
      "outputs": [],
      "source": [
        "# to access data-points of sensor '32_temp' from accuracy and reliability arrays\n",
        "sensor_0 = 0"
      ]
    },
    {
      "cell_type": "code",
      "execution_count": null,
      "metadata": {
        "id": "CqwtbaEYwNyn"
      },
      "outputs": [],
      "source": [
        "# accuracy (alpha)\n",
        "for data_point in range(data_points):\n",
        "  metrics_humidity[data_point][alpha] = accuracy_humidity[data_point][sensor_0]"
      ]
    },
    {
      "cell_type": "code",
      "execution_count": null,
      "metadata": {
        "id": "7vvryXklwUrl"
      },
      "outputs": [],
      "source": [
        "# reliability (beta)\n",
        "for data_point in range(data_points):\n",
        "  metrics_humidity[data_point][beta] = beta_humidity[data_point][sensor_0]"
      ]
    },
    {
      "cell_type": "code",
      "execution_count": null,
      "metadata": {
        "id": "bWX1DlOdweP6"
      },
      "outputs": [],
      "source": [
        "# resolution (gamma)\n",
        "\n",
        "# assuming static gamma value = 1\n",
        "gamma_value = 1\n",
        "\n",
        "for data_point in range(data_points):\n",
        "  metrics_humidity[data_point][gamma] = gamma_value"
      ]
    },
    {
      "cell_type": "code",
      "execution_count": null,
      "metadata": {
        "id": "akRxfGtPwizM"
      },
      "outputs": [],
      "source": [
        "# response time (delta)\n",
        "\n",
        "# assuming static gamma value = 1\n",
        "delta_value = 1\n",
        "\n",
        "for data_point in range(data_points):\n",
        "  metrics_humidity[data_point][delta] = delta_value"
      ]
    },
    {
      "cell_type": "code",
      "execution_count": null,
      "metadata": {
        "id": "0c8aexUNwis2"
      },
      "outputs": [],
      "source": [
        "# range of measurements (eta)\n",
        "\n",
        "# assuming static eta value = 1\n",
        "eta_value = 1\n",
        "\n",
        "for data_point in range(data_points):\n",
        "  metrics_humidity[data_point][eta] = eta_value"
      ]
    },
    {
      "cell_type": "code",
      "execution_count": null,
      "metadata": {
        "colab": {
          "base_uri": "https://localhost:8080/"
        },
        "id": "WJpeTg79wrC2",
        "outputId": "e0795fe5-3896-4469-e593-ea84423d74aa"
      },
      "outputs": [
        {
          "output_type": "stream",
          "name": "stdout",
          "text": [
            "[[6.16228184e-001 0.00000000e+000 1.00000000e+000 1.00000000e+000\n",
            "  1.00000000e+000]\n",
            " [5.99972629e-001 4.08555027e-091 1.00000000e+000 1.00000000e+000\n",
            "  1.00000000e+000]\n",
            " [6.00757642e-001 6.00487181e-053 1.00000000e+000 1.00000000e+000\n",
            "  1.00000000e+000]\n",
            " [6.00470159e-001 3.20636328e-068 1.00000000e+000 1.00000000e+000\n",
            "  1.00000000e+000]\n",
            " [5.99817243e-001 2.65266202e-081 1.00000000e+000 1.00000000e+000\n",
            "  1.00000000e+000]\n",
            " [6.01840700e-001 2.89750909e-074 1.00000000e+000 1.00000000e+000\n",
            "  1.00000000e+000]\n",
            " [6.01097855e-001 8.95728380e-101 1.00000000e+000 1.00000000e+000\n",
            "  1.00000000e+000]\n",
            " [6.01009757e-001 0.00000000e+000 1.00000000e+000 1.00000000e+000\n",
            "  1.00000000e+000]\n",
            " [6.01862115e-001 1.81380872e-110 1.00000000e+000 1.00000000e+000\n",
            "  1.00000000e+000]\n",
            " [5.99544957e-001 0.00000000e+000 1.00000000e+000 1.00000000e+000\n",
            "  1.00000000e+000]\n",
            " [6.00421988e-001 0.00000000e+000 1.00000000e+000 1.00000000e+000\n",
            "  1.00000000e+000]\n",
            " [5.99711829e-001 0.00000000e+000 1.00000000e+000 1.00000000e+000\n",
            "  1.00000000e+000]\n",
            " [5.99547279e-001 0.00000000e+000 1.00000000e+000 1.00000000e+000\n",
            "  1.00000000e+000]\n",
            " [6.00550295e-001 0.00000000e+000 1.00000000e+000 1.00000000e+000\n",
            "  1.00000000e+000]\n",
            " [6.02230085e-001 0.00000000e+000 1.00000000e+000 1.00000000e+000\n",
            "  1.00000000e+000]]\n"
          ]
        }
      ],
      "source": [
        "# print metrics\n",
        "print(metrics_humidity)"
      ]
    },
    {
      "cell_type": "markdown",
      "metadata": {
        "id": "v1j5dN06wve5"
      },
      "source": [
        "Calculating cosine similarity"
      ]
    },
    {
      "cell_type": "code",
      "execution_count": null,
      "metadata": {
        "colab": {
          "base_uri": "https://localhost:8080/"
        },
        "id": "a_vrLiWJw0MP",
        "outputId": "b428f32d-251e-443d-ffc7-2eab94c15281"
      },
      "outputs": [
        {
          "output_type": "stream",
          "name": "stdout",
          "text": [
            "[[-0.07111195]\n",
            " [-0.07704313]\n",
            " [-0.07675181]\n",
            " [-0.07685844]\n",
            " [-0.07710085]\n",
            " [-0.0763507 ]\n",
            " [-0.07662571]\n",
            " [-0.07665836]\n",
            " [-0.07634278]\n",
            " [-0.07720204]\n",
            " [-0.07687631]\n",
            " [-0.07714002]\n",
            " [-0.07720118]\n",
            " [-0.07682871]\n",
            " [-0.07620672]]\n"
          ]
        }
      ],
      "source": [
        "cosine_distance_32_humidity = cosine_distance(metrics_humidity, index)\n",
        "print(cosine_distance_32_humidity)"
      ]
    },
    {
      "cell_type": "markdown",
      "metadata": {
        "id": "pGW3aGRuw9RA"
      },
      "source": [
        "It can be observed that we have calculated the cosine similarity for sensor '32_humidity' on each time intervals of 't' above."
      ]
    },
    {
      "cell_type": "markdown",
      "metadata": {
        "id": "DV2zWG9WxCIm"
      },
      "source": [
        "For sensor '31_humidity'"
      ]
    },
    {
      "cell_type": "code",
      "execution_count": null,
      "metadata": {
        "id": "p2Ux7cMaxFzZ"
      },
      "outputs": [],
      "source": [
        "# define matrix\n",
        "metrics_temp_31_humidity = np.zeros((data_points, number_of_metrics))"
      ]
    },
    {
      "cell_type": "code",
      "execution_count": null,
      "metadata": {
        "id": "bes-Z_d-xFw8"
      },
      "outputs": [],
      "source": [
        "# to access data-points of sensor '31_temp' from accuracy and reliability arrays\n",
        "sensor_0 = 1"
      ]
    },
    {
      "cell_type": "code",
      "execution_count": null,
      "metadata": {
        "id": "n4JMjx0_xFuk"
      },
      "outputs": [],
      "source": [
        "# accuracy (alpha)\n",
        "for data_point in range(data_points):\n",
        "  metrics_temp_31_humidity[data_point][alpha] = accuracy_humidity[data_point][sensor_0]"
      ]
    },
    {
      "cell_type": "code",
      "execution_count": null,
      "metadata": {
        "id": "c6prDhkXxFsh"
      },
      "outputs": [],
      "source": [
        "# reliability (beta)\n",
        "for data_point in range(data_points):\n",
        "  metrics_temp_31_humidity[data_point][beta] = beta_humidity[data_point][sensor_0]"
      ]
    },
    {
      "cell_type": "code",
      "execution_count": null,
      "metadata": {
        "id": "JsGVTyoXxFqO"
      },
      "outputs": [],
      "source": [
        "# resolution (gamma)\n",
        "\n",
        "# assuming static gamma value = 1\n",
        "gamma_value = 1\n",
        "\n",
        "for data_point in range(data_points):\n",
        "  metrics_temp_31_humidity[data_point][gamma] = gamma_value"
      ]
    },
    {
      "cell_type": "code",
      "execution_count": null,
      "metadata": {
        "id": "lfZJ9JYTxFnv"
      },
      "outputs": [],
      "source": [
        "# response time (delta)\n",
        "\n",
        "# assuming static gamma value = 1\n",
        "delta_value = 1\n",
        "\n",
        "for data_point in range(data_points):\n",
        "  metrics_temp_31_humidity[data_point][delta] = delta_value"
      ]
    },
    {
      "cell_type": "code",
      "execution_count": null,
      "metadata": {
        "id": "Vahpxj1KxFk_"
      },
      "outputs": [],
      "source": [
        "# range of measurements (eta)\n",
        "\n",
        "# assuming static eta value = 1\n",
        "eta_value = 1\n",
        "\n",
        "for data_point in range(data_points):\n",
        "  metrics_temp_31_humidity[data_point][eta] = eta_value"
      ]
    },
    {
      "cell_type": "code",
      "execution_count": null,
      "metadata": {
        "colab": {
          "base_uri": "https://localhost:8080/"
        },
        "id": "lF-yYZb0xFh1",
        "outputId": "dd8b35f8-4c96-476c-d18e-be01e5dedc20"
      },
      "outputs": [
        {
          "output_type": "stream",
          "name": "stdout",
          "text": [
            "[[7.49901752e-001 1.92268177e-061 1.00000000e+000 1.00000000e+000\n",
            "  1.00000000e+000]\n",
            " [6.25699934e-001 6.25993143e-099 1.00000000e+000 1.00000000e+000\n",
            "  1.00000000e+000]\n",
            " [6.21377845e-001 9.04149790e-088 1.00000000e+000 1.00000000e+000\n",
            "  1.00000000e+000]\n",
            " [6.44338215e-001 1.14491855e-138 1.00000000e+000 1.00000000e+000\n",
            "  1.00000000e+000]\n",
            " [6.44408419e-001 0.00000000e+000 1.00000000e+000 1.00000000e+000\n",
            "  1.00000000e+000]\n",
            " [6.60991532e-001 0.00000000e+000 1.00000000e+000 1.00000000e+000\n",
            "  1.00000000e+000]\n",
            " [6.21490565e-001 1.32847224e-086 1.00000000e+000 1.00000000e+000\n",
            "  1.00000000e+000]\n",
            " [6.19734760e-001 1.59363000e-072 1.00000000e+000 1.00000000e+000\n",
            "  1.00000000e+000]\n",
            " [6.16978576e-001 2.36819407e-062 1.00000000e+000 1.00000000e+000\n",
            "  1.00000000e+000]\n",
            " [6.31790152e-001 8.60560199e-071 1.00000000e+000 1.00000000e+000\n",
            "  1.00000000e+000]\n",
            " [6.19864407e-001 1.09970600e-050 1.00000000e+000 1.00000000e+000\n",
            "  1.00000000e+000]\n",
            " [6.26014867e-001 1.59363000e-072 1.00000000e+000 1.00000000e+000\n",
            "  1.00000000e+000]\n",
            " [6.33386960e-001 1.42245314e-060 1.00000000e+000 1.00000000e+000\n",
            "  1.00000000e+000]\n",
            " [6.21289349e-001 1.20956899e-065 1.00000000e+000 1.00000000e+000\n",
            "  1.00000000e+000]\n",
            " [6.14418501e-001 0.00000000e+000 1.00000000e+000 1.00000000e+000\n",
            "  1.00000000e+000]]\n"
          ]
        }
      ],
      "source": [
        "# print metrics\n",
        "print(metrics_temp_31_humidity)"
      ]
    },
    {
      "cell_type": "markdown",
      "metadata": {
        "id": "EgsZtAlCxrb5"
      },
      "source": [
        "Calculating cosine similarity"
      ]
    },
    {
      "cell_type": "code",
      "execution_count": null,
      "metadata": {
        "colab": {
          "base_uri": "https://localhost:8080/"
        },
        "id": "8cLrqehqxFO1",
        "outputId": "971d7728-932f-46f6-e3fa-8b997e40d00b"
      },
      "outputs": [
        {
          "output_type": "stream",
          "name": "stdout",
          "text": [
            "[[-0.03080024]\n",
            " [-0.06775491]\n",
            " [-0.06927767]\n",
            " [-0.06136483]\n",
            " [-0.06134131]\n",
            " [-0.05590091]\n",
            " [-0.06923776]\n",
            " [-0.06986058]\n",
            " [-0.07084332]\n",
            " [-0.06563525]\n",
            " [-0.0698145 ]\n",
            " [-0.06764455]\n",
            " [-0.06508456]\n",
            " [-0.06930901]\n",
            " [-0.07176168]]\n"
          ]
        }
      ],
      "source": [
        "cosine_distance_31_humidity = cosine_distance(metrics_temp_31_humidity, index)\n",
        "print(cosine_distance_31_humidity)"
      ]
    },
    {
      "cell_type": "markdown",
      "metadata": {
        "id": "P4MBX-qnx3Ax"
      },
      "source": [
        "It can be observed that we have calculated the cosine similarity for sensor '31_temp' on each time intervals of 't' above"
      ]
    },
    {
      "cell_type": "markdown",
      "metadata": {
        "id": "5eql1VV71KB2"
      },
      "source": [
        "20"
      ]
    },
    {
      "cell_type": "code",
      "execution_count": null,
      "metadata": {
        "id": "cXPjo62r1N_U"
      },
      "outputs": [],
      "source": [
        "# define matrix\n",
        "metrics_temp_20_humidity = np.zeros((data_points, number_of_metrics))"
      ]
    },
    {
      "cell_type": "code",
      "execution_count": null,
      "metadata": {
        "id": "eX1ADdS_1Pyd"
      },
      "outputs": [],
      "source": [
        "# to access data-points of sensor '31_temp' from accuracy and reliability arrays\n",
        "sensor_0 = 2"
      ]
    },
    {
      "cell_type": "code",
      "execution_count": null,
      "metadata": {
        "id": "SBky1jWj1Pv1"
      },
      "outputs": [],
      "source": [
        "# accuracy (alpha)\n",
        "for data_point in range(data_points):\n",
        "  metrics_temp_20_humidity[data_point][alpha] = accuracy_humidity[data_point][sensor_0]"
      ]
    },
    {
      "cell_type": "code",
      "execution_count": null,
      "metadata": {
        "id": "oev66UNV1PtU"
      },
      "outputs": [],
      "source": [
        "# reliability (beta)\n",
        "for data_point in range(data_points):\n",
        "  metrics_temp_20_humidity[data_point][beta] = beta_humidity[data_point][sensor_0]"
      ]
    },
    {
      "cell_type": "code",
      "execution_count": null,
      "metadata": {
        "id": "5hCRJToK1Pq6"
      },
      "outputs": [],
      "source": [
        "# resolution (gamma)\n",
        "\n",
        "# assuming static gamma value = 1\n",
        "gamma_value = 1\n",
        "\n",
        "for data_point in range(data_points):\n",
        "  metrics_temp_20_humidity[data_point][gamma] = gamma_value"
      ]
    },
    {
      "cell_type": "code",
      "execution_count": null,
      "metadata": {
        "id": "-wvYZ6BK1Pn7"
      },
      "outputs": [],
      "source": [
        "# response time (delta)\n",
        "\n",
        "# assuming static gamma value = 1\n",
        "delta_value = 1\n",
        "\n",
        "for data_point in range(data_points):\n",
        "  metrics_temp_20_humidity[data_point][delta] = delta_value"
      ]
    },
    {
      "cell_type": "code",
      "execution_count": null,
      "metadata": {
        "id": "YERxprzM1k8R"
      },
      "outputs": [],
      "source": [
        "# range of measurements (eta)\n",
        "\n",
        "# assuming static eta value = 1\n",
        "eta_value = 1\n",
        "\n",
        "for data_point in range(data_points):\n",
        "  metrics_temp_20_humidity[data_point][eta] = eta_value"
      ]
    },
    {
      "cell_type": "code",
      "execution_count": null,
      "metadata": {
        "colab": {
          "base_uri": "https://localhost:8080/"
        },
        "id": "yzu37i4E1ouF",
        "outputId": "40839a1d-f53d-459f-f9a3-4955515816ab"
      },
      "outputs": [
        {
          "output_type": "stream",
          "name": "stdout",
          "text": [
            "[[7.97834574e-001 1.34481426e-124 1.00000000e+000 1.00000000e+000\n",
            "  1.00000000e+000]\n",
            " [6.83209760e-001 0.00000000e+000 1.00000000e+000 1.00000000e+000\n",
            "  1.00000000e+000]\n",
            " [6.80598468e-001 0.00000000e+000 1.00000000e+000 1.00000000e+000\n",
            "  1.00000000e+000]\n",
            " [6.97492404e-001 0.00000000e+000 1.00000000e+000 1.00000000e+000\n",
            "  1.00000000e+000]\n",
            " [6.96991673e-001 0.00000000e+000 1.00000000e+000 1.00000000e+000\n",
            "  1.00000000e+000]\n",
            " [7.11110325e-001 0.00000000e+000 1.00000000e+000 1.00000000e+000\n",
            "  1.00000000e+000]\n",
            " [6.80948451e-001 0.00000000e+000 1.00000000e+000 1.00000000e+000\n",
            "  1.00000000e+000]\n",
            " [6.79575398e-001 0.00000000e+000 1.00000000e+000 1.00000000e+000\n",
            "  1.00000000e+000]\n",
            " [6.78177841e-001 0.00000000e+000 1.00000000e+000 1.00000000e+000\n",
            "  1.00000000e+000]\n",
            " [6.87380412e-001 0.00000000e+000 1.00000000e+000 1.00000000e+000\n",
            "  1.00000000e+000]\n",
            " [6.79231109e-001 0.00000000e+000 1.00000000e+000 1.00000000e+000\n",
            "  1.00000000e+000]\n",
            " [6.83232650e-001 0.00000000e+000 1.00000000e+000 1.00000000e+000\n",
            "  1.00000000e+000]\n",
            " [6.88579638e-001 0.00000000e+000 1.00000000e+000 1.00000000e+000\n",
            "  1.00000000e+000]\n",
            " [6.80374259e-001 0.00000000e+000 1.00000000e+000 1.00000000e+000\n",
            "  1.00000000e+000]\n",
            " [6.76567461e-001 0.00000000e+000 1.00000000e+000 1.00000000e+000\n",
            "  1.00000000e+000]]\n"
          ]
        }
      ],
      "source": [
        "# print metrics\n",
        "print(metrics_temp_20_humidity)"
      ]
    },
    {
      "cell_type": "code",
      "execution_count": null,
      "metadata": {
        "colab": {
          "base_uri": "https://localhost:8080/"
        },
        "id": "fJWwzKVz3hoz",
        "outputId": "5f755ef5-4971-467b-9013-a81cd8eecbf0"
      },
      "outputs": [
        {
          "output_type": "stream",
          "name": "stdout",
          "text": [
            "[[-0.02023079]\n",
            " [-0.04897858]\n",
            " [-0.04977014]\n",
            " [-0.04475396]\n",
            " [-0.04489906]\n",
            " [-0.04089252]\n",
            " [-0.0496637 ]\n",
            " [-0.05008187]\n",
            " [-0.05050916]\n",
            " [-0.04772659]\n",
            " [-0.05018697]\n",
            " [-0.04897166]\n",
            " [-0.04736939]\n",
            " [-0.04983838]\n",
            " [-0.05100362]]\n"
          ]
        }
      ],
      "source": [
        "cosine_distance_20_humidity = cosine_distance(metrics_temp_20_humidity, index)\n",
        "print(cosine_distance_20_humidity)"
      ]
    },
    {
      "cell_type": "markdown",
      "metadata": {
        "id": "x5UY5r2rXfr9"
      },
      "source": [
        "DataFrame is ready!"
      ]
    },
    {
      "cell_type": "markdown",
      "metadata": {
        "id": "UZo9Fd_PXkc6"
      },
      "source": [
        "The ML model needs to be trained on two datasets. First contains both the humidity and temperature sensors available, while the second consists of only the optimal humidity and temperature sensors available. <br>\n",
        "We will compare the performance of our ML model on both the datasets and observe the differences."
      ]
    },
    {
      "cell_type": "code",
      "execution_count": null,
      "metadata": {
        "colab": {
          "base_uri": "https://localhost:8080/"
        },
        "id": "7v-2CKHXWNO6",
        "outputId": "3ed05c46-edc8-4b2b-fc37-24fd6ce80114"
      },
      "outputs": [
        {
          "output_type": "stream",
          "name": "stdout",
          "text": [
            "              Time    52_temp  52_humidity    51_temp  51_humidity    50_temp  \\\n",
            "0  0 days 18:01:32  26.700001    62.200001  27.900000    68.199997  24.900000   \n",
            "14 0 days 18:01:46  26.700001    62.400002  27.900000    67.900002  24.799999   \n",
            "15 0 days 18:01:47  26.700001    62.400002  27.900000    67.900002  24.799999   \n",
            "26 0 days 18:01:58  26.600000    62.500000  27.799999    66.800003  24.799999   \n",
            "44 0 days 18:02:16  26.600000    62.799999  27.799999    65.500000  24.700001   \n",
            "\n",
            "    50_humidity  number of person  \n",
            "0     68.500000                 1  \n",
            "14    67.800003                 1  \n",
            "15    67.800003                 1  \n",
            "26    67.900002                 1  \n",
            "44    67.599998                 1  \n"
          ]
        }
      ],
      "source": [
        "# ready df\n",
        "df.drop(columns=[\"52_M2\", \"52_M1\", \"51_M2\", \"51_M1\", \"50_M2\", \"50_M1\"], inplace=True)\n",
        "print(df.head())"
      ]
    },
    {
      "cell_type": "markdown",
      "metadata": {
        "id": "qmQW8NqHZGUT"
      },
      "source": [
        "# ML based analysis"
      ]
    },
    {
      "cell_type": "markdown",
      "metadata": {
        "id": "1vFf_B3xY6W4"
      },
      "source": [
        "Splitting the datasets"
      ]
    },
    {
      "cell_type": "markdown",
      "metadata": {
        "id": "XE7djrhEdsXr"
      },
      "source": [
        "Define a function to fit machine learning algorithms"
      ]
    },
    {
      "cell_type": "code",
      "execution_count": null,
      "metadata": {
        "id": "ZSBk9pkF5qQV"
      },
      "outputs": [],
      "source": [
        "def machine_learning_with_sensor_selection(start_time, end_time, t, df, model):\n",
        "\n",
        "  #with sensor selection\n",
        "  start = start_time\n",
        "  end = start + t\n",
        "  index = 0\n",
        "  accuracy_with_sensor_selection = [ ]\n",
        "  time_consumption_with_sensor_selection = [ ]\n",
        "  memory_consumption_with_sensor_selection = [ ]\n",
        "  cpu_consumption_with_sensor_selection = [ ]\n",
        "  memory = 0\n",
        "  sensor_t = [\"52_temp\", \"51_temp\", \"50_temp\"]\n",
        "  sensor_h = [\"52_humidity\", \"51_humidity\", \"50_humidity\"]\n",
        "\n",
        "  while end <= end_time:\n",
        "\n",
        "    print(\"[INFO] Iteration Number:\", index)\n",
        "\n",
        "    df_compare = pd.DataFrame()\n",
        "\n",
        "    y_compare = df.loc[(df[\"Time\"] >= start) & (df[\"Time\"] < end)][\"number of person\"]\n",
        "    shape_rows = y_compare.shape[0]\n",
        "    y_compare = np.array(y_compare)\n",
        "    y_compare = np.reshape(y_compare, (shape_rows, 1))\n",
        "\n",
        "\n",
        "    cosine_t = [cosine_distance_32_temp[index], cosine_distance_31_temp[index], cosine_distance_20_temp[index]]\n",
        "    df_compare[\"temp\"] = df.loc[(df[\"Time\"] >= start) & (df[\"Time\"] < end)][sensor_t[cosine_t.index(max(cosine_t))]]\n",
        "\n",
        "    cosine_h = [cosine_distance_32_humidity[index], cosine_distance_31_humidity[index], cosine_distance_20_humidity[index]]\n",
        "    df_compare[\"humidity\"] = df.loc[(df[\"Time\"] >= start) & (df[\"Time\"] < end)][sensor_h[cosine_h.index(max(cosine_h))]]\n",
        "\n",
        "    memory += df_compare.memory_usage(index=True).sum()\n",
        "    memory_consumption_with_sensor_selection.append([memory, (index + 1)*interval])\n",
        "\n",
        "    start_time_estimate = time.time()\n",
        "    prediction_with_sensor_selection = model.predict(df_compare)\n",
        "    score_with_sensor_selection = accuracy_score(y_compare, prediction_with_sensor_selection)\n",
        "    end_time_estimate = time.time()\n",
        "\n",
        "    estimate = end_time_estimate - start_time_estimate \n",
        "\n",
        "    cpu_utilization = psutil.cpu_percent(interval)\n",
        "    cpu_consumption_with_sensor_selection.append([cpu_utilization, (index + 1)*interval])\n",
        "\n",
        "    print(\"Time:\", estimate)\n",
        "    print(\"Memory Usage:\", memory)\n",
        "    print(\"Score:\", score_with_sensor_selection)\n",
        "    print('The CPU usage is: ', cpu_utilization)\n",
        "\n",
        "\n",
        "    accuracy_with_sensor_selection.append([score_with_sensor_selection, (index + 1)*interval])\n",
        "    time_consumption_with_sensor_selection.append([estimate, (index + 1)*interval])\n",
        "\n",
        "    start = end\n",
        "    end = start + t\n",
        "    index += 1\n",
        "\n",
        "  return accuracy_with_sensor_selection, time_consumption_with_sensor_selection, memory_consumption_with_sensor_selection, cpu_consumption_with_sensor_selection"
      ]
    },
    {
      "cell_type": "code",
      "execution_count": null,
      "metadata": {
        "id": "VPSRIqF95uch"
      },
      "outputs": [],
      "source": [
        "def machine_learning_without_sensor_selection(start_time, end_time, t, df, model):\n",
        "  #without sensor selection\n",
        "\n",
        "  start = start_time\n",
        "  end = start + t\n",
        "  index = 0\n",
        "  accuracy_without_sensor_selection = [ ]\n",
        "  time_consumption_without_sensor_selection = [ ]\n",
        "  memory_consumption_without_sensor_selection = [ ]\n",
        "  cpu_consumption_without_sensor_selection = [ ]\n",
        "  memory = 0\n",
        "  while end <= end_time:\n",
        "    print(\"[INFO] Iteration Number:\", index)\n",
        "\n",
        "    memory += df.loc[(df[\"Time\"] >= start) & (df[\"Time\"] < end)].memory_usage(index=True).sum()\n",
        "    memory_consumption_without_sensor_selection.append([memory, (index + 1)*interval])\n",
        "\n",
        "    start_time_estimate = time.time()  \n",
        "\n",
        "    df_original = pd.DataFrame()\n",
        "    df_original[\"temp\"] = df.loc[(df[\"Time\"] >= start) & (df[\"Time\"] < end)][[\"52_temp\", \"51_temp\", \"50_temp\"]].mean(axis=1)\n",
        "    df_original[\"humidity\"] = df.loc[(df[\"Time\"] >= start) & (df[\"Time\"] < end)][[\"52_humidity\", \"51_humidity\", \"50_humidity\"]].mean(axis=1)\n",
        "\n",
        "    y_original = df.loc[(df[\"Time\"] >= start) & (df[\"Time\"] < end)][\"number of person\"]\n",
        "    shape_rows = y_original.shape[0]\n",
        "    y_original = np.array(y_original)\n",
        "    y_original = np.reshape(y_original, (shape_rows, 1))\n",
        "\n",
        "    prediction_without_sensor_selection = model.predict(df_original)\n",
        "    score_without_sensor_selection = accuracy_score(y_original, prediction_without_sensor_selection)\n",
        "\n",
        "    end_time_estimate = time.time()\n",
        "    estimate = end_time_estimate - start_time_estimate\n",
        "\n",
        "    cpu_utilization = psutil.cpu_percent(interval)\n",
        "    cpu_consumption_without_sensor_selection.append([cpu_utilization, (index + 1)*interval])\n",
        "\n",
        "    print(\"Time:\", estimate)\n",
        "    print(\"Memory Usage:\", memory)\n",
        "    print(\"CPU Utlization:\", cpu_utilization)\n",
        "    print(\"Score:\", score_without_sensor_selection)\n",
        "\n",
        "    time_consumption_without_sensor_selection.append([estimate, (index + 1)*interval])\n",
        "    accuracy_without_sensor_selection.append([score_without_sensor_selection, (index + 1)*interval])\n",
        "\n",
        "    start = end\n",
        "    end = start + t\n",
        "    index += 1\n",
        "  \n",
        "  return accuracy_without_sensor_selection, time_consumption_without_sensor_selection, memory_consumption_without_sensor_selection, cpu_consumption_without_sensor_selection"
      ]
    },
    {
      "cell_type": "code",
      "execution_count": null,
      "metadata": {
        "id": "hbs8oxN8d_fY"
      },
      "outputs": [],
      "source": [
        "# def machine_learning_with_sensor_selection(start_time, end_time, t, df, model):\n",
        "\n",
        "#   #with sensor selection\n",
        "#   start = start_time\n",
        "#   end = start + t\n",
        "#   index = 0\n",
        "#   accuracy_with_sensor_selection = [ ]\n",
        "#   time_consumption_with_sensor_selection = [ ]\n",
        "#   memory_consumption_with_sensor_selection = [ ]\n",
        "#   cpu_consumption_with_sensor_selection = [ ]\n",
        "#   memory = 0\n",
        "#   while end <= end_time:\n",
        "\n",
        "#     print(\"[INFO] Iteration Number:\", index)\n",
        "\n",
        "#     df_compare = pd.DataFrame()\n",
        "\n",
        "#     y_compare = df.loc[(df[\"Time\"] >= start) & (df[\"Time\"] < end)][\"number of people\"]\n",
        "#     shape_rows = y_compare.shape[0]\n",
        "#     y_compare = np.array(y_compare)\n",
        "#     y_compare = np.reshape(y_compare, (shape_rows, 1))\n",
        "\n",
        "#     if cosine_distance_32_temp[index] >= cosine_distance_31_temp[index]:\n",
        "#       df_compare[\"temp\"] = df.loc[(df[\"Time\"] >= start) & (df[\"Time\"] < end)][\"33_temp\"]\n",
        "#     else:\n",
        "#       df_compare[\"temp\"] = df.loc[(df[\"Time\"] >= start) & (df[\"Time\"] < end)][\"30_temp\"]\n",
        "\n",
        "#     if cosine_distance_32_humidity[index] >= cosine_distance_31_humidity[index]:\n",
        "#       df_compare[\"humidity\"] = df.loc[(df[\"Time\"] >= start) & (df[\"Time\"] < end)][\"33_humidity\"]\n",
        "#     else:\n",
        "#       df_compare[\"humidity\"] = df.loc[(df[\"Time\"] >= start) & (df[\"Time\"] < end)][\"30_humidity\"]\n",
        "\n",
        "#     memory += df_compare.memory_usage(index=True).sum()\n",
        "#     memory_consumption_with_sensor_selection.append([memory, (index + 1)*interval])\n",
        "\n",
        "#     start_time_estimate = time.time()\n",
        "#     prediction_with_sensor_selection = model.predict(df_compare)\n",
        "#     score_with_sensor_selection = accuracy_score(y_compare, prediction_with_sensor_selection)\n",
        "#     end_time_estimate = time.time()\n",
        "\n",
        "#     estimate = end_time_estimate - start_time_estimate \n",
        "\n",
        "#     cpu_utilization = psutil.cpu_percent(interval)\n",
        "#     cpu_consumption_with_sensor_selection.append([cpu_utilization, (index + 1)*interval])\n",
        "\n",
        "#     print(\"Time:\", estimate)\n",
        "#     print(\"Memory Usage:\", memory)\n",
        "#     print(\"Score:\", score_with_sensor_selection)\n",
        "#     print('The CPU usage is: ', cpu_utilization)\n",
        "\n",
        "\n",
        "#     accuracy_with_sensor_selection.append([score_with_sensor_selection, (index + 1)*interval])\n",
        "#     time_consumption_with_sensor_selection.append([estimate, (index + 1)*interval])\n",
        "\n",
        "#     start = end\n",
        "#     end = start + t\n",
        "#     index += 1\n",
        "\n",
        "#   return accuracy_with_sensor_selection, time_consumption_with_sensor_selection, memory_consumption_with_sensor_selection, cpu_consumption_with_sensor_selection"
      ]
    },
    {
      "cell_type": "code",
      "execution_count": null,
      "metadata": {
        "id": "lIZpKJEueEzu"
      },
      "outputs": [],
      "source": [
        "# def machine_learning_without_sensor_selection(start_time, end_time, t, df, model):\n",
        "#   #without sensor selection\n",
        "\n",
        "#   start = start_time\n",
        "#   end = start + t\n",
        "#   index = 0\n",
        "#   accuracy_without_sensor_selection = [ ]\n",
        "#   time_consumption_without_sensor_selection = [ ]\n",
        "#   memory_consumption_without_sensor_selection = [ ]\n",
        "#   cpu_consumption_without_sensor_selection = [ ]\n",
        "#   memory = 0\n",
        "#   while end <= end_time:\n",
        "#     print(\"[INFO] Iteration Number:\", index)\n",
        "\n",
        "#     memory += df.loc[(df[\"Time\"] >= start) & (df[\"Time\"] < end)].memory_usage(index=True).sum()\n",
        "#     memory_consumption_without_sensor_selection.append([memory, (index + 1)*interval])\n",
        "\n",
        "#     start_time_estimate = time.time()  \n",
        "\n",
        "#     df_original = pd.DataFrame()\n",
        "#     df_original[\"temp\"] = df.loc[(df[\"Time\"] >= start) & (df[\"Time\"] < end)][[\"33_temp\", \"30_temp\"]].mean(axis=1)\n",
        "#     df_original[\"humidity\"] = df.loc[(df[\"Time\"] >= start) & (df[\"Time\"] < end)][[\"33_humidity\", \"30_humidity\"]].mean(axis=1)\n",
        "\n",
        "#     y_original = df.loc[(df[\"Time\"] >= start) & (df[\"Time\"] < end)][\"number of people\"]\n",
        "#     shape_rows = y_original.shape[0]\n",
        "#     y_original = np.array(y_original)\n",
        "#     y_original = np.reshape(y_original, (shape_rows, 1))\n",
        "\n",
        "#     prediction_without_sensor_selection = model.predict(df_original)\n",
        "#     score_without_sensor_selection = accuracy_score(y_original, prediction_without_sensor_selection)\n",
        "\n",
        "#     end_time_estimate = time.time()\n",
        "#     estimate = end_time_estimate - start_time_estimate\n",
        "\n",
        "#     cpu_utilization = psutil.cpu_percent(interval)\n",
        "#     cpu_consumption_without_sensor_selection.append([cpu_utilization, (index + 1)*interval])\n",
        "\n",
        "#     print(\"Time:\", estimate)\n",
        "#     print(\"Memory Usage:\", memory)\n",
        "#     print(\"CPU Utlization:\", cpu_utilization)\n",
        "#     print(\"Score:\", score_without_sensor_selection)\n",
        "\n",
        "#     time_consumption_without_sensor_selection.append([estimate, (index + 1)*interval])\n",
        "#     accuracy_without_sensor_selection.append([score_without_sensor_selection, (index + 1)*interval])\n",
        "\n",
        "#     start = end\n",
        "#     end = start + t\n",
        "#     index += 1\n",
        "  \n",
        "#   return accuracy_without_sensor_selection, time_consumption_without_sensor_selection, memory_consumption_without_sensor_selection, cpu_consumption_without_sensor_selection"
      ]
    },
    {
      "cell_type": "code",
      "execution_count": null,
      "metadata": {
        "id": "GacUVGFCvams"
      },
      "outputs": [],
      "source": [
        "# modified plotting function to include average of the data points\n",
        "def plot(twod_list, marker, color, x_label, y_label, label):\n",
        "  twod_list = np.array(twod_list)\n",
        "  x = twod_list[:, 1]\n",
        "  y = twod_list[:, 0]\n",
        "  plt.plot(x, y, marker , color=color, linestyle = \"solid\", label = label)\n",
        "  plt.xlabel(x_label)\n",
        "  plt.ylabel(y_label)\n",
        "  plt.legend()"
      ]
    },
    {
      "cell_type": "code",
      "execution_count": null,
      "metadata": {
        "id": "7kHjFHUP0Vzv"
      },
      "outputs": [],
      "source": [
        "def plot_average(twod_list, color, label):\n",
        "  twod_list = np.array(twod_list)\n",
        "  x = twod_list[:, 1]\n",
        "  y = twod_list[:, 0]\n",
        "  average = sum(y)/len(y)\n",
        "  plt.axhline(y = average, color = color, linestyle= '-', label = label)\n",
        "  plt.legend()"
      ]
    },
    {
      "cell_type": "code",
      "execution_count": null,
      "metadata": {
        "id": "KjRySyex03e8"
      },
      "outputs": [],
      "source": [
        "#modified\n",
        "def two_d_list_to_dataframe(two_d_list1, two_d_list2, two_d_list3, two_d_list4, column_name_1, column_name_2, column_name_3, column_name_4, column_name_5):\n",
        "  \n",
        "  two_d_array1 = np.array(two_d_list1)\n",
        "  two_d_array2 = np.array(two_d_list2)\n",
        "  two_d_array3 = np.array(two_d_list3)\n",
        "  two_d_array4 = np.array(two_d_list4)\n",
        "  df = pd.DataFrame({column_name_1:two_d_array1[:, 1], column_name_2:two_d_array1[:, 0], column_name_3:two_d_array2[:, 0], \n",
        "                     column_name_4:two_d_array3[:, 0], column_name_5:two_d_array4[:, 0]})\n",
        "  \n",
        "  return df"
      ]
    },
    {
      "cell_type": "markdown",
      "metadata": {
        "id": "EqIpjmIWGqMc"
      },
      "source": [
        "Training Sets "
      ]
    },
    {
      "cell_type": "code",
      "execution_count": null,
      "metadata": {
        "colab": {
          "base_uri": "https://localhost:8080/"
        },
        "id": "-GqdxihSG5D6",
        "outputId": "48e81841-bbd2-4642-f762-6d5b387a1d6e"
      },
      "outputs": [
        {
          "output_type": "stream",
          "name": "stdout",
          "text": [
            "Index(['Time', '52_temp', '52_humidity', '51_temp', '51_humidity', '50_temp',\n",
            "       '50_humidity', 'number of person'],\n",
            "      dtype='object')\n"
          ]
        }
      ],
      "source": [
        "print(df.columns)"
      ]
    },
    {
      "cell_type": "code",
      "execution_count": null,
      "metadata": {
        "colab": {
          "base_uri": "https://localhost:8080/"
        },
        "id": "hjvYFSkj2r3g",
        "outputId": "46ca6ee2-8af7-4c12-f794-61b131928991"
      },
      "outputs": [
        {
          "output_type": "stream",
          "name": "stdout",
          "text": [
            "0\n",
            "51_temp\n",
            "50_humidity\n",
            "1\n",
            "51_temp\n",
            "50_humidity\n",
            "2\n",
            "51_temp\n",
            "50_humidity\n",
            "3\n",
            "51_temp\n",
            "50_humidity\n",
            "4\n",
            "51_temp\n",
            "50_humidity\n",
            "5\n",
            "51_temp\n",
            "50_humidity\n",
            "6\n",
            "51_temp\n",
            "50_humidity\n",
            "7\n",
            "51_temp\n",
            "50_humidity\n",
            "8\n",
            "51_temp\n",
            "50_humidity\n",
            "9\n",
            "51_temp\n",
            "50_humidity\n",
            "10\n",
            "51_temp\n",
            "50_humidity\n",
            "11\n",
            "51_temp\n",
            "50_humidity\n",
            "12\n",
            "51_temp\n",
            "50_humidity\n",
            "13\n",
            "51_temp\n",
            "50_humidity\n",
            "14\n",
            "51_temp\n",
            "50_humidity\n"
          ]
        }
      ],
      "source": [
        "#training set with sensor selection\n",
        "train_X_sensor_selection = pd.DataFrame()\n",
        "train_y_sensor_selection = df[\"number of person\"]\n",
        "start = start_time\n",
        "t = t\n",
        "end = start + t\n",
        "index = 0\n",
        "temp = [ ]\n",
        "humidity = [ ]\n",
        "temp_values = [ ]\n",
        "humidity_values = [ ]\n",
        "sensor_t = [\"52_temp\", \"51_temp\", \"50_temp\"]\n",
        "sensor_h = [\"52_humidity\", \"51_humidity\", \"50_humidity\"]\n",
        "\n",
        "while end <= end_time:\n",
        "  print(index)\n",
        "\n",
        "  cosine_t = [cosine_distance_32_temp[index], cosine_distance_31_temp[index], cosine_distance_20_temp[index]]\n",
        "  sensor_index = cosine_t.index(max(cosine_t))\n",
        "  print(sensor_t[sensor_index])\n",
        "  temp_values = list(df.loc[(df[\"Time\"] >= start) & (df[\"Time\"] < end)][sensor_t[sensor_index]])\n",
        "  for i in temp_values:\n",
        "    temp.append(i)\n",
        "\n",
        "  cosine_h = [cosine_distance_32_humidity[index], cosine_distance_31_humidity[index], cosine_distance_20_humidity[index]]\n",
        "  sensor_index = cosine_h.index(max(cosine_h))\n",
        "  print(sensor_h[sensor_index])\n",
        "  humidity_values = list(df.loc[(df[\"Time\"] >= start) & (df[\"Time\"] < end)][sensor_h[sensor_index]])\n",
        "  for i in humidity_values:\n",
        "    humidity.append(i)\n",
        "\n",
        "  start = end\n",
        "  end = start + t\n",
        "  index += 1\n",
        "  temp_values = [ ]\n",
        "  humidity_values = [ ]\n",
        "\n",
        "train_X_sensor_selection[\"temp\"] = temp\n",
        "train_X_sensor_selection[\"humidity\"] = humidity"
      ]
    },
    {
      "cell_type": "code",
      "execution_count": null,
      "metadata": {
        "id": "CjyBCUbcYkk_"
      },
      "outputs": [],
      "source": [
        "# #training set with sensor selection\n",
        "# train_X_sensor_selection = pd.DataFrame()\n",
        "# train_y_sensor_selection = df[\"number of people\"]\n",
        "# start = start_time\n",
        "# t = t\n",
        "# end = start + t\n",
        "# index = 0\n",
        "# temp = [ ]\n",
        "# humidity = [ ]\n",
        "# temp_values = [ ]\n",
        "# humidity_values = [ ]\n",
        "\n",
        "# while end <= end_time:\n",
        "#   print(index)\n",
        "#   if cosine_distance_32_temp[index] >= cosine_distance_31_temp[index]:\n",
        "#     print(\"first\")\n",
        "#     temp_values = list(df.loc[(df[\"Time\"] >= start) & (df[\"Time\"] < end)][\"33_temp\"])\n",
        "#     for i in temp_values:\n",
        "#       temp.append(i)\n",
        "#   else:\n",
        "#     print(\"second\")\n",
        "#     temp_values = list(df.loc[(df[\"Time\"] >= start) & (df[\"Time\"] < end)][\"30_temp\"])\n",
        "#     for i in temp_values:\n",
        "#       temp.append(i)\n",
        "  \n",
        "#   if cosine_distance_32_humidity[index] >= cosine_distance_31_humidity[index]:\n",
        "#     print(\"first\")\n",
        "#     humidity_values = list(df.loc[(df[\"Time\"] >= start) & (df[\"Time\"] < end)][\"33_humidity\"])\n",
        "#     for i in humidity_values:\n",
        "#       humidity.append(i)\n",
        "#   else:\n",
        "#     print(\"second\")\n",
        "#     humidity_values = list(df.loc[(df[\"Time\"] >= start) & (df[\"Time\"] < end)][\"30_humidity\"])\n",
        "#     for i in humidity_values:\n",
        "#       humidity.append(i)\n",
        "\n",
        "#   start = end\n",
        "#   end = start + t\n",
        "#   index += 1\n",
        "#   temp_values = [ ]\n",
        "#   humidity_values = [ ]\n",
        "\n",
        "# train_X_sensor_selection[\"temp\"] = temp\n",
        "# train_X_sensor_selection[\"humidity\"] = humidity"
      ]
    },
    {
      "cell_type": "markdown",
      "metadata": {
        "id": "QFgqCkpbjLmF"
      },
      "source": [
        "K-Nearest Neighbours "
      ]
    },
    {
      "cell_type": "markdown",
      "metadata": {
        "id": "LnHyG5v_QcrN"
      },
      "source": []
    },
    {
      "cell_type": "code",
      "execution_count": null,
      "metadata": {
        "colab": {
          "base_uri": "https://localhost:8080/"
        },
        "id": "8wU7Hzor43ky",
        "outputId": "af2ea290-99b7-4207-e7ce-c209eeabad5b"
      },
      "outputs": [
        {
          "output_type": "execute_result",
          "data": {
            "text/plain": [
              "(891, 2)"
            ]
          },
          "metadata": {},
          "execution_count": 382
        }
      ],
      "source": [
        "train_X_sensor_selection.shape"
      ]
    },
    {
      "cell_type": "code",
      "execution_count": null,
      "metadata": {
        "id": "CN3u7vLZaUxW"
      },
      "outputs": [],
      "source": [
        "len_training_set = len(train_X_sensor_selection)"
      ]
    },
    {
      "cell_type": "code",
      "execution_count": null,
      "metadata": {
        "id": "kMN2bL6haAAu"
      },
      "outputs": [],
      "source": [
        "remove_n = df.shape[0] - len_training_set\n",
        "drop_indices = np.random.choice(df.index, remove_n, replace=False)\n",
        "sample_df = df.drop(drop_indices)"
      ]
    },
    {
      "cell_type": "code",
      "execution_count": null,
      "metadata": {
        "colab": {
          "base_uri": "https://localhost:8080/"
        },
        "id": "CBK6xYTxZ_4M",
        "outputId": "34ea610e-2be6-4c34-c78e-6bcedac446b7"
      },
      "outputs": [
        {
          "output_type": "execute_result",
          "data": {
            "text/plain": [
              "(891, 8)"
            ]
          },
          "metadata": {},
          "execution_count": 385
        }
      ],
      "source": [
        "sample_df.shape"
      ]
    },
    {
      "cell_type": "code",
      "execution_count": null,
      "metadata": {
        "id": "wYKWjOCnZ_u6"
      },
      "outputs": [],
      "source": [
        "remove_n = df.shape[0] - len_training_set\n",
        "drop_indices = np.random.choice(train_y_sensor_selection.index, remove_n, replace=False)\n",
        "train_y_sensor_selection = train_y_sensor_selection.drop(drop_indices)"
      ]
    },
    {
      "cell_type": "code",
      "execution_count": null,
      "metadata": {
        "colab": {
          "base_uri": "https://localhost:8080/"
        },
        "id": "uRNGjnOVZ_my",
        "outputId": "850a89c0-4a8f-4dbe-811b-f9d07954bc2d"
      },
      "outputs": [
        {
          "output_type": "execute_result",
          "data": {
            "text/plain": [
              "(891,)"
            ]
          },
          "metadata": {},
          "execution_count": 387
        }
      ],
      "source": [
        "train_y_sensor_selection.shape"
      ]
    },
    {
      "cell_type": "code",
      "execution_count": null,
      "metadata": {
        "colab": {
          "base_uri": "https://localhost:8080/"
        },
        "id": "vi0Y_38d5RNf",
        "outputId": "f9d36efc-8178-4c61-e279-c3c4e23c92ac"
      },
      "outputs": [
        {
          "output_type": "execute_result",
          "data": {
            "text/plain": [
              "(891, 8)"
            ]
          },
          "metadata": {},
          "execution_count": 388
        }
      ],
      "source": [
        "sample_df.shape"
      ]
    },
    {
      "cell_type": "code",
      "execution_count": null,
      "metadata": {
        "colab": {
          "base_uri": "https://localhost:8080/"
        },
        "id": "6FrA0rMkeu7y",
        "outputId": "e80ea7cc-7c11-4cbe-e502-a728b97365ea"
      },
      "outputs": [
        {
          "output_type": "execute_result",
          "data": {
            "text/plain": [
              "KNeighborsClassifier()"
            ]
          },
          "metadata": {},
          "execution_count": 389
        }
      ],
      "source": [
        "model = KNeighborsClassifier()\n",
        "model.fit(train_X_sensor_selection, train_y_sensor_selection)"
      ]
    },
    {
      "cell_type": "code",
      "execution_count": null,
      "metadata": {
        "colab": {
          "base_uri": "https://localhost:8080/"
        },
        "id": "2z6YP0ulQcrN",
        "outputId": "ec21c9b9-16cd-4733-8944-1560cac92cd9"
      },
      "outputs": [
        {
          "output_type": "stream",
          "name": "stdout",
          "text": [
            "[INFO] Iteration Number: 0\n",
            "Time: 0.008677244186401367\n",
            "Memory Usage: 912\n",
            "Score: 1.0\n",
            "The CPU usage is:  2.6\n",
            "[INFO] Iteration Number: 1\n",
            "Time: 0.0035741329193115234\n",
            "Memory Usage: 2040\n",
            "Score: 1.0\n",
            "The CPU usage is:  1.6\n",
            "[INFO] Iteration Number: 2\n",
            "Time: 0.003858804702758789\n",
            "Memory Usage: 2880\n",
            "Score: 1.0\n",
            "The CPU usage is:  1.7\n",
            "[INFO] Iteration Number: 3\n",
            "Time: 0.003551959991455078\n",
            "Memory Usage: 3984\n",
            "Score: 1.0\n",
            "The CPU usage is:  1.7\n",
            "[INFO] Iteration Number: 4\n",
            "Time: 0.00370025634765625\n",
            "Memory Usage: 5232\n",
            "Score: 1.0\n",
            "The CPU usage is:  1.9\n",
            "[INFO] Iteration Number: 5\n",
            "Time: 0.005518436431884766\n",
            "Memory Usage: 6408\n",
            "Score: 1.0\n",
            "The CPU usage is:  16.2\n",
            "[INFO] Iteration Number: 6\n",
            "Time: 0.00372314453125\n",
            "Memory Usage: 7632\n",
            "Score: 1.0\n",
            "The CPU usage is:  1.7\n",
            "[INFO] Iteration Number: 7\n",
            "Time: 0.008011341094970703\n",
            "Memory Usage: 8664\n",
            "Score: 1.0\n",
            "The CPU usage is:  1.9\n",
            "[INFO] Iteration Number: 8\n",
            "Time: 0.011477947235107422\n",
            "Memory Usage: 9624\n",
            "Score: 1.0\n",
            "The CPU usage is:  1.7\n",
            "[INFO] Iteration Number: 9\n",
            "Time: 0.010972738265991211\n",
            "Memory Usage: 10704\n",
            "Score: 1.0\n",
            "The CPU usage is:  1.5\n",
            "[INFO] Iteration Number: 10\n",
            "Time: 0.003231048583984375\n",
            "Memory Usage: 11544\n",
            "Score: 1.0\n",
            "The CPU usage is:  1.8\n",
            "[INFO] Iteration Number: 11\n",
            "Time: 0.007935285568237305\n",
            "Memory Usage: 12648\n",
            "Score: 1.0\n",
            "The CPU usage is:  1.7\n",
            "[INFO] Iteration Number: 12\n",
            "Time: 0.007035732269287109\n",
            "Memory Usage: 13704\n",
            "Score: 0.4318181818181818\n",
            "The CPU usage is:  25.8\n",
            "[INFO] Iteration Number: 13\n",
            "Time: 0.008291482925415039\n",
            "Memory Usage: 14760\n",
            "Score: 0.06818181818181818\n",
            "The CPU usage is:  1.6\n",
            "[INFO] Iteration Number: 14\n",
            "Time: 0.010668277740478516\n",
            "Memory Usage: 18360\n",
            "Score: 0.4666666666666667\n",
            "The CPU usage is:  1.6\n"
          ]
        }
      ],
      "source": [
        "accuracy_with_sensor_selection, time_consumption_with_sensor_selection, memory_consumption_with_sensor_selection, cpu_consumption_with_sensor_selection = machine_learning_with_sensor_selection(start_time, end_time, t, sample_df, model)"
      ]
    },
    {
      "cell_type": "code",
      "execution_count": null,
      "metadata": {
        "colab": {
          "base_uri": "https://localhost:8080/"
        },
        "id": "7pBIsa5IQcrO",
        "outputId": "46a7ca5c-b349-4ed8-f08f-c0fd2e6713ac"
      },
      "outputs": [
        {
          "name": "stdout",
          "output_type": "stream",
          "text": [
            "[[1.0, 2], [1.0, 4], [1.0, 6], [1.0, 8], [1.0, 10], [1.0, 12], [1.0, 14], [1.0, 16], [1.0, 18], [1.0, 20], [1.0, 22], [1.0, 24], [1.0, 26], [1.0, 28], [1.0, 30], [1.0, 32], [1.0, 34], [1.0, 36], [1.0, 38], [1.0, 40], [1.0, 42], [1.0, 44], [1.0, 46], [1.0, 48], [1.0, 50], [1.0, 52], [1.0, 54], [1.0, 56], [1.0, 58], [1.0, 60], [0.7777777777777778, 62], [0.6428571428571429, 64], [0.3333333333333333, 66], [0.3333333333333333, 68], [0.2222222222222222, 70], [0.0, 72], [0.5242718446601942, 74], [0.7757009345794392, 76]]\n"
          ]
        }
      ],
      "source": [
        "print(accuracy_with_sensor_selection)"
      ]
    },
    {
      "cell_type": "code",
      "execution_count": null,
      "metadata": {
        "colab": {
          "base_uri": "https://localhost:8080/"
        },
        "id": "6IJNWvOhQcrO",
        "outputId": "412b27fa-f12d-4fe8-8366-18782fef0f5d"
      },
      "outputs": [
        {
          "output_type": "stream",
          "name": "stdout",
          "text": [
            "Average accuracy with sensor selection: 0.8644444444444445\n"
          ]
        }
      ],
      "source": [
        "accuracy_with_sensor_selection_array = np.array(accuracy_with_sensor_selection)\n",
        "x = accuracy_with_sensor_selection_array[:, 0]\n",
        "print(\"Average accuracy with sensor selection:\", sum(x)/len(accuracy_with_sensor_selection))"
      ]
    },
    {
      "cell_type": "code",
      "execution_count": null,
      "metadata": {
        "colab": {
          "base_uri": "https://localhost:8080/"
        },
        "id": "_G9IWd0EdWcA",
        "outputId": "3322b6cb-52b3-4520-d97b-25aaa872ae4b"
      },
      "outputs": [
        {
          "output_type": "stream",
          "name": "stdout",
          "text": [
            "0.3995510662177329\n"
          ]
        }
      ],
      "source": [
        "#####EDIT#######\n",
        "df_compare = pd.DataFrame()\n",
        "df_compare[\"temp\"] = sample_df[\"51_temp\"]\n",
        "df_compare[\"humidity\"] = sample_df[\"51_humidity\"]\n",
        "y_compare = sample_df[\"number of person\"]\n",
        "\n",
        "pred = model.predict(df_compare)\n",
        "print(accuracy_score(y_compare, pred))"
      ]
    },
    {
      "cell_type": "code",
      "execution_count": null,
      "metadata": {
        "colab": {
          "base_uri": "https://localhost:8080/"
        },
        "id": "4o42hVM_QcrO",
        "outputId": "404f3644-1cd3-450a-920b-c8cfa0eef54e"
      },
      "outputs": [
        {
          "output_type": "stream",
          "name": "stdout",
          "text": [
            "[INFO] Iteration Number: 0\n",
            "Time: 0.013874292373657227\n",
            "Memory Usage: 2736\n",
            "CPU Utlization: 2.1\n",
            "Score: 1.0\n",
            "[INFO] Iteration Number: 1\n",
            "Time: 0.021575927734375\n",
            "Memory Usage: 6120\n",
            "CPU Utlization: 1.9\n",
            "Score: 1.0\n",
            "[INFO] Iteration Number: 2\n",
            "Time: 0.018683195114135742\n",
            "Memory Usage: 8640\n",
            "CPU Utlization: 1.7\n",
            "Score: 1.0\n",
            "[INFO] Iteration Number: 3\n",
            "Time: 0.011507034301757812\n",
            "Memory Usage: 11952\n",
            "CPU Utlization: 1.7\n",
            "Score: 1.0\n",
            "[INFO] Iteration Number: 4\n",
            "Time: 0.021420001983642578\n",
            "Memory Usage: 15696\n",
            "CPU Utlization: 1.7\n",
            "Score: 1.0\n",
            "[INFO] Iteration Number: 5\n",
            "Time: 0.021085262298583984\n",
            "Memory Usage: 19224\n",
            "CPU Utlization: 24.6\n",
            "Score: 1.0\n",
            "[INFO] Iteration Number: 6\n",
            "Time: 0.026673078536987305\n",
            "Memory Usage: 22896\n",
            "CPU Utlization: 3.3\n",
            "Score: 1.0\n",
            "[INFO] Iteration Number: 7\n",
            "Time: 0.016126394271850586\n",
            "Memory Usage: 25992\n",
            "CPU Utlization: 1.9\n",
            "Score: 0.18604651162790697\n",
            "[INFO] Iteration Number: 8\n",
            "Time: 0.017803668975830078\n",
            "Memory Usage: 28872\n",
            "CPU Utlization: 1.4\n",
            "Score: 0.0\n",
            "[INFO] Iteration Number: 9\n",
            "Time: 0.01767873764038086\n",
            "Memory Usage: 32112\n",
            "CPU Utlization: 2.2\n",
            "Score: 0.0\n",
            "[INFO] Iteration Number: 10\n",
            "Time: 0.019458293914794922\n",
            "Memory Usage: 34632\n",
            "CPU Utlization: 1.9\n",
            "Score: 0.0\n",
            "[INFO] Iteration Number: 11\n",
            "Time: 0.022952556610107422\n",
            "Memory Usage: 37944\n",
            "CPU Utlization: 1.9\n",
            "Score: 0.0\n",
            "[INFO] Iteration Number: 12\n",
            "Time: 0.020613908767700195\n",
            "Memory Usage: 41112\n",
            "CPU Utlization: 1.8\n",
            "Score: 0.0\n",
            "[INFO] Iteration Number: 13\n",
            "Time: 0.01645946502685547\n",
            "Memory Usage: 44280\n",
            "CPU Utlization: 2.0\n",
            "Score: 0.0\n",
            "[INFO] Iteration Number: 14\n",
            "Time: 0.01838850975036621\n",
            "Memory Usage: 55080\n",
            "CPU Utlization: 1.7\n",
            "Score: 0.8533333333333334\n"
          ]
        }
      ],
      "source": [
        "accuracy_without_sensor_selection, time_consumption_without_sensor_selection, memory_consumption_without_sensor_selection, cpu_consumption_without_sensor_selection = machine_learning_without_sensor_selection(start_time, end_time, t, sample_df, model)"
      ]
    },
    {
      "cell_type": "code",
      "execution_count": null,
      "metadata": {
        "colab": {
          "base_uri": "https://localhost:8080/"
        },
        "id": "ugULIzwUQcrP",
        "outputId": "dafa6d90-dee8-4016-ed5e-4d439899cf4f"
      },
      "outputs": [
        {
          "output_type": "stream",
          "name": "stdout",
          "text": [
            "Average accuracy without sensor selection: 0.5359586563307494\n"
          ]
        }
      ],
      "source": [
        "accuracy_without_sensor_selection_array = np.array(accuracy_without_sensor_selection)\n",
        "x = accuracy_without_sensor_selection_array[:, 0]\n",
        "print(\"Average accuracy without sensor selection:\", sum(x)/len(accuracy_without_sensor_selection))"
      ]
    },
    {
      "cell_type": "code",
      "source": [
        "plot(time_consumption_with_sensor_selection, \"*\", \"#288fb8\", \"Time Interval\", \"Computation Cost (seconds)\", \"UniPreCIS\")\n",
        "plot(time_consumption_without_sensor_selection, \".\", \"#f3cc60\", \"Time Interval\", \"Computation Cost (seconds)\", \"Without Sensor Selection\")\n",
        "plt.show()"
      ],
      "metadata": {
        "colab": {
          "base_uri": "https://localhost:8080/",
          "height": 279
        },
        "id": "lTwpt497DWzD",
        "outputId": "103662c8-e960-4197-ece6-d3f71d3dc5ef"
      },
      "execution_count": null,
      "outputs": [
        {
          "output_type": "display_data",
          "data": {
            "text/plain": [
              "<Figure size 432x288 with 1 Axes>"
            ],
            "image/png": "[encoded data removed]"
          },
          "metadata": {}
        }
      ]
    },
    {
      "cell_type": "markdown",
      "metadata": {
        "id": "HyniHN2vjgcf"
      },
      "source": [
        "Decision Tree Regressor"
      ]
    },
    {
      "cell_type": "markdown",
      "metadata": {
        "id": "9OIvwj5iQjIM"
      },
      "source": [
        "Train set 2"
      ]
    },
    {
      "cell_type": "code",
      "execution_count": null,
      "metadata": {
        "colab": {
          "base_uri": "https://localhost:8080/"
        },
        "id": "x61FtyLHjv8t",
        "outputId": "16217f00-7958-453f-d26b-addb64fbf7f7"
      },
      "outputs": [
        {
          "output_type": "execute_result",
          "data": {
            "text/plain": [
              "DecisionTreeClassifier()"
            ]
          },
          "metadata": {},
          "execution_count": 397
        }
      ],
      "source": [
        "model = DecisionTreeClassifier()\n",
        "model.fit(train_X_sensor_selection, train_y_sensor_selection)"
      ]
    },
    {
      "cell_type": "code",
      "execution_count": null,
      "metadata": {
        "colab": {
          "base_uri": "https://localhost:8080/"
        },
        "id": "TywVBeJ_QjIN",
        "outputId": "48be6af2-889a-4a4e-8e62-13a09193fde7"
      },
      "outputs": [
        {
          "output_type": "stream",
          "name": "stdout",
          "text": [
            "[INFO] Iteration Number: 0\n",
            "Time: 0.0025899410247802734\n",
            "Memory Usage: 912\n",
            "Score: 1.0\n",
            "The CPU usage is:  2.3\n",
            "[INFO] Iteration Number: 1\n",
            "Time: 0.0015299320220947266\n",
            "Memory Usage: 2040\n",
            "Score: 1.0\n",
            "The CPU usage is:  1.9\n",
            "[INFO] Iteration Number: 2\n",
            "Time: 0.00450444221496582\n",
            "Memory Usage: 2880\n",
            "Score: 1.0\n",
            "The CPU usage is:  1.6\n",
            "[INFO] Iteration Number: 3\n",
            "Time: 0.00188446044921875\n",
            "Memory Usage: 3984\n",
            "Score: 1.0\n",
            "The CPU usage is:  1.9\n",
            "[INFO] Iteration Number: 4\n",
            "Time: 0.007769584655761719\n",
            "Memory Usage: 5232\n",
            "Score: 1.0\n",
            "The CPU usage is:  2.6\n",
            "[INFO] Iteration Number: 5\n",
            "Time: 0.00261688232421875\n",
            "Memory Usage: 6408\n",
            "Score: 1.0\n",
            "The CPU usage is:  1.9\n",
            "[INFO] Iteration Number: 6\n",
            "Time: 0.0021581649780273438\n",
            "Memory Usage: 7632\n",
            "Score: 1.0\n",
            "The CPU usage is:  2.1\n",
            "[INFO] Iteration Number: 7\n",
            "Time: 0.0016160011291503906\n",
            "Memory Usage: 8664\n",
            "Score: 1.0\n",
            "The CPU usage is:  1.3\n",
            "[INFO] Iteration Number: 8\n",
            "Time: 0.0023872852325439453\n",
            "Memory Usage: 9624\n",
            "Score: 1.0\n",
            "The CPU usage is:  2.1\n",
            "[INFO] Iteration Number: 9\n",
            "Time: 0.0015673637390136719\n",
            "Memory Usage: 10704\n",
            "Score: 1.0\n",
            "The CPU usage is:  1.7\n",
            "[INFO] Iteration Number: 10\n",
            "Time: 0.0065479278564453125\n",
            "Memory Usage: 11544\n",
            "Score: 1.0\n",
            "The CPU usage is:  2.0\n",
            "[INFO] Iteration Number: 11\n",
            "Time: 0.002115964889526367\n",
            "Memory Usage: 12648\n",
            "Score: 0.7608695652173914\n",
            "The CPU usage is:  1.4\n",
            "[INFO] Iteration Number: 12\n",
            "Time: 0.005789279937744141\n",
            "Memory Usage: 13704\n",
            "Score: 0.09090909090909091\n",
            "The CPU usage is:  2.1\n",
            "[INFO] Iteration Number: 13\n",
            "Time: 0.0015521049499511719\n",
            "Memory Usage: 14760\n",
            "Score: 0.0\n",
            "The CPU usage is:  1.6\n",
            "[INFO] Iteration Number: 14\n",
            "Time: 0.0029799938201904297\n",
            "Memory Usage: 18360\n",
            "Score: 0.78\n",
            "The CPU usage is:  2.2\n"
          ]
        }
      ],
      "source": [
        "accuracy_with_sensor_selection, time_consumption_with_sensor_selection, memory_consumption_with_sensor_selection, cpu_consumption_with_sensor_selection = machine_learning_with_sensor_selection(start_time, end_time, t, sample_df, model)"
      ]
    },
    {
      "cell_type": "code",
      "execution_count": null,
      "metadata": {
        "colab": {
          "base_uri": "https://localhost:8080/"
        },
        "id": "tSZlsmX6QjIN",
        "outputId": "68c867b4-1e85-46ee-e338-5ab7f372d4ce"
      },
      "outputs": [
        {
          "output_type": "stream",
          "name": "stdout",
          "text": [
            "Average accuracy with sensor selection: 0.8421185770750987\n"
          ]
        }
      ],
      "source": [
        "accuracy_with_sensor_selection_array = np.array(accuracy_with_sensor_selection)\n",
        "x = accuracy_with_sensor_selection_array[:, 0]\n",
        "print(\"Average accuracy with sensor selection:\", sum(x)/len(accuracy_with_sensor_selection))"
      ]
    },
    {
      "cell_type": "code",
      "execution_count": null,
      "metadata": {
        "colab": {
          "base_uri": "https://localhost:8080/"
        },
        "id": "rE1PoJ8Lk5m4",
        "outputId": "f7629ae5-4a30-4bbf-f8fc-242182a5168d"
      },
      "outputs": [
        {
          "output_type": "stream",
          "name": "stdout",
          "text": [
            "0.39730639730639733\n"
          ]
        }
      ],
      "source": [
        "#####EDIT#######\n",
        "df_compare = pd.DataFrame()\n",
        "df_compare[\"temp\"] = sample_df[\"51_temp\"]\n",
        "df_compare[\"humidity\"] = sample_df[\"51_humidity\"]\n",
        "y_compare = sample_df[\"number of person\"]\n",
        "\n",
        "pred = model.predict(df_compare)\n",
        "print(accuracy_score(y_compare, pred))"
      ]
    },
    {
      "cell_type": "code",
      "execution_count": null,
      "metadata": {
        "colab": {
          "base_uri": "https://localhost:8080/"
        },
        "id": "xteJR_55QjIO",
        "outputId": "a49d2658-739f-41de-dbff-5ebbec3a2786"
      },
      "outputs": [
        {
          "output_type": "stream",
          "name": "stdout",
          "text": [
            "[INFO] Iteration Number: 0\n",
            "Time: 0.014551162719726562\n",
            "Memory Usage: 2736\n",
            "CPU Utlization: 2.1\n",
            "Score: 1.0\n",
            "[INFO] Iteration Number: 1\n",
            "Time: 0.018140792846679688\n",
            "Memory Usage: 6120\n",
            "CPU Utlization: 2.1\n",
            "Score: 1.0\n",
            "[INFO] Iteration Number: 2\n",
            "Time: 0.01536417007446289\n",
            "Memory Usage: 8640\n",
            "CPU Utlization: 2.0\n",
            "Score: 1.0\n",
            "[INFO] Iteration Number: 3\n",
            "Time: 0.0173189640045166\n",
            "Memory Usage: 11952\n",
            "CPU Utlization: 9.7\n",
            "Score: 1.0\n",
            "[INFO] Iteration Number: 4\n",
            "Time: 0.015869140625\n",
            "Memory Usage: 15696\n",
            "CPU Utlization: 18.0\n",
            "Score: 0.6346153846153846\n",
            "[INFO] Iteration Number: 5\n",
            "Time: 0.009617090225219727\n",
            "Memory Usage: 19224\n",
            "CPU Utlization: 2.0\n",
            "Score: 0.0\n",
            "[INFO] Iteration Number: 6\n",
            "Time: 0.011236906051635742\n",
            "Memory Usage: 22896\n",
            "CPU Utlization: 1.6\n",
            "Score: 0.0\n",
            "[INFO] Iteration Number: 7\n",
            "Time: 0.009965896606445312\n",
            "Memory Usage: 25992\n",
            "CPU Utlization: 2.0\n",
            "Score: 0.0\n",
            "[INFO] Iteration Number: 8\n",
            "Time: 0.014491558074951172\n",
            "Memory Usage: 28872\n",
            "CPU Utlization: 1.7\n",
            "Score: 0.0\n",
            "[INFO] Iteration Number: 9\n",
            "Time: 0.01580333709716797\n",
            "Memory Usage: 32112\n",
            "CPU Utlization: 2.3\n",
            "Score: 0.0\n",
            "[INFO] Iteration Number: 10\n",
            "Time: 0.014902353286743164\n",
            "Memory Usage: 34632\n",
            "CPU Utlization: 1.8\n",
            "Score: 0.0\n",
            "[INFO] Iteration Number: 11\n",
            "Time: 0.011256694793701172\n",
            "Memory Usage: 37944\n",
            "CPU Utlization: 2.2\n",
            "Score: 0.0\n",
            "[INFO] Iteration Number: 12\n",
            "Time: 0.012885093688964844\n",
            "Memory Usage: 41112\n",
            "CPU Utlization: 1.4\n",
            "Score: 0.0\n",
            "[INFO] Iteration Number: 13\n",
            "Time: 0.011698007583618164\n",
            "Memory Usage: 44280\n",
            "CPU Utlization: 1.9\n",
            "Score: 0.0\n",
            "[INFO] Iteration Number: 14\n",
            "Time: 0.009674072265625\n",
            "Memory Usage: 55080\n",
            "CPU Utlization: 1.9\n",
            "Score: 0.8533333333333334\n"
          ]
        }
      ],
      "source": [
        "accuracy_without_sensor_selection, time_consumption_without_sensor_selection, memory_consumption_without_sensor_selection, cpu_consumption_without_sensor_selection = machine_learning_without_sensor_selection(start_time, end_time, t, sample_df, model)"
      ]
    },
    {
      "cell_type": "code",
      "execution_count": null,
      "metadata": {
        "colab": {
          "base_uri": "https://localhost:8080/"
        },
        "id": "55R61EUbQjIP",
        "outputId": "d19d7d14-cd78-45d7-c6c5-5788e6971063"
      },
      "outputs": [
        {
          "output_type": "stream",
          "name": "stdout",
          "text": [
            "Average accuracy without sensor selection: 0.3658632478632479\n"
          ]
        }
      ],
      "source": [
        "accuracy_without_sensor_selection_array = np.array(accuracy_without_sensor_selection)\n",
        "x = accuracy_without_sensor_selection_array[:, 0]\n",
        "print(\"Average accuracy without sensor selection:\", sum(x)/len(accuracy_without_sensor_selection))"
      ]
    },
    {
      "cell_type": "code",
      "source": [
        "plot(time_consumption_with_sensor_selection, \"*\", \"#288fb8\", \"Time Interval\", \"Computation Cost (seconds)\", \"UniPreCIS\")\n",
        "plot(time_consumption_without_sensor_selection, \".\", \"#f3cc60\", \"Time Interval\", \"Computation Cost (seconds)\", \"Without Sensor Selection\")\n",
        "plt.show()"
      ],
      "metadata": {
        "colab": {
          "base_uri": "https://localhost:8080/",
          "height": 279
        },
        "id": "9E2oN8rkIT7F",
        "outputId": "91c66a90-430a-4698-94ac-59cdb0d95641"
      },
      "execution_count": null,
      "outputs": [
        {
          "output_type": "display_data",
          "data": {
            "text/plain": [
              "<Figure size 432x288 with 1 Axes>"
            ],
            "image/png": "[encoded data removed]"
          },
          "metadata": {}
        }
      ]
    },
    {
      "cell_type": "markdown",
      "metadata": {
        "id": "2H84JgPv08Xq"
      },
      "source": [
        "Logistic Regression"
      ]
    },
    {
      "cell_type": "code",
      "execution_count": null,
      "metadata": {
        "id": "Gr_7bQRJ0-Yc",
        "colab": {
          "base_uri": "https://localhost:8080/"
        },
        "outputId": "e801887a-3f5e-43ea-8323-34fa469fa107"
      },
      "outputs": [
        {
          "output_type": "execute_result",
          "data": {
            "text/plain": [
              "LogisticRegression()"
            ]
          },
          "metadata": {},
          "execution_count": 411
        }
      ],
      "source": [
        "model = LogisticRegression()\n",
        "model.fit(train_X_sensor_selection, train_y_sensor_selection)"
      ]
    },
    {
      "cell_type": "markdown",
      "metadata": {
        "id": "pscltqR_0_C4"
      },
      "source": [
        "Our Approach"
      ]
    },
    {
      "cell_type": "code",
      "execution_count": null,
      "metadata": {
        "id": "FuONX-PB1OIL",
        "colab": {
          "base_uri": "https://localhost:8080/"
        },
        "outputId": "09494659-2cb8-436f-ce76-365f3b0dc5c4"
      },
      "outputs": [
        {
          "output_type": "stream",
          "name": "stdout",
          "text": [
            "[INFO] Iteration Number: 0\n",
            "Time: 0.0028679370880126953\n",
            "Memory Usage: 912\n",
            "Score: 1.0\n",
            "The CPU usage is:  3.0\n",
            "[INFO] Iteration Number: 1\n",
            "Time: 0.0041544437408447266\n",
            "Memory Usage: 2040\n",
            "Score: 1.0\n",
            "The CPU usage is:  2.1\n",
            "[INFO] Iteration Number: 2\n",
            "Time: 0.0015532970428466797\n",
            "Memory Usage: 2880\n",
            "Score: 1.0\n",
            "The CPU usage is:  5.4\n",
            "[INFO] Iteration Number: 3\n",
            "Time: 0.002274036407470703\n",
            "Memory Usage: 3984\n",
            "Score: 1.0\n",
            "The CPU usage is:  56.5\n",
            "[INFO] Iteration Number: 4\n",
            "Time: 0.0015444755554199219\n",
            "Memory Usage: 5232\n",
            "Score: 1.0\n",
            "The CPU usage is:  46.5\n",
            "[INFO] Iteration Number: 5\n",
            "Time: 0.0026123523712158203\n",
            "Memory Usage: 6408\n",
            "Score: 1.0\n",
            "The CPU usage is:  35.0\n",
            "[INFO] Iteration Number: 6\n",
            "Time: 0.0015444755554199219\n",
            "Memory Usage: 7632\n",
            "Score: 1.0\n",
            "The CPU usage is:  1.9\n",
            "[INFO] Iteration Number: 7\n",
            "Time: 0.0015492439270019531\n",
            "Memory Usage: 8664\n",
            "Score: 1.0\n",
            "The CPU usage is:  1.9\n",
            "[INFO] Iteration Number: 8\n",
            "Time: 0.0034940242767333984\n",
            "Memory Usage: 9624\n",
            "Score: 1.0\n",
            "The CPU usage is:  1.7\n",
            "[INFO] Iteration Number: 9\n",
            "Time: 0.0015249252319335938\n",
            "Memory Usage: 10704\n",
            "Score: 1.0\n",
            "The CPU usage is:  2.0\n",
            "[INFO] Iteration Number: 10\n",
            "Time: 0.0015459060668945312\n",
            "Memory Usage: 11544\n",
            "Score: 1.0\n",
            "The CPU usage is:  1.9\n",
            "[INFO] Iteration Number: 11\n",
            "Time: 0.0015382766723632812\n",
            "Memory Usage: 12648\n",
            "Score: 0.7608695652173914\n",
            "The CPU usage is:  2.1\n",
            "[INFO] Iteration Number: 12\n",
            "Time: 0.001529693603515625\n",
            "Memory Usage: 13704\n",
            "Score: 0.09090909090909091\n",
            "The CPU usage is:  1.6\n",
            "[INFO] Iteration Number: 13\n",
            "Time: 0.006574153900146484\n",
            "Memory Usage: 14760\n",
            "Score: 0.0\n",
            "The CPU usage is:  1.8\n",
            "[INFO] Iteration Number: 14\n",
            "Time: 0.0034084320068359375\n",
            "Memory Usage: 18360\n",
            "Score: 0.78\n",
            "The CPU usage is:  1.6\n"
          ]
        }
      ],
      "source": [
        "accuracy_with_sensor_selection, time_consumption_with_sensor_selection, memory_consumption_with_sensor_selection, cpu_consumption_with_sensor_selection = machine_learning_with_sensor_selection(start_time, end_time, t, sample_df, model)"
      ]
    },
    {
      "cell_type": "code",
      "execution_count": null,
      "metadata": {
        "id": "042pJOrx1u8q",
        "colab": {
          "base_uri": "https://localhost:8080/"
        },
        "outputId": "4908c56a-1ecc-41be-816d-31dbe59c4009"
      },
      "outputs": [
        {
          "output_type": "stream",
          "name": "stdout",
          "text": [
            "Average accuracy with sensor selection: 0.8421185770750987\n"
          ]
        }
      ],
      "source": [
        "accuracy_with_sensor_selection_array = np.array(accuracy_with_sensor_selection)\n",
        "x = accuracy_with_sensor_selection_array[:, 0]\n",
        "print(\"Average accuracy with sensor selection:\", sum(x)/len(accuracy_with_sensor_selection))"
      ]
    },
    {
      "cell_type": "markdown",
      "metadata": {
        "id": "zcDFPJWu2AVo"
      },
      "source": [
        "TOPSIS"
      ]
    },
    {
      "cell_type": "code",
      "execution_count": null,
      "metadata": {
        "id": "KJYO2Y7O10aD",
        "colab": {
          "base_uri": "https://localhost:8080/"
        },
        "outputId": "527be06e-463a-4e4f-be0b-eca3d1ebcf2c"
      },
      "outputs": [
        {
          "output_type": "stream",
          "name": "stdout",
          "text": [
            "0.388327721661055\n"
          ]
        }
      ],
      "source": [
        "#####EDIT#######\n",
        "df_compare = pd.DataFrame()\n",
        "df_compare[\"temp\"] = sample_df[\"51_temp\"]\n",
        "df_compare[\"humidity\"] = sample_df[\"51_humidity\"]\n",
        "y_compare = sample_df[\"number of person\"]\n",
        "\n",
        "pred = model.predict(df_compare)\n",
        "print(accuracy_score(y_compare, pred))"
      ]
    },
    {
      "cell_type": "markdown",
      "metadata": {
        "id": "zjYyinOh2EaX"
      },
      "source": [
        "Without Sensor Selection"
      ]
    },
    {
      "cell_type": "code",
      "execution_count": null,
      "metadata": {
        "id": "NUn3w8g1163-",
        "colab": {
          "base_uri": "https://localhost:8080/"
        },
        "outputId": "7daf0125-8e37-4918-9afe-c29c7d354128"
      },
      "outputs": [
        {
          "output_type": "stream",
          "name": "stdout",
          "text": [
            "[INFO] Iteration Number: 0\n",
            "Time: 0.011814117431640625\n",
            "Memory Usage: 2736\n",
            "CPU Utlization: 2.5\n",
            "Score: 1.0\n",
            "[INFO] Iteration Number: 1\n",
            "Time: 0.015558958053588867\n",
            "Memory Usage: 6120\n",
            "CPU Utlization: 1.6\n",
            "Score: 1.0\n",
            "[INFO] Iteration Number: 2\n",
            "Time: 0.021155595779418945\n",
            "Memory Usage: 8640\n",
            "CPU Utlization: 2.2\n",
            "Score: 1.0\n",
            "[INFO] Iteration Number: 3\n",
            "Time: 0.010358333587646484\n",
            "Memory Usage: 11952\n",
            "CPU Utlization: 1.4\n",
            "Score: 1.0\n",
            "[INFO] Iteration Number: 4\n",
            "Time: 0.018987417221069336\n",
            "Memory Usage: 15696\n",
            "CPU Utlization: 2.4\n",
            "Score: 1.0\n",
            "[INFO] Iteration Number: 5\n",
            "Time: 0.016019582748413086\n",
            "Memory Usage: 19224\n",
            "CPU Utlization: 1.5\n",
            "Score: 1.0\n",
            "[INFO] Iteration Number: 6\n",
            "Time: 0.018886566162109375\n",
            "Memory Usage: 22896\n",
            "CPU Utlization: 2.0\n",
            "Score: 1.0\n",
            "[INFO] Iteration Number: 7\n",
            "Time: 0.009728670120239258\n",
            "Memory Usage: 25992\n",
            "CPU Utlization: 13.1\n",
            "Score: 1.0\n",
            "[INFO] Iteration Number: 8\n",
            "Time: 0.022878170013427734\n",
            "Memory Usage: 28872\n",
            "CPU Utlization: 15.0\n",
            "Score: 1.0\n",
            "[INFO] Iteration Number: 9\n",
            "Time: 0.009426355361938477\n",
            "Memory Usage: 32112\n",
            "CPU Utlization: 1.5\n",
            "Score: 0.9777777777777777\n",
            "[INFO] Iteration Number: 10\n",
            "Time: 0.009512662887573242\n",
            "Memory Usage: 34632\n",
            "CPU Utlization: 1.6\n",
            "Score: 0.22857142857142856\n",
            "[INFO] Iteration Number: 11\n",
            "Time: 0.009666681289672852\n",
            "Memory Usage: 37944\n",
            "CPU Utlization: 1.9\n",
            "Score: 0.0\n",
            "[INFO] Iteration Number: 12\n",
            "Time: 0.015383005142211914\n",
            "Memory Usage: 41112\n",
            "CPU Utlization: 1.6\n",
            "Score: 0.0\n",
            "[INFO] Iteration Number: 13\n",
            "Time: 0.015465974807739258\n",
            "Memory Usage: 44280\n",
            "CPU Utlization: 2.0\n",
            "Score: 0.0\n",
            "[INFO] Iteration Number: 14\n",
            "Time: 0.014214515686035156\n",
            "Memory Usage: 55080\n",
            "CPU Utlization: 1.9\n",
            "Score: 0.8533333333333334\n"
          ]
        }
      ],
      "source": [
        "accuracy_without_sensor_selection, time_consumption_without_sensor_selection, memory_consumption_without_sensor_selection, cpu_consumption_without_sensor_selection = machine_learning_without_sensor_selection(start_time, end_time, t, sample_df, model)"
      ]
    },
    {
      "cell_type": "code",
      "execution_count": null,
      "metadata": {
        "id": "IkZ2TLBG19LE",
        "colab": {
          "base_uri": "https://localhost:8080/"
        },
        "outputId": "1cf15977-b94b-416e-8387-5e38a1799839"
      },
      "outputs": [
        {
          "output_type": "stream",
          "name": "stdout",
          "text": [
            "Average accuracy with sensor selection: 0.7373121693121693\n"
          ]
        }
      ],
      "source": [
        "accuracy_without_sensor_selection_array = np.array(accuracy_without_sensor_selection)\n",
        "x = accuracy_without_sensor_selection_array[:, 0]\n",
        "print(\"Average accuracy with sensor selection:\", sum(x)/len(accuracy_without_sensor_selection))"
      ]
    },
    {
      "cell_type": "code",
      "source": [
        "plot(time_consumption_with_sensor_selection, \"*\", \"#288fb8\", \"Time Interval\", \"Computation Cost (seconds)\", \"UniPreCIS\")\n",
        "plot(time_consumption_without_sensor_selection, \".\", \"#f3cc60\", \"Time Interval\", \"Computation Cost (seconds)\", \"Without Sensor Selection\")\n",
        "plt.show()"
      ],
      "metadata": {
        "colab": {
          "base_uri": "https://localhost:8080/",
          "height": 279
        },
        "id": "a1T5SaGmJcFa",
        "outputId": "439746d8-ad7c-48e5-a3fc-a0d0539d50f2"
      },
      "execution_count": null,
      "outputs": [
        {
          "output_type": "display_data",
          "data": {
            "text/plain": [
              "<Figure size 432x288 with 1 Axes>"
            ],
            "image/png": "[encoded data removed]"
          },
          "metadata": {}
        }
      ]
    },
    {
      "cell_type": "markdown",
      "metadata": {
        "id": "DoQNisEh2WV3"
      },
      "source": [
        "Naive Bayes"
      ]
    },
    {
      "cell_type": "code",
      "execution_count": null,
      "metadata": {
        "id": "xt2O-wM22kzf",
        "colab": {
          "base_uri": "https://localhost:8080/"
        },
        "outputId": "7e03478f-2340-45a8-a193-16aa4ba8bf17"
      },
      "outputs": [
        {
          "output_type": "execute_result",
          "data": {
            "text/plain": [
              "GaussianNB()"
            ]
          },
          "metadata": {},
          "execution_count": 422
        }
      ],
      "source": [
        "model = GaussianNB()\n",
        "model.fit(train_X_sensor_selection, train_y_sensor_selection)"
      ]
    },
    {
      "cell_type": "markdown",
      "metadata": {
        "id": "AvwHWFfk2X1W"
      },
      "source": [
        "Our Approach"
      ]
    },
    {
      "cell_type": "code",
      "execution_count": null,
      "metadata": {
        "id": "xrPnQT6Z2XjC",
        "colab": {
          "base_uri": "https://localhost:8080/"
        },
        "outputId": "af20e97c-2287-4dab-dbab-1fb89ee9f014"
      },
      "outputs": [
        {
          "output_type": "stream",
          "name": "stdout",
          "text": [
            "[INFO] Iteration Number: 0\n",
            "Time: 0.0016808509826660156\n",
            "Memory Usage: 912\n",
            "Score: 1.0\n",
            "The CPU usage is:  2.5\n",
            "[INFO] Iteration Number: 1\n",
            "Time: 0.0016331672668457031\n",
            "Memory Usage: 2040\n",
            "Score: 1.0\n",
            "The CPU usage is:  1.8\n",
            "[INFO] Iteration Number: 2\n",
            "Time: 0.0016565322875976562\n",
            "Memory Usage: 2880\n",
            "Score: 1.0\n",
            "The CPU usage is:  1.5\n",
            "[INFO] Iteration Number: 3\n",
            "Time: 0.0016105175018310547\n",
            "Memory Usage: 3984\n",
            "Score: 1.0\n",
            "The CPU usage is:  2.2\n",
            "[INFO] Iteration Number: 4\n",
            "Time: 0.0016400814056396484\n",
            "Memory Usage: 5232\n",
            "Score: 1.0\n",
            "The CPU usage is:  1.9\n",
            "[INFO] Iteration Number: 5\n",
            "Time: 0.0018634796142578125\n",
            "Memory Usage: 6408\n",
            "Score: 1.0\n",
            "The CPU usage is:  2.0\n",
            "[INFO] Iteration Number: 6\n",
            "Time: 0.0027861595153808594\n",
            "Memory Usage: 7632\n",
            "Score: 1.0\n",
            "The CPU usage is:  1.9\n",
            "[INFO] Iteration Number: 7\n",
            "Time: 0.0016324520111083984\n",
            "Memory Usage: 8664\n",
            "Score: 1.0\n",
            "The CPU usage is:  1.9\n",
            "[INFO] Iteration Number: 8\n",
            "Time: 0.00281524658203125\n",
            "Memory Usage: 9624\n",
            "Score: 1.0\n",
            "The CPU usage is:  1.8\n",
            "[INFO] Iteration Number: 9\n",
            "Time: 0.0030438899993896484\n",
            "Memory Usage: 10704\n",
            "Score: 1.0\n",
            "The CPU usage is:  1.7\n",
            "[INFO] Iteration Number: 10\n",
            "Time: 0.0069446563720703125\n",
            "Memory Usage: 11544\n",
            "Score: 0.8285714285714286\n",
            "The CPU usage is:  1.8\n",
            "[INFO] Iteration Number: 11\n",
            "Time: 0.005748271942138672\n",
            "Memory Usage: 12648\n",
            "Score: 0.08695652173913043\n",
            "The CPU usage is:  21.0\n",
            "[INFO] Iteration Number: 12\n",
            "Time: 0.0023581981658935547\n",
            "Memory Usage: 13704\n",
            "Score: 0.0\n",
            "The CPU usage is:  7.0\n",
            "[INFO] Iteration Number: 13\n",
            "Time: 0.007946491241455078\n",
            "Memory Usage: 14760\n",
            "Score: 0.0\n",
            "The CPU usage is:  2.3\n",
            "[INFO] Iteration Number: 14\n",
            "Time: 0.0016160011291503906\n",
            "Memory Usage: 18360\n",
            "Score: 0.8533333333333334\n",
            "The CPU usage is:  1.5\n"
          ]
        }
      ],
      "source": [
        "accuracy_with_sensor_selection, time_consumption_with_sensor_selection, memory_consumption_with_sensor_selection, cpu_consumption_with_sensor_selection = machine_learning_with_sensor_selection(start_time, end_time, t, sample_df, model)"
      ]
    },
    {
      "cell_type": "code",
      "execution_count": null,
      "metadata": {
        "id": "57jyd7Aw5rkn",
        "colab": {
          "base_uri": "https://localhost:8080/"
        },
        "outputId": "813dd484-4f31-4a7b-a294-0d85c3f69164"
      },
      "outputs": [
        {
          "output_type": "stream",
          "name": "stdout",
          "text": [
            "Average accuracy with sensor selection: 0.7845907522429262\n"
          ]
        }
      ],
      "source": [
        "accuracy_with_sensor_selection_array = np.array(accuracy_with_sensor_selection)\n",
        "x = accuracy_with_sensor_selection_array[:, 0]\n",
        "print(\"Average accuracy with sensor selection:\", sum(x)/len(accuracy_with_sensor_selection))"
      ]
    },
    {
      "cell_type": "markdown",
      "metadata": {
        "id": "FO_-Q1bb2Z5N"
      },
      "source": [
        "TOPSIS"
      ]
    },
    {
      "cell_type": "code",
      "execution_count": null,
      "metadata": {
        "id": "vrda4jMj2bhi",
        "colab": {
          "base_uri": "https://localhost:8080/"
        },
        "outputId": "b5a97e39-a5af-4347-de22-b425d015ef95"
      },
      "outputs": [
        {
          "output_type": "stream",
          "name": "stdout",
          "text": [
            "0.6958473625140292\n"
          ]
        }
      ],
      "source": [
        "#####EDIT#######\n",
        "df_compare = pd.DataFrame()\n",
        "df_compare[\"temp\"] = sample_df[\"51_temp\"]\n",
        "df_compare[\"humidity\"] = sample_df[\"51_humidity\"]\n",
        "y_compare = sample_df[\"number of person\"]\n",
        "\n",
        "pred = model.predict(df_compare)\n",
        "print(accuracy_score(y_compare, pred))"
      ]
    },
    {
      "cell_type": "markdown",
      "metadata": {
        "id": "GDCO1H-H2cNJ"
      },
      "source": [
        "Without sensor selection"
      ]
    },
    {
      "cell_type": "code",
      "execution_count": null,
      "metadata": {
        "id": "AUMYPt182fz2",
        "colab": {
          "base_uri": "https://localhost:8080/"
        },
        "outputId": "d49f9a90-a3a2-4841-b813-fdb927d676a4"
      },
      "outputs": [
        {
          "output_type": "stream",
          "name": "stdout",
          "text": [
            "[INFO] Iteration Number: 0\n",
            "Time: 0.015059471130371094\n",
            "Memory Usage: 2736\n",
            "CPU Utlization: 3.0\n",
            "Score: 1.0\n",
            "[INFO] Iteration Number: 1\n",
            "Time: 0.018549203872680664\n",
            "Memory Usage: 6120\n",
            "CPU Utlization: 1.5\n",
            "Score: 1.0\n",
            "[INFO] Iteration Number: 2\n",
            "Time: 0.012836933135986328\n",
            "Memory Usage: 8640\n",
            "CPU Utlization: 1.9\n",
            "Score: 1.0\n",
            "[INFO] Iteration Number: 3\n",
            "Time: 0.01471400260925293\n",
            "Memory Usage: 11952\n",
            "CPU Utlization: 1.6\n",
            "Score: 1.0\n",
            "[INFO] Iteration Number: 4\n",
            "Time: 0.01685619354248047\n",
            "Memory Usage: 15696\n",
            "CPU Utlization: 1.9\n",
            "Score: 1.0\n",
            "[INFO] Iteration Number: 5\n",
            "Time: 0.01921248435974121\n",
            "Memory Usage: 19224\n",
            "CPU Utlization: 1.8\n",
            "Score: 1.0\n",
            "[INFO] Iteration Number: 6\n",
            "Time: 0.013656139373779297\n",
            "Memory Usage: 22896\n",
            "CPU Utlization: 2.1\n",
            "Score: 1.0\n",
            "[INFO] Iteration Number: 7\n",
            "Time: 0.015704631805419922\n",
            "Memory Usage: 25992\n",
            "CPU Utlization: 1.6\n",
            "Score: 1.0\n",
            "[INFO] Iteration Number: 8\n",
            "Time: 0.01528310775756836\n",
            "Memory Usage: 28872\n",
            "CPU Utlization: 1.8\n",
            "Score: 1.0\n",
            "[INFO] Iteration Number: 9\n",
            "Time: 0.015129804611206055\n",
            "Memory Usage: 32112\n",
            "CPU Utlization: 1.7\n",
            "Score: 1.0\n",
            "[INFO] Iteration Number: 10\n",
            "Time: 0.015053987503051758\n",
            "Memory Usage: 34632\n",
            "CPU Utlization: 2.0\n",
            "Score: 1.0\n",
            "[INFO] Iteration Number: 11\n",
            "Time: 0.018170833587646484\n",
            "Memory Usage: 37944\n",
            "CPU Utlization: 1.8\n",
            "Score: 1.0\n",
            "[INFO] Iteration Number: 12\n",
            "Time: 0.018975019454956055\n",
            "Memory Usage: 41112\n",
            "CPU Utlization: 1.8\n",
            "Score: 1.0\n",
            "[INFO] Iteration Number: 13\n",
            "Time: 0.014837503433227539\n",
            "Memory Usage: 44280\n",
            "CPU Utlization: 1.7\n",
            "Score: 1.0\n",
            "[INFO] Iteration Number: 14\n",
            "Time: 0.015281915664672852\n",
            "Memory Usage: 55080\n",
            "CPU Utlization: 2.0\n",
            "Score: 0.14666666666666667\n"
          ]
        }
      ],
      "source": [
        "accuracy_without_sensor_selection, time_consumption_without_sensor_selection, memory_consumption_without_sensor_selection, cpu_consumption_without_sensor_selection = machine_learning_without_sensor_selection(start_time, end_time, t, sample_df, model)"
      ]
    },
    {
      "cell_type": "code",
      "execution_count": null,
      "metadata": {
        "id": "mR1JQ0C156fz",
        "colab": {
          "base_uri": "https://localhost:8080/"
        },
        "outputId": "80bd6742-1d32-4396-f694-64510e746597"
      },
      "outputs": [
        {
          "output_type": "stream",
          "name": "stdout",
          "text": [
            "Average accuracy with sensor selection: 0.9431111111111111\n"
          ]
        }
      ],
      "source": [
        "accuracy_without_sensor_selection_array = np.array(accuracy_without_sensor_selection)\n",
        "x = accuracy_without_sensor_selection_array[:, 0]\n",
        "print(\"Average accuracy with sensor selection:\", sum(x)/len(accuracy_without_sensor_selection))"
      ]
    },
    {
      "cell_type": "code",
      "source": [
        "plot(time_consumption_with_sensor_selection, \"*\", \"#288fb8\", \"Time Interval\", \"Computation Cost (seconds)\", \"UniPreCIS\")\n",
        "plot(time_consumption_without_sensor_selection, \".\", \"#f3cc60\", \"Time Interval\", \"Computation Cost (seconds)\", \"Without Sensor Selection\")\n",
        "plt.show()"
      ],
      "metadata": {
        "colab": {
          "base_uri": "https://localhost:8080/",
          "height": 282
        },
        "id": "IVqL_Lv_JdhI",
        "outputId": "9ce9381f-338e-48b1-9c85-c8a8efd5f9f5"
      },
      "execution_count": null,
      "outputs": [
        {
          "output_type": "display_data",
          "data": {
            "text/plain": [
              "<Figure size 432x288 with 1 Axes>"
            ],
            "image/png": "[encoded data removed]"
          },
          "metadata": {}
        }
      ]
    },
    {
      "cell_type": "markdown",
      "metadata": {
        "id": "tsQDZOmK7BUo"
      },
      "source": [
        "XGBoost"
      ]
    },
    {
      "cell_type": "code",
      "execution_count": null,
      "metadata": {
        "id": "FG1zjJYV7Mp8",
        "colab": {
          "base_uri": "https://localhost:8080/"
        },
        "outputId": "c0f7dd0f-2861-46ea-dde0-2820bce03283"
      },
      "outputs": [
        {
          "output_type": "execute_result",
          "data": {
            "text/plain": [
              "XGBClassifier()"
            ]
          },
          "metadata": {},
          "execution_count": 429
        }
      ],
      "source": [
        "model = XGBClassifier()\n",
        "model.fit(train_X_sensor_selection, train_y_sensor_selection)"
      ]
    },
    {
      "cell_type": "markdown",
      "metadata": {
        "id": "Fd6QSS177Chc"
      },
      "source": [
        "Our Approach"
      ]
    },
    {
      "cell_type": "code",
      "execution_count": null,
      "metadata": {
        "id": "bsFaDhzK7D9T",
        "colab": {
          "base_uri": "https://localhost:8080/"
        },
        "outputId": "8b2e1915-5d12-4d7e-ea50-c9ed01f9b9cf"
      },
      "outputs": [
        {
          "output_type": "stream",
          "name": "stdout",
          "text": [
            "[INFO] Iteration Number: 0\n",
            "Time: 0.0011172294616699219\n",
            "Memory Usage: 912\n",
            "Score: 1.0\n",
            "The CPU usage is:  2.8\n",
            "[INFO] Iteration Number: 1\n",
            "Time: 0.0010275840759277344\n",
            "Memory Usage: 2040\n",
            "Score: 1.0\n",
            "The CPU usage is:  1.6\n",
            "[INFO] Iteration Number: 2\n",
            "Time: 0.0010483264923095703\n",
            "Memory Usage: 2880\n",
            "Score: 1.0\n",
            "The CPU usage is:  2.0\n",
            "[INFO] Iteration Number: 3\n",
            "Time: 0.001035928726196289\n",
            "Memory Usage: 3984\n",
            "Score: 1.0\n",
            "The CPU usage is:  1.6\n",
            "[INFO] Iteration Number: 4\n",
            "Time: 0.006044864654541016\n",
            "Memory Usage: 5232\n",
            "Score: 1.0\n",
            "The CPU usage is:  1.9\n",
            "[INFO] Iteration Number: 5\n",
            "Time: 0.001092672348022461\n",
            "Memory Usage: 6408\n",
            "Score: 1.0\n",
            "The CPU usage is:  1.4\n",
            "[INFO] Iteration Number: 6\n",
            "Time: 0.0032689571380615234\n",
            "Memory Usage: 7632\n",
            "Score: 1.0\n",
            "The CPU usage is:  2.0\n",
            "[INFO] Iteration Number: 7\n",
            "Time: 0.0011088848114013672\n",
            "Memory Usage: 8664\n",
            "Score: 1.0\n",
            "The CPU usage is:  2.0\n",
            "[INFO] Iteration Number: 8\n",
            "Time: 0.0017125606536865234\n",
            "Memory Usage: 9624\n",
            "Score: 1.0\n",
            "The CPU usage is:  1.9\n",
            "[INFO] Iteration Number: 9\n",
            "Time: 0.007263898849487305\n",
            "Memory Usage: 10704\n",
            "Score: 1.0\n",
            "The CPU usage is:  1.5\n",
            "[INFO] Iteration Number: 10\n",
            "Time: 0.0068166255950927734\n",
            "Memory Usage: 11544\n",
            "Score: 1.0\n",
            "The CPU usage is:  2.0\n",
            "[INFO] Iteration Number: 11\n",
            "Time: 0.006829023361206055\n",
            "Memory Usage: 12648\n",
            "Score: 0.7608695652173914\n",
            "The CPU usage is:  1.7\n",
            "[INFO] Iteration Number: 12\n",
            "Time: 0.006895542144775391\n",
            "Memory Usage: 13704\n",
            "Score: 0.09090909090909091\n",
            "The CPU usage is:  2.2\n",
            "[INFO] Iteration Number: 13\n",
            "Time: 0.0047838687896728516\n",
            "Memory Usage: 14760\n",
            "Score: 0.0\n",
            "The CPU usage is:  2.0\n",
            "[INFO] Iteration Number: 14\n",
            "Time: 0.002649545669555664\n",
            "Memory Usage: 18360\n",
            "Score: 0.78\n",
            "The CPU usage is:  1.9\n"
          ]
        }
      ],
      "source": [
        "accuracy_with_sensor_selection, time_consumption_with_sensor_selection, memory_consumption_with_sensor_selection, cpu_consumption_with_sensor_selection = machine_learning_with_sensor_selection(start_time, end_time, t, sample_df, model)"
      ]
    },
    {
      "cell_type": "code",
      "execution_count": null,
      "metadata": {
        "id": "WKrswYbO7Dzn",
        "colab": {
          "base_uri": "https://localhost:8080/"
        },
        "outputId": "cedd47d0-6327-41c5-e957-a5493fb35904"
      },
      "outputs": [
        {
          "output_type": "stream",
          "name": "stdout",
          "text": [
            "Average accuracy with sensor selection: 0.8421185770750987\n"
          ]
        }
      ],
      "source": [
        "accuracy_with_sensor_selection_array = np.array(accuracy_with_sensor_selection)\n",
        "x = accuracy_with_sensor_selection_array[:, 0]\n",
        "print(\"Average accuracy with sensor selection:\", sum(x)/len(accuracy_with_sensor_selection))"
      ]
    },
    {
      "cell_type": "markdown",
      "metadata": {
        "id": "LbEGMeoN7EaP"
      },
      "source": [
        "TOPSIS"
      ]
    },
    {
      "cell_type": "code",
      "execution_count": null,
      "metadata": {
        "id": "ywpqbXNg7F_q",
        "colab": {
          "base_uri": "https://localhost:8080/"
        },
        "outputId": "cbe7ed5f-28b6-4702-d772-e78d81b89d67"
      },
      "outputs": [
        {
          "output_type": "stream",
          "name": "stdout",
          "text": [
            "0.7901234567901234\n"
          ]
        }
      ],
      "source": [
        "#####EDIT#######\n",
        "df_compare = pd.DataFrame()\n",
        "df_compare[\"temp\"] = sample_df[\"51_temp\"]\n",
        "df_compare[\"humidity\"] = sample_df[\"51_humidity\"]\n",
        "y_compare = sample_df[\"number of person\"]\n",
        "\n",
        "pred = model.predict(df_compare)\n",
        "print(accuracy_score(y_compare, pred))"
      ]
    },
    {
      "cell_type": "markdown",
      "metadata": {
        "id": "T1eE9e2g7GXI"
      },
      "source": [
        "Without Sensor Selection"
      ]
    },
    {
      "cell_type": "code",
      "execution_count": null,
      "metadata": {
        "id": "NOYtg9PY7JzE",
        "colab": {
          "base_uri": "https://localhost:8080/"
        },
        "outputId": "14892b45-b51c-4a09-f09f-b44a8a74f92e"
      },
      "outputs": [
        {
          "output_type": "stream",
          "name": "stdout",
          "text": [
            "[INFO] Iteration Number: 0\n",
            "Time: 0.011558055877685547\n",
            "Memory Usage: 2736\n",
            "CPU Utlization: 2.8\n",
            "Score: 1.0\n",
            "[INFO] Iteration Number: 1\n",
            "Time: 0.00859975814819336\n",
            "Memory Usage: 6120\n",
            "CPU Utlization: 1.6\n",
            "Score: 1.0\n",
            "[INFO] Iteration Number: 2\n",
            "Time: 0.008717775344848633\n",
            "Memory Usage: 8640\n",
            "CPU Utlization: 2.2\n",
            "Score: 1.0\n",
            "[INFO] Iteration Number: 3\n",
            "Time: 0.011128425598144531\n",
            "Memory Usage: 11952\n",
            "CPU Utlization: 1.9\n",
            "Score: 1.0\n",
            "[INFO] Iteration Number: 4\n",
            "Time: 0.017197132110595703\n",
            "Memory Usage: 15696\n",
            "CPU Utlization: 1.9\n",
            "Score: 1.0\n",
            "[INFO] Iteration Number: 5\n",
            "Time: 0.01596856117248535\n",
            "Memory Usage: 19224\n",
            "CPU Utlization: 1.9\n",
            "Score: 1.0\n",
            "[INFO] Iteration Number: 6\n",
            "Time: 0.01607680320739746\n",
            "Memory Usage: 22896\n",
            "CPU Utlization: 2.2\n",
            "Score: 1.0\n",
            "[INFO] Iteration Number: 7\n",
            "Time: 0.013384819030761719\n",
            "Memory Usage: 25992\n",
            "CPU Utlization: 1.4\n",
            "Score: 1.0\n",
            "[INFO] Iteration Number: 8\n",
            "Time: 0.011633872985839844\n",
            "Memory Usage: 28872\n",
            "CPU Utlization: 2.2\n",
            "Score: 1.0\n",
            "[INFO] Iteration Number: 9\n",
            "Time: 0.01587820053100586\n",
            "Memory Usage: 32112\n",
            "CPU Utlization: 1.8\n",
            "Score: 1.0\n",
            "[INFO] Iteration Number: 10\n",
            "Time: 0.015788793563842773\n",
            "Memory Usage: 34632\n",
            "CPU Utlization: 2.2\n",
            "Score: 1.0\n",
            "[INFO] Iteration Number: 11\n",
            "Time: 0.015776395797729492\n",
            "Memory Usage: 37944\n",
            "CPU Utlization: 1.4\n",
            "Score: 1.0\n",
            "[INFO] Iteration Number: 12\n",
            "Time: 0.01552891731262207\n",
            "Memory Usage: 41112\n",
            "CPU Utlization: 2.2\n",
            "Score: 1.0\n",
            "[INFO] Iteration Number: 13\n",
            "Time: 0.01740407943725586\n",
            "Memory Usage: 44280\n",
            "CPU Utlization: 1.6\n",
            "Score: 1.0\n",
            "[INFO] Iteration Number: 14\n",
            "Time: 0.016403675079345703\n",
            "Memory Usage: 55080\n",
            "CPU Utlization: 1.8\n",
            "Score: 0.14666666666666667\n"
          ]
        }
      ],
      "source": [
        "accuracy_without_sensor_selection, time_consumption_without_sensor_selection, memory_consumption_without_sensor_selection, cpu_consumption_without_sensor_selection = machine_learning_without_sensor_selection(start_time, end_time, t, sample_df, model)"
      ]
    },
    {
      "cell_type": "code",
      "execution_count": null,
      "metadata": {
        "id": "HJFkhhzk7Jqo",
        "colab": {
          "base_uri": "https://localhost:8080/"
        },
        "outputId": "e793b448-3fb2-47af-d9b8-dd803287c56f"
      },
      "outputs": [
        {
          "output_type": "stream",
          "name": "stdout",
          "text": [
            "Average accuracy with sensor selection: 0.9431111111111111\n"
          ]
        }
      ],
      "source": [
        "accuracy_without_sensor_selection_array = np.array(accuracy_without_sensor_selection)\n",
        "x = accuracy_without_sensor_selection_array[:, 0]\n",
        "print(\"Average accuracy with sensor selection:\", sum(x)/len(accuracy_without_sensor_selection))"
      ]
    },
    {
      "cell_type": "code",
      "source": [
        "plot(time_consumption_with_sensor_selection, \"*\", \"#288fb8\", \"Time Interval\", \"Computation Cost (seconds)\", \"UniPreCIS\")\n",
        "plot(time_consumption_without_sensor_selection, \".\", \"#f3cc60\", \"Time Interval\", \"Computation Cost (seconds)\", \"Without Sensor Selection\")\n",
        "plt.show()"
      ],
      "metadata": {
        "colab": {
          "base_uri": "https://localhost:8080/",
          "height": 279
        },
        "id": "Y9-lBYUiJeey",
        "outputId": "b85599af-37c2-4b9c-e4c4-f98b7a18ac5b"
      },
      "execution_count": null,
      "outputs": [
        {
          "output_type": "display_data",
          "data": {
            "text/plain": [
              "<Figure size 432x288 with 1 Axes>"
            ],
            "image/png": "[encoded data removed]"
          },
          "metadata": {}
        }
      ]
    },
    {
      "cell_type": "markdown",
      "metadata": {
        "id": "CPqN5Ri-juZk"
      },
      "source": [
        "Random Forest Regressor"
      ]
    },
    {
      "cell_type": "markdown",
      "metadata": {
        "id": "1PL58kg6QoEs"
      },
      "source": [
        "Train set 2"
      ]
    },
    {
      "cell_type": "code",
      "execution_count": null,
      "metadata": {
        "id": "W1-VpVtGmYW7",
        "colab": {
          "base_uri": "https://localhost:8080/"
        },
        "outputId": "0fd087ef-0437-447d-97cc-a895a0f6c74f"
      },
      "outputs": [
        {
          "output_type": "execute_result",
          "data": {
            "text/plain": [
              "RandomForestClassifier()"
            ]
          },
          "metadata": {},
          "execution_count": 451
        }
      ],
      "source": [
        "model = RandomForestClassifier()\n",
        "model.fit(train_X_sensor_selection, train_y_sensor_selection)"
      ]
    },
    {
      "cell_type": "code",
      "execution_count": null,
      "metadata": {
        "id": "Qs2tamuOQoEs",
        "colab": {
          "base_uri": "https://localhost:8080/"
        },
        "outputId": "7cd9ea69-0766-4319-aee2-eded00617d0c"
      },
      "outputs": [
        {
          "output_type": "stream",
          "name": "stdout",
          "text": [
            "[INFO] Iteration Number: 0\n",
            "Time: 0.021496057510375977\n",
            "Memory Usage: 912\n",
            "Score: 1.0\n",
            "The CPU usage is:  31.1\n",
            "[INFO] Iteration Number: 1\n",
            "Time: 0.019060611724853516\n",
            "Memory Usage: 2040\n",
            "Score: 1.0\n",
            "The CPU usage is:  1.4\n",
            "[INFO] Iteration Number: 2\n",
            "Time: 0.019559621810913086\n",
            "Memory Usage: 2880\n",
            "Score: 1.0\n",
            "The CPU usage is:  2.0\n",
            "[INFO] Iteration Number: 3\n",
            "Time: 0.013450860977172852\n",
            "Memory Usage: 3984\n",
            "Score: 1.0\n",
            "The CPU usage is:  1.9\n",
            "[INFO] Iteration Number: 4\n",
            "Time: 0.017801523208618164\n",
            "Memory Usage: 5232\n",
            "Score: 1.0\n",
            "The CPU usage is:  2.1\n",
            "[INFO] Iteration Number: 5\n",
            "Time: 0.015073776245117188\n",
            "Memory Usage: 6408\n",
            "Score: 1.0\n",
            "The CPU usage is:  1.6\n",
            "[INFO] Iteration Number: 6\n",
            "Time: 0.011690139770507812\n",
            "Memory Usage: 7632\n",
            "Score: 1.0\n",
            "The CPU usage is:  1.9\n",
            "[INFO] Iteration Number: 7\n",
            "Time: 0.018414974212646484\n",
            "Memory Usage: 8664\n",
            "Score: 1.0\n",
            "The CPU usage is:  1.8\n",
            "[INFO] Iteration Number: 8\n",
            "Time: 0.019080400466918945\n",
            "Memory Usage: 9624\n",
            "Score: 1.0\n",
            "The CPU usage is:  1.9\n",
            "[INFO] Iteration Number: 9\n",
            "Time: 0.011074066162109375\n",
            "Memory Usage: 10704\n",
            "Score: 1.0\n",
            "The CPU usage is:  1.7\n",
            "[INFO] Iteration Number: 10\n",
            "Time: 0.017609357833862305\n",
            "Memory Usage: 11544\n",
            "Score: 1.0\n",
            "The CPU usage is:  1.8\n",
            "[INFO] Iteration Number: 11\n",
            "Time: 0.019959211349487305\n",
            "Memory Usage: 12648\n",
            "Score: 0.7608695652173914\n",
            "The CPU usage is:  1.6\n",
            "[INFO] Iteration Number: 12\n",
            "Time: 0.013183355331420898\n",
            "Memory Usage: 13704\n",
            "Score: 0.09090909090909091\n",
            "The CPU usage is:  1.4\n",
            "[INFO] Iteration Number: 13\n",
            "Time: 0.018552541732788086\n",
            "Memory Usage: 14760\n",
            "Score: 0.0\n",
            "The CPU usage is:  1.5\n",
            "[INFO] Iteration Number: 14\n",
            "Time: 0.020110130310058594\n",
            "Memory Usage: 18360\n",
            "Score: 0.78\n",
            "The CPU usage is:  1.8\n"
          ]
        }
      ],
      "source": [
        "accuracy_with_sensor_selection, time_consumption_with_sensor_selection, memory_consumption_with_sensor_selection, cpu_consumption_with_sensor_selection = machine_learning_with_sensor_selection(start_time, end_time, t, sample_df, model)"
      ]
    },
    {
      "cell_type": "code",
      "execution_count": null,
      "metadata": {
        "id": "dKoChemWQoEt"
      },
      "outputs": [],
      "source": [
        "print(accuracy_with_sensor_selection)"
      ]
    },
    {
      "cell_type": "code",
      "execution_count": null,
      "metadata": {
        "id": "5i8IGmwLQoEt"
      },
      "outputs": [],
      "source": [
        "print(time_consumption_with_sensor_selection)"
      ]
    },
    {
      "cell_type": "code",
      "execution_count": null,
      "metadata": {
        "id": "yNE-6rZgQoEu"
      },
      "outputs": [],
      "source": [
        "plot(accuracy_with_sensor_selection, \"*\", \"#288fb8\", \"Evaluation Duration (5 min)\", \"Accuracy\", \"With Sensor Selection\")"
      ]
    },
    {
      "cell_type": "code",
      "execution_count": null,
      "metadata": {
        "id": "m90pSzYFQoEu",
        "colab": {
          "base_uri": "https://localhost:8080/"
        },
        "outputId": "632caf4d-6812-4449-bf87-f9a54236e727"
      },
      "outputs": [
        {
          "output_type": "stream",
          "name": "stdout",
          "text": [
            "Average accuracy with sensor selection: 0.8421185770750987\n"
          ]
        }
      ],
      "source": [
        "accuracy_with_sensor_selection_array = np.array(accuracy_with_sensor_selection)\n",
        "x = accuracy_with_sensor_selection_array[:, 0]\n",
        "print(\"Average accuracy with sensor selection:\", sum(x)/len(accuracy_with_sensor_selection))"
      ]
    },
    {
      "cell_type": "code",
      "execution_count": null,
      "metadata": {
        "id": "DL-d-gnIoceK",
        "colab": {
          "base_uri": "https://localhost:8080/"
        },
        "outputId": "d11f89b8-cab0-4d80-882e-383e6ecfbdb3"
      },
      "outputs": [
        {
          "output_type": "stream",
          "name": "stdout",
          "text": [
            "0.8327721661054994\n"
          ]
        }
      ],
      "source": [
        "#####EDIT#######\n",
        "df_compare = pd.DataFrame()\n",
        "df_compare[\"temp\"] = sample_df[\"51_temp\"]\n",
        "df_compare[\"humidity\"] = sample_df[\"50_humidity\"]\n",
        "y_compare = sample_df[\"number of person\"]\n",
        "\n",
        "pred = model.predict(df_compare)\n",
        "print(accuracy_score(y_compare, pred))"
      ]
    },
    {
      "cell_type": "code",
      "execution_count": null,
      "metadata": {
        "id": "48ZjD0auQoEu"
      },
      "outputs": [],
      "source": [
        "plot(time_consumption_with_sensor_selection, \"*\", \"#288fb8\", \"Evaluation Duration (5 min)\", \"Time Consumption (seconds)\", \"With Sensor Selection\")"
      ]
    },
    {
      "cell_type": "code",
      "execution_count": null,
      "metadata": {
        "id": "xcMyttgAgYRn"
      },
      "outputs": [],
      "source": [
        "plot(memory_consumption_with_sensor_selection, \"*\", \"#288fb8\", \"Evaluation Duration (5 min)\", \"Memory Consumption (data points)\", \"With Sensor Selection\")"
      ]
    },
    {
      "cell_type": "code",
      "execution_count": null,
      "metadata": {
        "id": "6408ibGdgYM-"
      },
      "outputs": [],
      "source": [
        "plot(cpu_consumption_with_sensor_selection, \"*\", \"#288fb8\", \"Evaluation Duration (5 min)\", \"CPU Consumption (percentage)\", \"With Sensor Selection\")"
      ]
    },
    {
      "cell_type": "code",
      "execution_count": null,
      "metadata": {
        "id": "DbPaTnWnQoEu",
        "colab": {
          "base_uri": "https://localhost:8080/"
        },
        "outputId": "f1876582-fdd4-4885-c3dd-0622741ed0c5"
      },
      "outputs": [
        {
          "output_type": "stream",
          "name": "stdout",
          "text": [
            "[INFO] Iteration Number: 0\n",
            "Time: 0.018769502639770508\n",
            "Memory Usage: 2736\n",
            "CPU Utlization: 2.1\n",
            "Score: 1.0\n",
            "[INFO] Iteration Number: 1\n",
            "Time: 0.019089221954345703\n",
            "Memory Usage: 6120\n",
            "CPU Utlization: 1.8\n",
            "Score: 1.0\n",
            "[INFO] Iteration Number: 2\n",
            "Time: 0.01995539665222168\n",
            "Memory Usage: 8640\n",
            "CPU Utlization: 1.4\n",
            "Score: 1.0\n",
            "[INFO] Iteration Number: 3\n",
            "Time: 0.031133174896240234\n",
            "Memory Usage: 11952\n",
            "CPU Utlization: 1.9\n",
            "Score: 1.0\n",
            "[INFO] Iteration Number: 4\n",
            "Time: 0.02597188949584961\n",
            "Memory Usage: 15696\n",
            "CPU Utlization: 1.7\n",
            "Score: 1.0\n",
            "[INFO] Iteration Number: 5\n",
            "Time: 0.026396512985229492\n",
            "Memory Usage: 19224\n",
            "CPU Utlization: 2.2\n",
            "Score: 1.0\n",
            "[INFO] Iteration Number: 6\n",
            "Time: 0.026190757751464844\n",
            "Memory Usage: 22896\n",
            "CPU Utlization: 1.5\n",
            "Score: 1.0\n",
            "[INFO] Iteration Number: 7\n",
            "Time: 0.024788379669189453\n",
            "Memory Usage: 25992\n",
            "CPU Utlization: 1.7\n",
            "Score: 1.0\n",
            "[INFO] Iteration Number: 8\n",
            "Time: 0.025922775268554688\n",
            "Memory Usage: 28872\n",
            "CPU Utlization: 1.8\n",
            "Score: 1.0\n",
            "[INFO] Iteration Number: 9\n",
            "Time: 0.03132462501525879\n",
            "Memory Usage: 32112\n",
            "CPU Utlization: 1.9\n",
            "Score: 1.0\n",
            "[INFO] Iteration Number: 10\n",
            "Time: 0.028231143951416016\n",
            "Memory Usage: 34632\n",
            "CPU Utlization: 1.4\n",
            "Score: 1.0\n",
            "[INFO] Iteration Number: 11\n",
            "Time: 0.02623295783996582\n",
            "Memory Usage: 37944\n",
            "CPU Utlization: 2.3\n",
            "Score: 1.0\n",
            "[INFO] Iteration Number: 12\n",
            "Time: 0.02678823471069336\n",
            "Memory Usage: 41112\n",
            "CPU Utlization: 1.5\n",
            "Score: 1.0\n",
            "[INFO] Iteration Number: 13\n",
            "Time: 0.025002717971801758\n",
            "Memory Usage: 44280\n",
            "CPU Utlization: 1.9\n",
            "Score: 1.0\n",
            "[INFO] Iteration Number: 14\n",
            "Time: 0.03296852111816406\n",
            "Memory Usage: 55080\n",
            "CPU Utlization: 1.6\n",
            "Score: 0.14666666666666667\n"
          ]
        }
      ],
      "source": [
        "accuracy_without_sensor_selection, time_consumption_without_sensor_selection, memory_consumption_without_sensor_selection, cpu_consumption_without_sensor_selection = machine_learning_without_sensor_selection(start_time, end_time, t, sample_df, model)"
      ]
    },
    {
      "cell_type": "code",
      "execution_count": null,
      "metadata": {
        "id": "262-htjKQoEv"
      },
      "outputs": [],
      "source": [
        "print(accuracy_without_sensor_selection)"
      ]
    },
    {
      "cell_type": "code",
      "execution_count": null,
      "metadata": {
        "id": "u9z4yERSQoEv"
      },
      "outputs": [],
      "source": [
        "print(time_consumption_without_sensor_selection)"
      ]
    },
    {
      "cell_type": "code",
      "execution_count": null,
      "metadata": {
        "id": "mhPJHOsWQoEw"
      },
      "outputs": [],
      "source": [
        "plot(accuracy_without_sensor_selection, \".\", \"#f3cc60\", \"Evaluation Duration (5 min)\", \"Accuracy\", \"Without Sensor Selection\")"
      ]
    },
    {
      "cell_type": "code",
      "execution_count": null,
      "metadata": {
        "id": "rrGiybw6QoEw",
        "colab": {
          "base_uri": "https://localhost:8080/"
        },
        "outputId": "3439e4a2-36f0-40dd-b777-d470732089bd"
      },
      "outputs": [
        {
          "output_type": "stream",
          "name": "stdout",
          "text": [
            "Average accuracy without sensor selection: 0.9431111111111111\n"
          ]
        }
      ],
      "source": [
        "accuracy_without_sensor_selection_array = np.array(accuracy_without_sensor_selection)\n",
        "x = accuracy_without_sensor_selection_array[:, 0]\n",
        "print(\"Average accuracy without sensor selection:\", sum(x)/len(accuracy_without_sensor_selection))"
      ]
    },
    {
      "cell_type": "code",
      "execution_count": null,
      "metadata": {
        "id": "CEbgpvgeQoEw"
      },
      "outputs": [],
      "source": [
        "plot(time_consumption_without_sensor_selection, \".\", \"#f3cc60\", \"Evaluation Duration (5 min)\", \"Time Consumption (seconds)\", \"Without Sensor Selection\")"
      ]
    },
    {
      "cell_type": "code",
      "execution_count": null,
      "metadata": {
        "id": "7ihtK18YqMOX"
      },
      "outputs": [],
      "source": [
        "plot(memory_consumption_without_sensor_selection, \".\", \"#f3cc60\", \"Evaluation Duration (5 min)\", \"Memory Consumption (data points)\", \"Without Sensor Selection\")"
      ]
    },
    {
      "cell_type": "code",
      "execution_count": null,
      "metadata": {
        "id": "Nv6l1af-ggQZ"
      },
      "outputs": [],
      "source": [
        "plot(cpu_consumption_without_sensor_selection, \".\", \"#f3cc60\", \"Evaluation Duration (5 min)\", \"CPU Consumption (percentage)\", \"Without Sensor Selection\")"
      ]
    },
    {
      "cell_type": "code",
      "execution_count": null,
      "metadata": {
        "id": "_07ktn8mB4ON"
      },
      "outputs": [],
      "source": [
        "accuracy_without_sensor_selection_total, time_consumption_without_sensor_selection_total, memory_consumption_without_sensor_selection_total, cpu_consumption_without_sensor_selection_total = machine_learning_without_sensor_selection_individual(start_time, end_time, t, df, RandomForestClassifier(), train_set_2_X, train_set_2_y, 2)"
      ]
    },
    {
      "cell_type": "code",
      "execution_count": null,
      "metadata": {
        "id": "euYy4wvJKBHf"
      },
      "outputs": [],
      "source": [
        "# calculation of accuracy for individual sensors\n",
        "accuracy_without_sensor_selection_individual_1 = accuracy_without_sensor_selection_total[0][1]\n",
        "accuracy_without_sensor_selection_individual_2 = accuracy_without_sensor_selection_total[1][1]"
      ]
    },
    {
      "cell_type": "markdown",
      "metadata": {
        "id": "bG7aUi-_dvVb"
      },
      "source": [
        "Comparison"
      ]
    },
    {
      "cell_type": "code",
      "execution_count": null,
      "metadata": {
        "id": "uURPYj3OQoEx"
      },
      "outputs": [],
      "source": [
        "plot(accuracy_with_sensor_selection, \"*\", \"#288fb8\", \"Evaluation Duration (5 min)\", \"Accuracy\", \"With Sensor Selection\")\n",
        "plot(accuracy_without_sensor_selection, \".\", \"#f3cc60\", \"Evaluation Duration (5 min)\", \"Accuracy\", \"Without Sensor Selection\")\n",
        "plt.show()"
      ]
    },
    {
      "cell_type": "code",
      "execution_count": null,
      "metadata": {
        "id": "z7pjYsWNQoEx",
        "colab": {
          "base_uri": "https://localhost:8080/",
          "height": 279
        },
        "outputId": "04dfd6cc-1187-4821-edc7-2ad6932c957e"
      },
      "outputs": [
        {
          "output_type": "display_data",
          "data": {
            "text/plain": [
              "<Figure size 432x288 with 1 Axes>"
            ],
            "image/png": "[encoded data removed]"
          },
          "metadata": {}
        }
      ],
      "source": [
        "plot(time_consumption_with_sensor_selection, \"*\", \"#288fb8\", \"Time Interval\", \"Computation Cost (seconds)\", \"UniPreCIS\")\n",
        "plot(time_consumption_without_sensor_selection, \".\", \"#f3cc60\", \"Time Interval\", \"Computation Cost (seconds)\", \"Without Sensor Selection\")\n",
        "plt.show()"
      ]
    },
    {
      "cell_type": "code",
      "execution_count": null,
      "metadata": {
        "id": "fYLqEVpEqPkb"
      },
      "outputs": [],
      "source": [
        "plot(memory_consumption_with_sensor_selection, \"*\", \"#288fb8\", \"Evaluation Duration (5 min)\", \"Memory Consumption (data points)\", \"With Sensor Selection\")\n",
        "plot(memory_consumption_without_sensor_selection, \".\", \"#f3cc60\", \"Evaluation Duration (5 min)\", \"Memory Consumption (data points)\", \"Without Sensor Selection\")\n",
        "plt.show()"
      ]
    },
    {
      "cell_type": "code",
      "execution_count": null,
      "metadata": {
        "id": "3ljANZ02gilT"
      },
      "outputs": [],
      "source": [
        "plot(cpu_consumption_with_sensor_selection, \"*\", \"#288fb8\", \"Evaluation Duration (5 min)\", \"CPU Consumption (percentage)\", \"With Sensor Selection\")\n",
        "plot(cpu_consumption_without_sensor_selection, \".\", \"#f3cc60\", \"Evaluation Duration (5 min)\", \"CPU Consumption (percentage)\", \"Without Sensor Selection\")\n",
        "plot_average(cpu_consumption_with_sensor_selection, \"#FEC5E5\", \"Avg. with Sensor Selection\")\n",
        "plot_average(cpu_consumption_without_sensor_selection, \"#FE7F9C\", \"Avg. without Sensor Selection\")\n",
        "plt.show()"
      ]
    },
    {
      "cell_type": "code",
      "execution_count": null,
      "metadata": {
        "id": "pmczNtYvQoEy"
      },
      "outputs": [],
      "source": [
        "rf_accuracy = two_d_list_to_dataframe(accuracy_with_sensor_selection, accuracy_without_sensor_selection, accuracy_without_sensor_selection_individual_1, accuracy_without_sensor_selection_individual_2, \"Interval\", \"RF_with_sensor_selection\", \"RF_without_sensor_selection\", \"RF_without_sensor_selection_sensor_1\", \"RF_without_sensor_selection_sensor_2\")"
      ]
    },
    {
      "cell_type": "code",
      "execution_count": null,
      "metadata": {
        "id": "tkHe52yBQoEy"
      },
      "outputs": [],
      "source": [
        "print(rf_accuracy)"
      ]
    },
    {
      "cell_type": "markdown",
      "metadata": {
        "id": "bVW_OwUqtC_k"
      },
      "source": [
        "SVM"
      ]
    },
    {
      "cell_type": "markdown",
      "metadata": {
        "id": "yH4rgEtatC_r"
      },
      "source": [
        "Train set 2"
      ]
    },
    {
      "cell_type": "code",
      "execution_count": null,
      "metadata": {
        "id": "chWdcpDIo7aM",
        "colab": {
          "base_uri": "https://localhost:8080/"
        },
        "outputId": "606a2e06-23da-4a3a-cccc-043539c53b9f"
      },
      "outputs": [
        {
          "output_type": "execute_result",
          "data": {
            "text/plain": [
              "SVC()"
            ]
          },
          "metadata": {},
          "execution_count": 443
        }
      ],
      "source": [
        "model = SVC()\n",
        "model.fit(train_X_sensor_selection, train_y_sensor_selection)"
      ]
    },
    {
      "cell_type": "code",
      "execution_count": null,
      "metadata": {
        "id": "9hJ0csVhtC_r",
        "colab": {
          "base_uri": "https://localhost:8080/"
        },
        "outputId": "24086a76-5d94-4024-a9df-d0dd372da1a3"
      },
      "outputs": [
        {
          "output_type": "stream",
          "name": "stdout",
          "text": [
            "[INFO] Iteration Number: 0\n",
            "Time: 0.002731800079345703\n",
            "Memory Usage: 912\n",
            "Score: 1.0\n",
            "The CPU usage is:  2.6\n",
            "[INFO] Iteration Number: 1\n",
            "Time: 0.00621342658996582\n",
            "Memory Usage: 2040\n",
            "Score: 1.0\n",
            "The CPU usage is:  2.0\n",
            "[INFO] Iteration Number: 2\n",
            "Time: 0.00829315185546875\n",
            "Memory Usage: 2880\n",
            "Score: 1.0\n",
            "The CPU usage is:  1.4\n",
            "[INFO] Iteration Number: 3\n",
            "Time: 0.004014253616333008\n",
            "Memory Usage: 3984\n",
            "Score: 1.0\n",
            "The CPU usage is:  2.2\n",
            "[INFO] Iteration Number: 4\n",
            "Time: 0.0041468143463134766\n",
            "Memory Usage: 5232\n",
            "Score: 1.0\n",
            "The CPU usage is:  1.8\n",
            "[INFO] Iteration Number: 5\n",
            "Time: 0.003007650375366211\n",
            "Memory Usage: 6408\n",
            "Score: 1.0\n",
            "The CPU usage is:  1.9\n",
            "[INFO] Iteration Number: 6\n",
            "Time: 0.0030488967895507812\n",
            "Memory Usage: 7632\n",
            "Score: 1.0\n",
            "The CPU usage is:  1.7\n",
            "[INFO] Iteration Number: 7\n",
            "Time: 0.00298309326171875\n",
            "Memory Usage: 8664\n",
            "Score: 1.0\n",
            "The CPU usage is:  2.2\n",
            "[INFO] Iteration Number: 8\n",
            "Time: 0.0063402652740478516\n",
            "Memory Usage: 9624\n",
            "Score: 1.0\n",
            "The CPU usage is:  1.6\n",
            "[INFO] Iteration Number: 9\n",
            "Time: 0.010546445846557617\n",
            "Memory Usage: 10704\n",
            "Score: 1.0\n",
            "The CPU usage is:  1.9\n",
            "[INFO] Iteration Number: 10\n",
            "Time: 0.006369829177856445\n",
            "Memory Usage: 11544\n",
            "Score: 1.0\n",
            "The CPU usage is:  1.5\n",
            "[INFO] Iteration Number: 11\n",
            "Time: 0.002876758575439453\n",
            "Memory Usage: 12648\n",
            "Score: 1.0\n",
            "The CPU usage is:  11.4\n",
            "[INFO] Iteration Number: 12\n",
            "Time: 0.004442691802978516\n",
            "Memory Usage: 13704\n",
            "Score: 1.0\n",
            "The CPU usage is:  16.9\n",
            "[INFO] Iteration Number: 13\n",
            "Time: 0.003058195114135742\n",
            "Memory Usage: 14760\n",
            "Score: 1.0\n",
            "The CPU usage is:  1.8\n",
            "[INFO] Iteration Number: 14\n",
            "Time: 0.0058841705322265625\n",
            "Memory Usage: 18360\n",
            "Score: 0.14666666666666667\n",
            "The CPU usage is:  1.9\n"
          ]
        }
      ],
      "source": [
        "accuracy_with_sensor_selection, time_consumption_with_sensor_selection, memory_consumption_with_sensor_selection, cpu_consumption_with_sensor_selection = machine_learning_with_sensor_selection(start_time, end_time, t, sample_df, model)"
      ]
    },
    {
      "cell_type": "code",
      "execution_count": null,
      "metadata": {
        "id": "KRiHlP5itC_s"
      },
      "outputs": [],
      "source": [
        "print(accuracy_with_sensor_selection)"
      ]
    },
    {
      "cell_type": "code",
      "execution_count": null,
      "metadata": {
        "id": "cZXYINWltC_s"
      },
      "outputs": [],
      "source": [
        "print(time_consumption_with_sensor_selection)"
      ]
    },
    {
      "cell_type": "code",
      "execution_count": null,
      "metadata": {
        "id": "9FFEKBr2tC_s"
      },
      "outputs": [],
      "source": [
        "plot(accuracy_with_sensor_selection, \"*\", \"#288fb8\", \"Evaluation Duration (5 min)\", \"Accuracy\", \"With Sensor Selection\")"
      ]
    },
    {
      "cell_type": "code",
      "execution_count": null,
      "metadata": {
        "id": "QHwsWWMitC_s",
        "colab": {
          "base_uri": "https://localhost:8080/"
        },
        "outputId": "7910c5bb-6f9a-4809-9c4d-3dbdb46d2d19"
      },
      "outputs": [
        {
          "output_type": "stream",
          "name": "stdout",
          "text": [
            "Average accuracy with sensor selection: 0.9431111111111111\n"
          ]
        }
      ],
      "source": [
        "accuracy_with_sensor_selection_array = np.array(accuracy_with_sensor_selection)\n",
        "x = accuracy_with_sensor_selection_array[:, 0]\n",
        "print(\"Average accuracy with sensor selection:\", sum(x)/len(accuracy_with_sensor_selection))"
      ]
    },
    {
      "cell_type": "code",
      "execution_count": null,
      "metadata": {
        "id": "C5TZh4CGq0Mj",
        "colab": {
          "base_uri": "https://localhost:8080/"
        },
        "outputId": "bbfe206f-76f8-4412-814b-73215133f9ee"
      },
      "outputs": [
        {
          "output_type": "stream",
          "name": "stdout",
          "text": [
            "0.4298540965207632\n"
          ]
        }
      ],
      "source": [
        "#####EDIT#######\n",
        "df_compare = pd.DataFrame()\n",
        "df_compare[\"temp\"] = sample_df[\"51_temp\"]\n",
        "df_compare[\"humidity\"] = sample_df[\"51_humidity\"]\n",
        "y_compare = sample_df[\"number of person\"]\n",
        "\n",
        "pred = model.predict(df_compare)\n",
        "print(accuracy_score(y_compare, pred))"
      ]
    },
    {
      "cell_type": "code",
      "execution_count": null,
      "metadata": {
        "id": "7p8wAdcktC_s"
      },
      "outputs": [],
      "source": [
        "plot(time_consumption_with_sensor_selection, \"*\", \"#288fb8\", \"Evaluation Duration (5 min)\", \"Time Consumption (seconds)\", \"With Sensor Selection\")"
      ]
    },
    {
      "cell_type": "code",
      "execution_count": null,
      "metadata": {
        "id": "-RMVHh71hO3V"
      },
      "outputs": [],
      "source": [
        "plot(memory_consumption_with_sensor_selection, \"*\", \"#288fb8\", \"Evaluation Duration (5 min)\", \"Memory Consumption (data points)\", \"With Sensor Selection\")"
      ]
    },
    {
      "cell_type": "code",
      "execution_count": null,
      "metadata": {
        "id": "XKO6bHiUhO02"
      },
      "outputs": [],
      "source": [
        "plot(cpu_consumption_with_sensor_selection, \"*\", \"#288fb8\", \"Evaluation Duration (5 min)\", \"CPU Consumption (percentage)\", \"With Sensor Selection\")"
      ]
    },
    {
      "cell_type": "code",
      "execution_count": null,
      "metadata": {
        "id": "4ZSdSnXqtC_s",
        "colab": {
          "base_uri": "https://localhost:8080/"
        },
        "outputId": "c88fe5d3-82ae-45e5-b983-0ee306d499a0"
      },
      "outputs": [
        {
          "output_type": "stream",
          "name": "stdout",
          "text": [
            "[INFO] Iteration Number: 0\n",
            "Time: 0.011799335479736328\n",
            "Memory Usage: 2736\n",
            "CPU Utlization: 2.1\n",
            "Score: 1.0\n",
            "[INFO] Iteration Number: 1\n",
            "Time: 0.017855405807495117\n",
            "Memory Usage: 6120\n",
            "CPU Utlization: 1.9\n",
            "Score: 1.0\n",
            "[INFO] Iteration Number: 2\n",
            "Time: 0.017261505126953125\n",
            "Memory Usage: 8640\n",
            "CPU Utlization: 1.5\n",
            "Score: 1.0\n",
            "[INFO] Iteration Number: 3\n",
            "Time: 0.016088008880615234\n",
            "Memory Usage: 11952\n",
            "CPU Utlization: 1.9\n",
            "Score: 1.0\n",
            "[INFO] Iteration Number: 4\n",
            "Time: 0.019566059112548828\n",
            "Memory Usage: 15696\n",
            "CPU Utlization: 2.0\n",
            "Score: 1.0\n",
            "[INFO] Iteration Number: 5\n",
            "Time: 0.01749706268310547\n",
            "Memory Usage: 19224\n",
            "CPU Utlization: 1.8\n",
            "Score: 1.0\n",
            "[INFO] Iteration Number: 6\n",
            "Time: 0.01851034164428711\n",
            "Memory Usage: 22896\n",
            "CPU Utlization: 1.6\n",
            "Score: 1.0\n",
            "[INFO] Iteration Number: 7\n",
            "Time: 0.019367218017578125\n",
            "Memory Usage: 25992\n",
            "CPU Utlization: 1.7\n",
            "Score: 0.5581395348837209\n",
            "[INFO] Iteration Number: 8\n",
            "Time: 0.01656508445739746\n",
            "Memory Usage: 28872\n",
            "CPU Utlization: 2.1\n",
            "Score: 0.0\n",
            "[INFO] Iteration Number: 9\n",
            "Time: 0.016667842864990234\n",
            "Memory Usage: 32112\n",
            "CPU Utlization: 1.5\n",
            "Score: 0.0\n",
            "[INFO] Iteration Number: 10\n",
            "Time: 0.015839338302612305\n",
            "Memory Usage: 34632\n",
            "CPU Utlization: 2.0\n",
            "Score: 0.0\n",
            "[INFO] Iteration Number: 11\n",
            "Time: 0.019006729125976562\n",
            "Memory Usage: 37944\n",
            "CPU Utlization: 1.4\n",
            "Score: 0.0\n",
            "[INFO] Iteration Number: 12\n",
            "Time: 0.017900943756103516\n",
            "Memory Usage: 41112\n",
            "CPU Utlization: 1.9\n",
            "Score: 0.0\n",
            "[INFO] Iteration Number: 13\n",
            "Time: 0.01827859878540039\n",
            "Memory Usage: 44280\n",
            "CPU Utlization: 3.1\n",
            "Score: 0.0\n",
            "[INFO] Iteration Number: 14\n",
            "Time: 0.021780014038085938\n",
            "Memory Usage: 55080\n",
            "CPU Utlization: 1.9\n",
            "Score: 0.8533333333333334\n"
          ]
        }
      ],
      "source": [
        "accuracy_without_sensor_selection, time_consumption_without_sensor_selection, memory_consumption_without_sensor_selection, cpu_consumption_without_sensor_selection = machine_learning_without_sensor_selection(start_time, end_time, t, sample_df, model)"
      ]
    },
    {
      "cell_type": "code",
      "execution_count": null,
      "metadata": {
        "id": "Y4ef3MQ1tC_s"
      },
      "outputs": [],
      "source": [
        "print(accuracy_without_sensor_selection)"
      ]
    },
    {
      "cell_type": "code",
      "execution_count": null,
      "metadata": {
        "id": "ebzxvtQ7tC_s"
      },
      "outputs": [],
      "source": [
        "print(time_consumption_without_sensor_selection)"
      ]
    },
    {
      "cell_type": "code",
      "execution_count": null,
      "metadata": {
        "id": "-M7Qn7lTtC_t"
      },
      "outputs": [],
      "source": [
        "plot(accuracy_without_sensor_selection, \".\", \"#f3cc60\", \"Evaluation Duration (5 min)\", \"Accuracy\", \"Without Sensor Selection\")"
      ]
    },
    {
      "cell_type": "code",
      "execution_count": null,
      "metadata": {
        "id": "Q0clZkwZtC_t",
        "colab": {
          "base_uri": "https://localhost:8080/"
        },
        "outputId": "a0927a2b-1d09-44f5-9069-a0735e4b1b10"
      },
      "outputs": [
        {
          "output_type": "stream",
          "name": "stdout",
          "text": [
            "Average accuracy without sensor selection: 0.560764857881137\n"
          ]
        }
      ],
      "source": [
        "accuracy_without_sensor_selection_array = np.array(accuracy_without_sensor_selection)\n",
        "x = accuracy_without_sensor_selection_array[:, 0]\n",
        "print(\"Average accuracy without sensor selection:\", sum(x)/len(accuracy_without_sensor_selection))"
      ]
    },
    {
      "cell_type": "code",
      "execution_count": null,
      "metadata": {
        "id": "J5qzlHrZtC_t"
      },
      "outputs": [],
      "source": [
        "plot(time_consumption_without_sensor_selection, \".\", \"#f3cc60\", \"Evaluation Duration (5 min)\", \"Time Consumption (seconds)\", \"Without Sensor Selection\")"
      ]
    },
    {
      "cell_type": "code",
      "execution_count": null,
      "metadata": {
        "id": "L18kuJpvtC_t"
      },
      "outputs": [],
      "source": [
        "plot(memory_consumption_without_sensor_selection, \".\", \"#f3cc60\", \"Evaluation Duration (5 min)\", \"Memory Consumption (data points)\", \"Without Sensor Selection\")"
      ]
    },
    {
      "cell_type": "code",
      "execution_count": null,
      "metadata": {
        "id": "Dyi5By8QhV54"
      },
      "outputs": [],
      "source": [
        "plot(cpu_consumption_without_sensor_selection, \".\", \"#f3cc60\", \"Evaluation Duration (5 min)\", \"CPU Consumption (percentage)\", \"Without Sensor Selection\")"
      ]
    },
    {
      "cell_type": "code",
      "execution_count": null,
      "metadata": {
        "id": "GdXDWcN2Dw4f"
      },
      "outputs": [],
      "source": [
        "accuracy_without_sensor_selection_total, time_consumption_without_sensor_selection_total, memory_consumption_without_sensor_selection_total, cpu_consumption_without_sensor_selection_total = machine_learning_without_sensor_selection_individual(start_time, end_time, t, df, SVC(), train_set_2_X, train_set_2_y, 2)"
      ]
    },
    {
      "cell_type": "code",
      "execution_count": null,
      "metadata": {
        "id": "4opYY20xKGf1"
      },
      "outputs": [],
      "source": [
        "# calculation of accuracy for individual sensors\n",
        "accuracy_without_sensor_selection_individual_1 = accuracy_without_sensor_selection_total[0][1]\n",
        "accuracy_without_sensor_selection_individual_2 = accuracy_without_sensor_selection_total[1][1]"
      ]
    },
    {
      "cell_type": "code",
      "execution_count": null,
      "metadata": {
        "id": "EdS11WGZtC_t"
      },
      "outputs": [],
      "source": [
        "plot(accuracy_with_sensor_selection, \"*\", \"#288fb8\", \"Evaluation Duration (5 min)\", \"Accuracy\", \"With Sensor Selection\")\n",
        "plot(accuracy_without_sensor_selection, \".\", \"#f3cc60\", \"Evaluation Duration (5 min)\", \"Accuracy\", \"Without Sensor Selection\")\n",
        "plt.show()"
      ]
    },
    {
      "cell_type": "code",
      "execution_count": null,
      "metadata": {
        "id": "YzG3AWmitC_t",
        "colab": {
          "base_uri": "https://localhost:8080/",
          "height": 281
        },
        "outputId": "5a723c84-bf7f-4637-e67b-08868bc2cc8a"
      },
      "outputs": [
        {
          "output_type": "display_data",
          "data": {
            "text/plain": [
              "<Figure size 432x288 with 1 Axes>"
            ],
            "image/png": "[encoded data removed]"
          },
          "metadata": {}
        }
      ],
      "source": [
        "plot(time_consumption_with_sensor_selection, \"*\", \"#288fb8\", \"Time Interval\", \"Computation Cost (seconds)\", \"UniPreCIS\")\n",
        "plot(time_consumption_without_sensor_selection, \".\", \"#f3cc60\", \"Time Interval\", \"Computation Cost (seconds)\", \"Without Sensor Selection\")\n",
        "plt.show()"
      ]
    },
    {
      "cell_type": "code",
      "execution_count": null,
      "metadata": {
        "id": "BQGtgPWMtC_t",
        "colab": {
          "base_uri": "https://localhost:8080/",
          "height": 279
        },
        "outputId": "a0dc4860-32d2-4fbe-8078-38fd861bbb87"
      },
      "outputs": [
        {
          "output_type": "display_data",
          "data": {
            "text/plain": [
              "<Figure size 432x288 with 1 Axes>"
            ],
            "image/png": "[encoded data removed]"
          },
          "metadata": {}
        }
      ],
      "source": [
        "plot(memory_consumption_with_sensor_selection, \"*\", \"#288fb8\", \"Time Interval\", \"Number of datapoints processed\", \"UniPreCIS\")\n",
        "plot(memory_consumption_without_sensor_selection, \".\", \"#f3cc60\", \"Time Interval\", \"Number of datapoints processed\", \"Without Sensor Selection\")\n",
        "plt.show()"
      ]
    },
    {
      "cell_type": "code",
      "execution_count": null,
      "metadata": {
        "id": "0TaOWE1YhYjp"
      },
      "outputs": [],
      "source": [
        "plot(cpu_consumption_with_sensor_selection, \"*\", \"#288fb8\", \"Evaluation Duration (5 min)\", \"CPU Consumption (percentage)\", \"With Sensor Selection\")\n",
        "plot(cpu_consumption_without_sensor_selection, \".\", \"#f3cc60\", \"Evaluation Duration (5 min)\", \"CPU Consumption (percentage)\", \"Without Sensor Selection\")\n",
        "plot_average(cpu_consumption_with_sensor_selection, \"#FEC5E5\", \"Avg. with Sensor Selection\")\n",
        "plot_average(cpu_consumption_without_sensor_selection, \"#FE7F9C\", \"Avg. without Sensor Selection\")\n",
        "plt.show()"
      ]
    },
    {
      "cell_type": "code",
      "execution_count": null,
      "metadata": {
        "id": "AJWmaTlltC_u"
      },
      "outputs": [],
      "source": [
        "svc_accuracy = two_d_list_to_dataframe(accuracy_with_sensor_selection, accuracy_without_sensor_selection, accuracy_without_sensor_selection_individual_1, accuracy_without_sensor_selection_individual_2, \"Interval\", \"SVC_with_sensor_selection\", \"SVC_without_sensor_selection\", \"SVC_without_sensor_selection_sensor_1\", \"SVC_without_sensor_selection_2\")"
      ]
    },
    {
      "cell_type": "code",
      "execution_count": null,
      "metadata": {
        "id": "zRNfuOK3tC_v"
      },
      "outputs": [],
      "source": [
        "print(svc_accuracy)"
      ]
    },
    {
      "cell_type": "code",
      "execution_count": null,
      "metadata": {
        "id": "MRhv_YULuK4f"
      },
      "outputs": [],
      "source": [
        "accuracy_table = knn_accuracy.merge(dt_accuracy, on = \"Interval\").merge(rf_accuracy, on = \"Interval\").merge(svc_accuracy, on = \"Interval\")"
      ]
    },
    {
      "cell_type": "code",
      "execution_count": null,
      "metadata": {
        "id": "8haccBL0ugpY"
      },
      "outputs": [],
      "source": [
        "print(accuracy_table.head())"
      ]
    },
    {
      "cell_type": "code",
      "execution_count": null,
      "metadata": {
        "id": "pEMcaatRujPw"
      },
      "outputs": [],
      "source": [
        "print(accuracy_table.columns)"
      ]
    },
    {
      "cell_type": "code",
      "execution_count": null,
      "metadata": {
        "id": "gbn0S5Zkumtc"
      },
      "outputs": [],
      "source": [
        "accuracy_table"
      ]
    },
    {
      "cell_type": "code",
      "execution_count": null,
      "metadata": {
        "id": "Ous8EABrcwP_"
      },
      "outputs": [],
      "source": [
        "print(accuracy_table.columns)"
      ]
    },
    {
      "cell_type": "code",
      "execution_count": null,
      "metadata": {
        "id": "7BdAvvTSc9Xq"
      },
      "outputs": [],
      "source": [
        "print(\"KNN With Sensor Selection:\", accuracy_table[\"KNN_with_sensor_selection\"].mean())\n",
        "print(\"KNN Without Sensor Selection:\", accuracy_table[\"KNN_without_sensor_selection\"].mean())\n",
        "print(\"KNN Without Sensor Selection Sensor-1\", accuracy_table[\"KNN_without_sensor_selection_sensor_1\"].mean())\n",
        "print(\"KNN Without Sensor Selection Sensor-2\", accuracy_table[\"KNN_without_sensor_selection_sensor_2\"].mean())\n",
        "\n",
        "print(\"DT With Sensor Selection:\", accuracy_table[\"DT_with_sensor_selection\"].mean())\n",
        "print(\"DT Without Sensor Selection:\", accuracy_table[\"DT_without_sensor_selection\"].mean())\n",
        "print(\"DT Without Sensor Selection Sensor-1\", accuracy_table[\"DT_without_sensor_selection_senor_1\"].mean())\n",
        "print(\"DT Without Sensor Selection Sensor-2\", accuracy_table[\"DT_without_sensor_selection_sensor_2\"].mean())\n",
        "\n",
        "print(\"RF With Sensor Selection:\", accuracy_table[\"RF_with_sensor_selection\"].mean())\n",
        "print(\"RF Without Sensor Selection:\", accuracy_table[\"RF_without_sensor_selection\"].mean())\n",
        "print(\"RF Without Sensor Selection Sensor-1\", accuracy_table[\"RF_without_sensor_selection_sensor_1\"].mean())\n",
        "print(\"RF Without Sensor Selection Sensor-2\", accuracy_table[\"RF_without_sensor_selection_sensor_2\"].mean())\n",
        "\n",
        "print(\"SVC With Sensor Selection:\", accuracy_table[\"SVC_with_sensor_selection\"].mean())\n",
        "print(\"SVC Without Sensor Selection:\", accuracy_table[\"SVC_without_sensor_selection\"].mean())\n",
        "print(\"SVC Without Sensor Selection Sensor-1\", accuracy_table[\"SVC_without_sensor_selection_sensor_1\"].mean())\n",
        "print(\"SVC Without Sensor Selection Sensor-2\", accuracy_table[\"SVC_without_sensor_selection_2\"].mean())"
      ]
    },
    {
      "cell_type": "code",
      "execution_count": null,
      "metadata": {
        "id": "zRL-PnNhvq1s"
      },
      "outputs": [],
      "source": [
        "accuracy_dataframe = pd.DataFrame({\n",
        "    \"Machine Learning Model\" : [\"K Nearest Neighbors Classifier\", \"Decision Tree Classifier\", \"Random Forest Classifier\", \"SVM Classifier\"],\n",
        "    \"With Sensor Selection\" : [90.54, 95.04, 95.27, 50.23],\n",
        "    \"Without Sensor Selection\": [73.01, 74.55, 81.98, 50.23],\n",
        "    \"Without Sensor Selection (Sensor-1)\" : [44.00, 74.54, 74.99, 74.99],\n",
        "    \"Without Sensor Selection (Sensor-2)\": [90.54, 95.04, 95.04, 95.04]\n",
        "})"
      ]
    },
    {
      "cell_type": "code",
      "execution_count": null,
      "metadata": {
        "id": "lWTzAU2eoMcA"
      },
      "outputs": [],
      "source": [
        "accuracy_dataframe"
      ]
    },
    {
      "cell_type": "code",
      "execution_count": null,
      "metadata": {
        "id": "Ca6bjWb-xKUl"
      },
      "outputs": [],
      "source": [
        "accuracy_dataframe = pd.DataFrame({\n",
        "    \"Machine Learning Model\" : [\"K Nearest Neighbors Classifier\", \"Decision Tree Classifier\", \"Random Forest Classifier\", \"SVM Classifier\", \"Logistic Regression\", \"Naive Bayes\", \"XGBoost\"],\n",
        "    \"Our Approach\" : [85.36, 93.02, 93.24, 50.23, 70.95, 69.59, 91.66],\n",
        "    \"TOPSIS\": [67.44, 68.22, 77.25, 50.23, 52.71, 61.24, 72.86],\n",
        "    \"Without Sensor Selection\":[76.35, 72.48, 72.88, 52.72, 64.86, 66.89, 76.35]\n",
        "})"
      ]
    },
    {
      "cell_type": "code",
      "execution_count": null,
      "metadata": {
        "id": "9yxXTb2hD0_U"
      },
      "outputs": [],
      "source": [
        "accuracy_dataframe"
      ]
    },
    {
      "cell_type": "code",
      "execution_count": null,
      "metadata": {
        "id": "auiHWe04mNgq"
      },
      "outputs": [],
      "source": [
        "df"
      ]
    },
    {
      "cell_type": "markdown",
      "metadata": {
        "id": "3pkA5TwpZX9M"
      },
      "source": [
        "Comparison Approach"
      ]
    },
    {
      "cell_type": "code",
      "execution_count": null,
      "metadata": {
        "id": "OTvgX6Os8f2S"
      },
      "outputs": [],
      "source": [
        "#calculation of attributes: accuracy\n",
        "def accuracy_attr(df, sensor, threshold=0.1):\n",
        "  start = start_time\n",
        "  window = datetime.timedelta(hours = 1, minutes = 0, seconds = 0)\n",
        "  end = start_time + window\n",
        "\n",
        "  df_ = df.loc[(df[\"Time\"] >= start) & (df[\"Time\"] < end)]\n",
        "  mean = np.mean(df_[sensor])\n",
        "  sensor_value = np.array(df_[sensor])\n",
        "  correct_incorrect = sensor_value - mean\n",
        "  correct = (correct_incorrect <= threshold).sum()\n",
        "  acc_atr = correct/sensor_value.shape[0]\n",
        "\n",
        "  #print(acc_atr)\n",
        "  return acc_atr"
      ]
    },
    {
      "cell_type": "code",
      "execution_count": null,
      "metadata": {
        "id": "9-iY-I6b_5KZ"
      },
      "outputs": [],
      "source": [
        "#calculation of attribyes: reliability\n",
        "def reliability_attr(df, sensor):\n",
        "\n",
        "  start = start_time\n",
        "  window = datetime.timedelta(hours = 1, minutes = 0, seconds = 0)\n",
        "  end = start_time + window\n",
        "\n",
        "  df_ = df.loc[(df[\"Time\"] >= start) & (df[\"Time\"] < end)]\n",
        "\n",
        "  #print(df_.shape[0])\n",
        "  return df_.shape[0]"
      ]
    },
    {
      "cell_type": "code",
      "execution_count": null,
      "metadata": {
        "id": "3kiGBYwwBW85",
        "colab": {
          "base_uri": "https://localhost:8080/"
        },
        "outputId": "c7f38249-60cf-4a81-eb65-09840745239b"
      },
      "outputs": [
        {
          "output_type": "stream",
          "name": "stdout",
          "text": [
            "0.5593495934959349 615\n",
            "0.6959349593495935 615\n",
            "0.5219512195121951 615\n",
            "0.6276422764227643 615\n",
            "0.7398373983739838 615\n",
            "0.5056910569105691 615\n"
          ]
        }
      ],
      "source": [
        "#calculating attrs\n",
        "#c1 -> accuracy\n",
        "#c2 -> reliability\n",
        "\n",
        "#for temperature\n",
        "a11 = accuracy_attr(df, \"52_temp\")   #acc 22\n",
        "a12 = reliability_attr(df, \"52_temp\") #reliability 22\n",
        "\n",
        "a21 = accuracy_attr(df, \"51_temp\")   #acc 21\n",
        "a22 = reliability_attr(df, \"51_temp\") #reliability 21\n",
        "\n",
        "a31 = accuracy_attr(df, \"50_temp\")   #acc 20\n",
        "a32 = reliability_attr(df, \"50_temp\") #reliability 20\n",
        "\n",
        "print(a11, a12)\n",
        "print(a21, a22)\n",
        "print(a31, a32)\n",
        "\n",
        "#for humidity\n",
        "a11 = accuracy_attr(df, \"52_humidity\")   #acc 22\n",
        "a12 = reliability_attr(df, \"52_humidity\") #reliability 22\n",
        "\n",
        "a21 = accuracy_attr(df, \"51_humidity\")   #acc 21\n",
        "a22 = reliability_attr(df, \"51_humidity\") #reliability 21\n",
        "\n",
        "a31 = accuracy_attr(df, \"50_humidity\")   #acc 20\n",
        "a32 = reliability_attr(df, \"50_humidity\") #reliability 20\n",
        "\n",
        "print(a11, a12)\n",
        "print(a21, a22)\n",
        "print(a31, a32)"
      ]
    },
    {
      "cell_type": "code",
      "execution_count": null,
      "metadata": {
        "id": "ee0QuvnHD9G1"
      },
      "outputs": [],
      "source": [
        "#topsis algorithm\n",
        "def topsis_algorithm(decision_matrix_A):\n",
        "  \"\"\"\n",
        "  rows: correspond to the homogeneous sensors\n",
        "  columns: correspond to sensor attributes\n",
        "  \"\"\"\n",
        "\n",
        "  l, c = decision_matrix_A.shape    #l: number of rows; c: number of columns\n",
        "\n",
        "  print(\"Decision Matrix:\", decision_matrix_A)  #for debugging purposes\n",
        "\n",
        "  #step1: normalize the matrix A to A' according to the following equation 1:\n",
        "  for attribute in range(c):\n",
        "    normalization_factor = np.sqrt(np.square(decision_matrix_A[:,attribute]).sum())\n",
        "    decision_matrix_A[:,attribute] = decision_matrix_A[:,attribute]/normalization_factor\n",
        "  \n",
        "  print(\"Normalized Decision Matrix:\", decision_matrix_A)   #for debugging purposes\n",
        "\n",
        "  #step2: each sensor attribute's minimum values and maximum values in matric A' are calculated to get the \n",
        "  #optimal point and the worst point\n",
        "  a_plusj = np.max(decision_matrix_A, axis=0)\n",
        "  a_minusj = np.min(decision_matrix_A, axis=0)\n",
        "\n",
        "  print(\"a_+j:\", a_plusj)   #for debugging purposes\n",
        "  print(\"a_-j:\", a_minusj)  #for debugging purposes\n",
        "\n",
        "  #step3: euclidean distance of every sensor option to a_plusj and a_minusj are computed and represented by:\n",
        "  euclidean_distance = np.zeros((l, 2))\n",
        "  for sensor in range(l):\n",
        "    euclidean_distance[sensor][0] = np.sqrt(np.square(decision_matrix_A[sensor, :] - a_plusj).sum())\n",
        "    euclidean_distance[sensor][1] = np.sqrt(np.square(decision_matrix_A[sensor, :] - a_minusj).sum())\n",
        "  \n",
        "  print(\"Euclidean Distance:\", euclidean_distance)    #for debugging purposes\n",
        "\n",
        "  #step4: set a measurement index to characterize and sort each sensor option according to the computed value.\n",
        "  measurement_index = [ ]\n",
        "  for sensor in range(l):\n",
        "    measurement_index.append(euclidean_distance[sensor][1]/(euclidean_distance[sensor][0] + euclidean_distance[sensor][1]))\n",
        "\n",
        "  print(\"Measurement Index:\", measurement_index)  #for debugging purposes\n",
        "\n",
        "  print(\"sensor selected:\", measurement_index.index(min(measurement_index)))\n"
      ]
    },
    {
      "cell_type": "code",
      "execution_count": null,
      "metadata": {
        "id": "rZbdaJFU0HFI"
      },
      "outputs": [],
      "source": [
        "matrix = np.array([[-0.553475935828877, 82], [-0.6844919786096256, 82], [-0.553475935828877, 82]], dtype=float)\n",
        "topsis_algorithm(matrix)"
      ]
    },
    {
      "cell_type": "code",
      "execution_count": null,
      "metadata": {
        "id": "Aa9PBxy30xSK"
      },
      "outputs": [],
      "source": [
        "matrix = np.array([[1, 2, 3, 4], [5, 6, 7, 8]])\n",
        "matrix"
      ]
    },
    {
      "cell_type": "code",
      "execution_count": null,
      "metadata": {
        "id": "r6k7wztA1Ld4"
      },
      "outputs": [],
      "source": [
        "matrix[:, 0]/5.0990195135927845"
      ]
    },
    {
      "cell_type": "code",
      "execution_count": null,
      "metadata": {
        "id": "6AuHxgWEG8cR"
      },
      "outputs": [],
      "source": [
        "def machine_learning_with_sensor_selection_modif(start_time, end_time, t, df, model, X_train_mean, y_train_mean, sensor_selected):\n",
        "\n",
        "  model.fit(X_train_mean, y_train_mean)\n",
        "\n",
        "  #with sensor selection\n",
        "  df_compare = pd.DataFrame()\n",
        "\n",
        "  df_compare[\"temp\"] = df[sensor_selected[0]] #0 would be temp\n",
        "  df_compare[\"humidity\"] = df[sensor_selected[1]] #1 would be humidity\n",
        "  y_compare = df[\"number of people\"]\n",
        "\n",
        "  memory_consumption_with_sensor_selection = df_compare.memory_usage(index=True).sum()\n",
        "\n",
        "  start_time_estimate = time.time()\n",
        "  prediction_with_sensor_selection = model.predict(df_compare)\n",
        "  score_with_sensor_selection = accuracy_score(y_compare, prediction_with_sensor_selection)\n",
        "  end_time_estimate = time.time()\n",
        "\n",
        "  estimate = end_time_estimate - start_time_estimate \n",
        "\n",
        "  cpu_consumption_with_sensor_selection = psutil.cpu_percent(5)\n",
        "\n",
        "  accuracy_with_sensor_selection = score_with_sensor_selection\n",
        "  time_consumption_with_sensor_selection = estimate\n",
        "\n",
        "  return accuracy_with_sensor_selection, time_consumption_with_sensor_selection, memory_consumption_with_sensor_selection, cpu_consumption_with_sensor_selection"
      ]
    },
    {
      "cell_type": "code",
      "execution_count": null,
      "metadata": {
        "id": "OsLx0-3UYnM8"
      },
      "outputs": [],
      "source": []
    }
  ],
  "metadata": {
    "colab": {
      "provenance": []
    },
    "kernelspec": {
      "display_name": "Python 3",
      "name": "python3"
    },
    "language_info": {
      "name": "python"
    }
  },
  "nbformat": 4,
  "nbformat_minor": 0
}